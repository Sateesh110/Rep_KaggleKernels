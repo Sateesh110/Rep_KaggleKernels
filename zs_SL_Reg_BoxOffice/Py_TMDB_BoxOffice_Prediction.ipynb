{
 "cells": [
  {
   "cell_type": "markdown",
   "metadata": {
    "toc": true
   },
   "source": [
    "<h1>Table of Contents<span class=\"tocSkip\"></span></h1>\n",
    "<div class=\"toc\"><ul class=\"toc-item\"><li><span><a href=\"#Look-at-the-big-picture.\" data-toc-modified-id=\"Look-at-the-big-picture.-1\"><span class=\"toc-item-num\">1&nbsp;&nbsp;</span>Look at the big picture.</a></span><ul class=\"toc-item\"><li><span><a href=\"#Business-Need\" data-toc-modified-id=\"Business-Need-1.1\"><span class=\"toc-item-num\">1.1&nbsp;&nbsp;</span>Business Need</a></span></li><li><span><a href=\"#Assumptions\" data-toc-modified-id=\"Assumptions-1.2\"><span class=\"toc-item-num\">1.2&nbsp;&nbsp;</span>Assumptions</a></span></li><li><span><a href=\"#Model-Initial-Blueprint\" data-toc-modified-id=\"Model-Initial-Blueprint-1.3\"><span class=\"toc-item-num\">1.3&nbsp;&nbsp;</span>Model Initial Blueprint</a></span></li></ul></li><li><span><a href=\"#Import-Modules\" data-toc-modified-id=\"Import-Modules-2\"><span class=\"toc-item-num\">2&nbsp;&nbsp;</span>Import Modules</a></span></li><li><span><a href=\"#Get-the-Data\" data-toc-modified-id=\"Get-the-Data-3\"><span class=\"toc-item-num\">3&nbsp;&nbsp;</span>Get the Data</a></span></li><li><span><a href=\"#Exporlatory-Data-Analysis\" data-toc-modified-id=\"Exporlatory-Data-Analysis-4\"><span class=\"toc-item-num\">4&nbsp;&nbsp;</span>Exporlatory Data Analysis</a></span><ul class=\"toc-item\"><li><span><a href=\"#Meta-Data-Analysis\" data-toc-modified-id=\"Meta-Data-Analysis-4.1\"><span class=\"toc-item-num\">4.1&nbsp;&nbsp;</span>Meta Data Analysis</a></span><ul class=\"toc-item\"><li><ul class=\"toc-item\"><li><span><a href=\"#Observations:\" data-toc-modified-id=\"Observations:-4.1.0.1\"><span class=\"toc-item-num\">4.1.0.1&nbsp;&nbsp;</span>Observations:</a></span></li><li><span><a href=\"#Categorical-Attributes:\" data-toc-modified-id=\"Categorical-Attributes:-4.1.0.2\"><span class=\"toc-item-num\">4.1.0.2&nbsp;&nbsp;</span>Categorical Attributes:</a></span></li><li><span><a href=\"#Numerical-Attributes:\" data-toc-modified-id=\"Numerical-Attributes:-4.1.0.3\"><span class=\"toc-item-num\">4.1.0.3&nbsp;&nbsp;</span>Numerical Attributes:</a></span></li></ul></li></ul></li><li><span><a href=\"#Data-Visuals\" data-toc-modified-id=\"Data-Visuals-4.2\"><span class=\"toc-item-num\">4.2&nbsp;&nbsp;</span>Data Visuals</a></span></li><li><span><a href=\"#Plot-1:-Histograms\" data-toc-modified-id=\"Plot-1:-Histograms-4.3\"><span class=\"toc-item-num\">4.3&nbsp;&nbsp;</span>Plot 1: Histograms</a></span><ul class=\"toc-item\"><li><ul class=\"toc-item\"><li><span><a href=\"#Observations:\" data-toc-modified-id=\"Observations:-4.3.0.1\"><span class=\"toc-item-num\">4.3.0.1&nbsp;&nbsp;</span>Observations:</a></span></li></ul></li></ul></li><li><span><a href=\"#Plot-2:-Scatter-Plot-of-data-points\" data-toc-modified-id=\"Plot-2:-Scatter-Plot-of-data-points-4.4\"><span class=\"toc-item-num\">4.4&nbsp;&nbsp;</span>Plot 2: Scatter Plot of data points</a></span></li><li><span><a href=\"#Plot-3-:-Correlation-Matrix\" data-toc-modified-id=\"Plot-3-:-Correlation-Matrix-4.5\"><span class=\"toc-item-num\">4.5&nbsp;&nbsp;</span>Plot 3 : Correlation Matrix</a></span></li><li><span><a href=\"#Plot-4-:-Pandas-Scatter-Matrix\" data-toc-modified-id=\"Plot-4-:-Pandas-Scatter-Matrix-4.6\"><span class=\"toc-item-num\">4.6&nbsp;&nbsp;</span>Plot 4 : Pandas Scatter Matrix</a></span></li><li><span><a href=\"#Plot-5-:-Scatter-Matrix--Revenue-Vs-Budget\" data-toc-modified-id=\"Plot-5-:-Scatter-Matrix--Revenue-Vs-Budget-4.7\"><span class=\"toc-item-num\">4.7&nbsp;&nbsp;</span>Plot 5 : Scatter Matrix- Revenue Vs Budget</a></span></li></ul></li><li><span><a href=\"#Feature-Engineering\" data-toc-modified-id=\"Feature-Engineering-5\"><span class=\"toc-item-num\">5&nbsp;&nbsp;</span>Feature Engineering</a></span><ul class=\"toc-item\"><li><span><a href=\"#Copy-Train-set\" data-toc-modified-id=\"Copy-Train-set-5.1\"><span class=\"toc-item-num\">5.1&nbsp;&nbsp;</span>Copy Train set</a></span></li><li><span><a href=\"#Categorical-Transformations\" data-toc-modified-id=\"Categorical-Transformations-5.2\"><span class=\"toc-item-num\">5.2&nbsp;&nbsp;</span>Categorical Transformations</a></span><ul class=\"toc-item\"><li><span><a href=\"#genres\" data-toc-modified-id=\"genres-5.2.1\"><span class=\"toc-item-num\">5.2.1&nbsp;&nbsp;</span>genres</a></span><ul class=\"toc-item\"><li><span><a href=\"#Json-string-to-List\" data-toc-modified-id=\"Json-string-to-List-5.2.1.1\"><span class=\"toc-item-num\">5.2.1.1&nbsp;&nbsp;</span>Json string to List</a></span></li><li><span><a href=\"#fill-nulls-with-empty-list\" data-toc-modified-id=\"fill-nulls-with-empty-list-5.2.1.2\"><span class=\"toc-item-num\">5.2.1.2&nbsp;&nbsp;</span>fill nulls with empty list</a></span></li><li><span><a href=\"#One-Hot-encoding\" data-toc-modified-id=\"One-Hot-encoding-5.2.1.3\"><span class=\"toc-item-num\">5.2.1.3&nbsp;&nbsp;</span>One Hot-encoding</a></span></li><li><span><a href=\"#Add-the-values-to-Train-datset\" data-toc-modified-id=\"Add-the-values-to-Train-datset-5.2.1.4\"><span class=\"toc-item-num\">5.2.1.4&nbsp;&nbsp;</span>Add the values to Train datset</a></span></li></ul></li><li><span><a href=\"#production_companies\" data-toc-modified-id=\"production_companies-5.2.2\"><span class=\"toc-item-num\">5.2.2&nbsp;&nbsp;</span>production_companies</a></span><ul class=\"toc-item\"><li><span><a href=\"#Json-string-to-list\" data-toc-modified-id=\"Json-string-to-list-5.2.2.1\"><span class=\"toc-item-num\">5.2.2.1&nbsp;&nbsp;</span>Json string to list</a></span></li><li><span><a href=\"#fill-nulls-with-empty-list\" data-toc-modified-id=\"fill-nulls-with-empty-list-5.2.2.2\"><span class=\"toc-item-num\">5.2.2.2&nbsp;&nbsp;</span>fill nulls with empty list</a></span></li><li><span><a href=\"#length-of-list\" data-toc-modified-id=\"length-of-list-5.2.2.3\"><span class=\"toc-item-num\">5.2.2.3&nbsp;&nbsp;</span>length of list</a></span></li></ul></li><li><span><a href=\"#production_countries\" data-toc-modified-id=\"production_countries-5.2.3\"><span class=\"toc-item-num\">5.2.3&nbsp;&nbsp;</span>production_countries</a></span><ul class=\"toc-item\"><li><span><a href=\"#Json-string-to-list\" data-toc-modified-id=\"Json-string-to-list-5.2.3.1\"><span class=\"toc-item-num\">5.2.3.1&nbsp;&nbsp;</span>Json string to list</a></span></li><li><span><a href=\"#fill-nulls-with-empty-list\" data-toc-modified-id=\"fill-nulls-with-empty-list-5.2.3.2\"><span class=\"toc-item-num\">5.2.3.2&nbsp;&nbsp;</span>fill nulls with empty list</a></span></li><li><span><a href=\"#One-Hot-encoding\" data-toc-modified-id=\"One-Hot-encoding-5.2.3.3\"><span class=\"toc-item-num\">5.2.3.3&nbsp;&nbsp;</span>One Hot-encoding</a></span></li><li><span><a href=\"#Add-the-values-to-Train-datset\" data-toc-modified-id=\"Add-the-values-to-Train-datset-5.2.3.4\"><span class=\"toc-item-num\">5.2.3.4&nbsp;&nbsp;</span>Add the values to Train datset</a></span></li></ul></li><li><span><a href=\"#Keywords\" data-toc-modified-id=\"Keywords-5.2.4\"><span class=\"toc-item-num\">5.2.4&nbsp;&nbsp;</span>Keywords</a></span><ul class=\"toc-item\"><li><span><a href=\"#Json-string-to-list\" data-toc-modified-id=\"Json-string-to-list-5.2.4.1\"><span class=\"toc-item-num\">5.2.4.1&nbsp;&nbsp;</span>Json string to list</a></span></li><li><span><a href=\"#fill-nulls-with-empty-list\" data-toc-modified-id=\"fill-nulls-with-empty-list-5.2.4.2\"><span class=\"toc-item-num\">5.2.4.2&nbsp;&nbsp;</span>fill nulls with empty list</a></span></li><li><span><a href=\"#length-of-the-list\" data-toc-modified-id=\"length-of-the-list-5.2.4.3\"><span class=\"toc-item-num\">5.2.4.3&nbsp;&nbsp;</span>length of the list</a></span></li></ul></li><li><span><a href=\"#cast\" data-toc-modified-id=\"cast-5.2.5\"><span class=\"toc-item-num\">5.2.5&nbsp;&nbsp;</span>cast</a></span><ul class=\"toc-item\"><li><span><a href=\"#Json-string-to-dict\" data-toc-modified-id=\"Json-string-to-dict-5.2.5.1\"><span class=\"toc-item-num\">5.2.5.1&nbsp;&nbsp;</span>Json string to dict</a></span><ul class=\"toc-item\"><li><span><a href=\"#Main-Cast\" data-toc-modified-id=\"Main-Cast-5.2.5.1.1\"><span class=\"toc-item-num\">5.2.5.1.1&nbsp;&nbsp;</span>Main Cast</a></span></li></ul></li><li><span><a href=\"#fill-nulls-with-empty-list\" data-toc-modified-id=\"fill-nulls-with-empty-list-5.2.5.2\"><span class=\"toc-item-num\">5.2.5.2&nbsp;&nbsp;</span>fill nulls with empty list</a></span></li><li><span><a href=\"#Binary-Classification\" data-toc-modified-id=\"Binary-Classification-5.2.5.3\"><span class=\"toc-item-num\">5.2.5.3&nbsp;&nbsp;</span>Binary Classification</a></span></li></ul></li><li><span><a href=\"#crew\" data-toc-modified-id=\"crew-5.2.6\"><span class=\"toc-item-num\">5.2.6&nbsp;&nbsp;</span>crew</a></span><ul class=\"toc-item\"><li><span><a href=\"#Json-string-to-dict\" data-toc-modified-id=\"Json-string-to-dict-5.2.6.1\"><span class=\"toc-item-num\">5.2.6.1&nbsp;&nbsp;</span>Json string to dict</a></span></li><li><span><a href=\"#Director\" data-toc-modified-id=\"Director-5.2.6.2\"><span class=\"toc-item-num\">5.2.6.2&nbsp;&nbsp;</span>Director</a></span></li><li><span><a href=\"#fill-nulls-with-empty-list\" data-toc-modified-id=\"fill-nulls-with-empty-list-5.2.6.3\"><span class=\"toc-item-num\">5.2.6.3&nbsp;&nbsp;</span>fill nulls with empty list</a></span></li><li><span><a href=\"#Binary-Classification\" data-toc-modified-id=\"Binary-Classification-5.2.6.4\"><span class=\"toc-item-num\">5.2.6.4&nbsp;&nbsp;</span>Binary Classification</a></span></li></ul></li></ul></li><li><span><a href=\"#Decompose-Data/Time\" data-toc-modified-id=\"Decompose-Data/Time-5.3\"><span class=\"toc-item-num\">5.3&nbsp;&nbsp;</span>Decompose Data/Time</a></span></li><li><span><a href=\"#Duplicate-Records\" data-toc-modified-id=\"Duplicate-Records-5.4\"><span class=\"toc-item-num\">5.4&nbsp;&nbsp;</span>Duplicate Records</a></span></li><li><span><a href=\"#Status\" data-toc-modified-id=\"Status-5.5\"><span class=\"toc-item-num\">5.5&nbsp;&nbsp;</span>Status</a></span><ul class=\"toc-item\"><li><span><a href=\"#One-Hot-encoding-using\" data-toc-modified-id=\"One-Hot-encoding-using-5.5.1\"><span class=\"toc-item-num\">5.5.1&nbsp;&nbsp;</span>One Hot encoding using</a></span></li></ul></li><li><span><a href=\"#original_language\" data-toc-modified-id=\"original_language-5.6\"><span class=\"toc-item-num\">5.6&nbsp;&nbsp;</span>original_language</a></span></li><li><span><a href=\"#popularity\" data-toc-modified-id=\"popularity-5.7\"><span class=\"toc-item-num\">5.7&nbsp;&nbsp;</span>popularity</a></span></li><li><span><a href=\"#runtime\" data-toc-modified-id=\"runtime-5.8\"><span class=\"toc-item-num\">5.8&nbsp;&nbsp;</span>runtime</a></span></li><li><span><a href=\"#PipeLine\" data-toc-modified-id=\"PipeLine-5.9\"><span class=\"toc-item-num\">5.9&nbsp;&nbsp;</span>PipeLine</a></span><ul class=\"toc-item\"><li><span><a href=\"#Numerical-Pipeline\" data-toc-modified-id=\"Numerical-Pipeline-5.9.1\"><span class=\"toc-item-num\">5.9.1&nbsp;&nbsp;</span>Numerical Pipeline</a></span></li><li><span><a href=\"#ColumnTransformer\" data-toc-modified-id=\"ColumnTransformer-5.9.2\"><span class=\"toc-item-num\">5.9.2&nbsp;&nbsp;</span>ColumnTransformer</a></span></li></ul></li></ul></li><li><span><a href=\"#ML-Model\" data-toc-modified-id=\"ML-Model-6\"><span class=\"toc-item-num\">6&nbsp;&nbsp;</span>ML Model</a></span><ul class=\"toc-item\"><li><span><a href=\"#LinearRegression\" data-toc-modified-id=\"LinearRegression-6.1\"><span class=\"toc-item-num\">6.1&nbsp;&nbsp;</span>LinearRegression</a></span></li><li><span><a href=\"#DecisionTreeRegressor\" data-toc-modified-id=\"DecisionTreeRegressor-6.2\"><span class=\"toc-item-num\">6.2&nbsp;&nbsp;</span>DecisionTreeRegressor</a></span></li><li><span><a href=\"#RandomForestRegressor\" data-toc-modified-id=\"RandomForestRegressor-6.3\"><span class=\"toc-item-num\">6.3&nbsp;&nbsp;</span>RandomForestRegressor</a></span></li><li><span><a href=\"#SVR\" data-toc-modified-id=\"SVR-6.4\"><span class=\"toc-item-num\">6.4&nbsp;&nbsp;</span>SVR</a></span></li><li><span><a href=\"#GridSearchCV\" data-toc-modified-id=\"GridSearchCV-6.5\"><span class=\"toc-item-num\">6.5&nbsp;&nbsp;</span>GridSearchCV</a></span></li><li><span><a href=\"#RandomizedSearchCV\" data-toc-modified-id=\"RandomizedSearchCV-6.6\"><span class=\"toc-item-num\">6.6&nbsp;&nbsp;</span>RandomizedSearchCV</a></span></li></ul></li><li><span><a href=\"#Solution\" data-toc-modified-id=\"Solution-7\"><span class=\"toc-item-num\">7&nbsp;&nbsp;</span>Solution</a></span></li><li><span><a href=\"#Appendix\" data-toc-modified-id=\"Appendix-8\"><span class=\"toc-item-num\">8&nbsp;&nbsp;</span>Appendix</a></span><ul class=\"toc-item\"><li><span><a href=\"#Reference-Links\" data-toc-modified-id=\"Reference-Links-8.1\"><span class=\"toc-item-num\">8.1&nbsp;&nbsp;</span>Reference Links</a></span></li></ul></li></ul></div>"
   ]
  },
  {
   "cell_type": "markdown",
   "metadata": {},
   "source": [
    "## Look at the big picture."
   ]
  },
  {
   "cell_type": "markdown",
   "metadata": {},
   "source": [
    "### Business Need"
   ]
  },
  {
   "cell_type": "markdown",
   "metadata": {},
   "source": [
    "Objective is to predict the international box office revenue for each movie. \n",
    "For each id in the test set, you must predict the value of the revenue variable."
   ]
  },
  {
   "cell_type": "markdown",
   "metadata": {},
   "source": [
    "### Assumptions"
   ]
  },
  {
   "cell_type": "markdown",
   "metadata": {},
   "source": [
    "1. If more than 70% of the column values are missing, then the column is not required for ML modeling.\n",
    "\n",
    "2. Movies make more business during Statutory holidays, Friday, Weekend. Lets give weightage for these scenarios.\n",
    "\n",
    "3. Months from June to Aug are treated as summer vacation. Dec and Jan are treated as Winter Vacation. First Quarter and Third Quarter do well than other quarters.\n",
    "\n",
    "4. World Economic cycle (applies to all countries)'s expansion, peak, contraction and trough stages have impact consumer spending, therby on movie business. Expansion and Recovery stages  are considered as good for movie business than other two stages. US,China, Japan, India, Germany,UK and France are the heavy weights in World GDP growth as well as Consumer Markets. \n",
    "\n",
    "5. Considered S&P 500 Index's Annual percentage change as indicator of yearly performance of the economy till date. Let's be Optimistic for future years.  \n",
    "\n",
    "6. Best use of social media marketing techinques (like more keywords, IMDB id, tageline, homepage, Story Overview) to virally promote movies. \n",
    "\n",
    "7. Also, Main cast and Director are important factors to get more audience.\n",
    "\n",
    "8. If original_language is english, its possible to reach wider audience. \n",
    "\n",
    "9. More production companies involved than its advantage for movie,like pooling cast and crew and the marketing as well as sharing the financial risk. \n",
    "\n",
    "10. More Genres per movie helps to reach wider audience groups. \n",
    "\n",
    "\n",
    "            Lets recheck assumptions during data transformation and visuals. \n",
    "\n",
    "\n",
    "        Note: Feature selection requires some brain storming and quantative selection techniques. \n",
    "              I made some subjective decisions based on the following reference links. \n",
    "\n",
    "Reference links:\n",
    "\n",
    "https://en.wikipedia.org/wiki/S%26P_500_Index (use webscraping to get the data)\n",
    "\n",
    "https://en.wikipedia.org/wiki/World_economy\n",
    "\n",
    "https://farmdocdaily.illinois.edu/2012/01/country-contribution-to-world.html\n",
    "\n",
    "https://www.visualcapitalist.com/2000-years-economic-history-one-chart/\n",
    "\n",
    "https://www.ventureharbour.com/ultimate-guide-marketing-films-tv-shows-online/\n",
    "\n",
    "\n",
    "\n",
    " "
   ]
  },
  {
   "cell_type": "markdown",
   "metadata": {},
   "source": [
    "### Model Initial Blueprint"
   ]
  },
  {
   "cell_type": "markdown",
   "metadata": {},
   "source": [
    "3 Layers:\n",
    "    \n",
    "    1. Source Data Layer: Extract(Test/Train).Its as-is data(df_test, df_train). \n",
    "    2. Process Layer: Feature Engineering Modeling - data transformation to features.\n",
    "    3. Model Layer: Create Models, Evaluate them and Tune them"
   ]
  },
  {
   "cell_type": "markdown",
   "metadata": {},
   "source": [
    "|Feature|FE Approach| \n",
    "|---|---|\n",
    "|id| Good thing,No duplicate ids. But, drop this column\n",
    "|belongs_to_collection| <70% data.drop this column\n",
    "|budget| highly correlated\n",
    "|genres| Get genres list; One Hot-encoding\n",
    "|homepage| Notnull=1; Null=0\n",
    "|imdb_id| Notnull=1; Null=0\n",
    "|original_language| English(en)=1,Others(including Nulls)=0\n",
    "|original_title|check for duplicates; Notnull=1 ; if Nulls :then copy 'title', else:0\n",
    "|popularity|Binning into A to E ; One Hot-encoding\n",
    "|production_companies| list companies per movie; Binning; One Hot-encoding\n",
    "|production_countries| list countries; Null=0\n",
    "|release_date| Decompse into Year, Month, Day, weekday, quarter attributes\n",
    "|runtime|Null=0; Binning; One Hot-encoding\n",
    "|spoken_languages|drop this column\n",
    "|status|Binning (Released=1,Others(including Nulls)=0)\n",
    "|title|drop this column\n",
    "|Keywords|list keywords; len(list); binning; one-hotcoding\n",
    "|cast|Get Main Cast; Notnull =1, Null=0\n",
    "|crew|Get Director;Notnull = 1, Null=0\n",
    "|revenue|Target variable. y_Train\n",
    "|Release Year | New Column; Compare with S&P index annual return; +return=1; -return=0\n",
    "|Release Month| New Column; Jun to Aug & Dec to Jan = 1; Other(including Nulls)=0\n",
    "|Release date | New Column; 1-9 or 15-18 or 27-31 = 1, Other(including Nulls)=0\n",
    "|Release weekday| New Column; Fri(5) or Sat(6) or Sun(0) = 1, Other(including Nulls)=0\n",
    "\n",
    "Note: This is initial analysis based on my assumptions. Outliners are not bad. Lets run the model with Outliners before we drop them.  "
   ]
  },
  {
   "cell_type": "markdown",
   "metadata": {},
   "source": [
    "## Import Modules"
   ]
  },
  {
   "cell_type": "code",
   "execution_count": 2,
   "metadata": {},
   "outputs": [],
   "source": [
    "###### Read/Write Data ###########\n",
    "# for os\n",
    "import os\n",
    "import io\n",
    "# Tarfile module makes it possible to read and write tar archives, including those using gzip, bz2 and lzma compression.\n",
    "import tarfile\n",
    "# to read urls\n",
    "from six.moves import urllib\n",
    "\n",
    "###### Data Wrangling ###########\n",
    "import pandas as pd\n",
    "import numpy as np\n",
    "import re\n",
    "from collections import Counter\n",
    "\n",
    "###### Feature Engineering ###########\n",
    "from sklearn.impute import SimpleImputer\n",
    "from sklearn.base import BaseEstimator, TransformerMixin\n",
    "from sklearn.preprocessing import OneHotEncoder\n",
    "from sklearn.preprocessing import OrdinalEncoder\n",
    "from sklearn.preprocessing import FunctionTransformer\n",
    "from sklearn.pipeline import Pipeline\n",
    "from sklearn.preprocessing import StandardScaler\n",
    "from sklearn.compose import ColumnTransformer\n",
    "from sklearn.pipeline import FeatureUnion\n",
    "from sklearn.preprocessing import MultiLabelBinarizer\n",
    "\n",
    "\n",
    "    \n",
    "\n",
    "###### Data split-Test/Train ###########\n",
    "import hashlib\n",
    "from sklearn.model_selection import train_test_split\n",
    "from sklearn.model_selection import StratifiedShuffleSplit\n",
    "\n",
    "###### ML Models ###########\n",
    "from sklearn.linear_model import LinearRegression\n",
    "from sklearn.metrics import mean_squared_error\n",
    "from sklearn.metrics import mean_absolute_error\n",
    "from sklearn.tree import DecisionTreeRegressor\n",
    "from sklearn.ensemble import RandomForestRegressor\n",
    "from sklearn.svm import SVR\n",
    "from sklearn.model_selection import GridSearchCV\n",
    "from sklearn.model_selection import RandomizedSearchCV\n",
    "from scipy.stats import randint\n",
    "from scipy import stats\n",
    "from scipy.stats import geom, expon\n",
    "\n",
    "###### Model Tunning ###########\n",
    "from sklearn.model_selection import cross_val_score\n",
    "from sklearn.metrics import mean_absolute_error\n",
    "\n",
    "###### Visuals ###########\n",
    "import matplotlib.pyplot as plt\n",
    "from pandas.plotting import scatter_matrix\n",
    "import seaborn as sns\n",
    "sns.set_style(\"whitegrid\")\n",
    "%matplotlib inline\n",
    "from wordcloud import WordCloud\n",
    "\n",
    "import matplotlib as mpl\n",
    "mpl.rc('axes', labelsize=14)\n",
    "mpl.rc('xtick', labelsize=12)\n",
    "mpl.rc('ytick', labelsize=12)\n",
    "\n",
    "# Where to save the figures\n",
    "IMAGES_PATH = os.path.join(\"Notes\", \"Graphs\")\n",
    "\n",
    "def save_fig(fig_id, tight_layout=True, fig_extension=\"png\", resolution=300):\n",
    "    path = os.path.join(IMAGES_PATH, fig_id + \".\" + fig_extension)\n",
    "    print(\"Saving figure\", fig_id)\n",
    "    if tight_layout:\n",
    "        plt.tight_layout()\n",
    "    plt.savefig(path, format=fig_extension, dpi=resolution)\n",
    "    \n",
    "###### Others ###########\n",
    "from datetime import datetime\n",
    "import json\n",
    "import csv\n",
    "import itertools\n",
    "import ast"
   ]
  },
  {
   "cell_type": "markdown",
   "metadata": {},
   "source": [
    "## Get the Data"
   ]
  },
  {
   "cell_type": "code",
   "execution_count": 3,
   "metadata": {},
   "outputs": [],
   "source": [
    "# file path \n",
    "train_path = 'DataSources/train.csv'\n",
    "test_path =  'DataSources/test.csv'"
   ]
  },
  {
   "cell_type": "code",
   "execution_count": 4,
   "metadata": {},
   "outputs": [
    {
     "data": {
      "text/html": [
       "<div>\n",
       "<style scoped>\n",
       "    .dataframe tbody tr th:only-of-type {\n",
       "        vertical-align: middle;\n",
       "    }\n",
       "\n",
       "    .dataframe tbody tr th {\n",
       "        vertical-align: top;\n",
       "    }\n",
       "\n",
       "    .dataframe thead th {\n",
       "        text-align: right;\n",
       "    }\n",
       "</style>\n",
       "<table border=\"1\" class=\"dataframe\">\n",
       "  <thead>\n",
       "    <tr style=\"text-align: right;\">\n",
       "      <th></th>\n",
       "      <th>id</th>\n",
       "      <th>belongs_to_collection</th>\n",
       "      <th>budget</th>\n",
       "      <th>genres</th>\n",
       "      <th>homepage</th>\n",
       "      <th>imdb_id</th>\n",
       "      <th>original_language</th>\n",
       "      <th>original_title</th>\n",
       "      <th>overview</th>\n",
       "      <th>popularity</th>\n",
       "      <th>...</th>\n",
       "      <th>release_date</th>\n",
       "      <th>runtime</th>\n",
       "      <th>spoken_languages</th>\n",
       "      <th>status</th>\n",
       "      <th>tagline</th>\n",
       "      <th>title</th>\n",
       "      <th>Keywords</th>\n",
       "      <th>cast</th>\n",
       "      <th>crew</th>\n",
       "      <th>revenue</th>\n",
       "    </tr>\n",
       "  </thead>\n",
       "  <tbody>\n",
       "    <tr>\n",
       "      <th>0</th>\n",
       "      <td>1</td>\n",
       "      <td>[{'id': 313576, 'name': 'Hot Tub Time Machine ...</td>\n",
       "      <td>14000000</td>\n",
       "      <td>[{'id': 35, 'name': 'Comedy'}]</td>\n",
       "      <td>NaN</td>\n",
       "      <td>tt2637294</td>\n",
       "      <td>en</td>\n",
       "      <td>Hot Tub Time Machine 2</td>\n",
       "      <td>When Lou, who has become the \"father of the In...</td>\n",
       "      <td>6.575393</td>\n",
       "      <td>...</td>\n",
       "      <td>2/20/15</td>\n",
       "      <td>93.0</td>\n",
       "      <td>[{'iso_639_1': 'en', 'name': 'English'}]</td>\n",
       "      <td>Released</td>\n",
       "      <td>The Laws of Space and Time are About to be Vio...</td>\n",
       "      <td>Hot Tub Time Machine 2</td>\n",
       "      <td>[{'id': 4379, 'name': 'time travel'}, {'id': 9...</td>\n",
       "      <td>[{'cast_id': 4, 'character': 'Lou', 'credit_id...</td>\n",
       "      <td>[{'credit_id': '59ac067c92514107af02c8c8', 'de...</td>\n",
       "      <td>12314651</td>\n",
       "    </tr>\n",
       "    <tr>\n",
       "      <th>1</th>\n",
       "      <td>2</td>\n",
       "      <td>[{'id': 107674, 'name': 'The Princess Diaries ...</td>\n",
       "      <td>40000000</td>\n",
       "      <td>[{'id': 35, 'name': 'Comedy'}, {'id': 18, 'nam...</td>\n",
       "      <td>NaN</td>\n",
       "      <td>tt0368933</td>\n",
       "      <td>en</td>\n",
       "      <td>The Princess Diaries 2: Royal Engagement</td>\n",
       "      <td>Mia Thermopolis is now a college graduate and ...</td>\n",
       "      <td>8.248895</td>\n",
       "      <td>...</td>\n",
       "      <td>8/6/04</td>\n",
       "      <td>113.0</td>\n",
       "      <td>[{'iso_639_1': 'en', 'name': 'English'}]</td>\n",
       "      <td>Released</td>\n",
       "      <td>It can take a lifetime to find true love; she'...</td>\n",
       "      <td>The Princess Diaries 2: Royal Engagement</td>\n",
       "      <td>[{'id': 2505, 'name': 'coronation'}, {'id': 42...</td>\n",
       "      <td>[{'cast_id': 1, 'character': 'Mia Thermopolis'...</td>\n",
       "      <td>[{'credit_id': '52fe43fe9251416c7502563d', 'de...</td>\n",
       "      <td>95149435</td>\n",
       "    </tr>\n",
       "    <tr>\n",
       "      <th>2</th>\n",
       "      <td>3</td>\n",
       "      <td>NaN</td>\n",
       "      <td>3300000</td>\n",
       "      <td>[{'id': 18, 'name': 'Drama'}]</td>\n",
       "      <td>http://sonyclassics.com/whiplash/</td>\n",
       "      <td>tt2582802</td>\n",
       "      <td>en</td>\n",
       "      <td>Whiplash</td>\n",
       "      <td>Under the direction of a ruthless instructor, ...</td>\n",
       "      <td>64.299990</td>\n",
       "      <td>...</td>\n",
       "      <td>10/10/14</td>\n",
       "      <td>105.0</td>\n",
       "      <td>[{'iso_639_1': 'en', 'name': 'English'}]</td>\n",
       "      <td>Released</td>\n",
       "      <td>The road to greatness can take you to the edge.</td>\n",
       "      <td>Whiplash</td>\n",
       "      <td>[{'id': 1416, 'name': 'jazz'}, {'id': 1523, 'n...</td>\n",
       "      <td>[{'cast_id': 5, 'character': 'Andrew Neimann',...</td>\n",
       "      <td>[{'credit_id': '54d5356ec3a3683ba0000039', 'de...</td>\n",
       "      <td>13092000</td>\n",
       "    </tr>\n",
       "  </tbody>\n",
       "</table>\n",
       "<p>3 rows × 23 columns</p>\n",
       "</div>"
      ],
      "text/plain": [
       "   id                              belongs_to_collection    budget  \\\n",
       "0   1  [{'id': 313576, 'name': 'Hot Tub Time Machine ...  14000000   \n",
       "1   2  [{'id': 107674, 'name': 'The Princess Diaries ...  40000000   \n",
       "2   3                                                NaN   3300000   \n",
       "\n",
       "                                              genres  \\\n",
       "0                     [{'id': 35, 'name': 'Comedy'}]   \n",
       "1  [{'id': 35, 'name': 'Comedy'}, {'id': 18, 'nam...   \n",
       "2                      [{'id': 18, 'name': 'Drama'}]   \n",
       "\n",
       "                            homepage    imdb_id original_language  \\\n",
       "0                                NaN  tt2637294                en   \n",
       "1                                NaN  tt0368933                en   \n",
       "2  http://sonyclassics.com/whiplash/  tt2582802                en   \n",
       "\n",
       "                             original_title  \\\n",
       "0                    Hot Tub Time Machine 2   \n",
       "1  The Princess Diaries 2: Royal Engagement   \n",
       "2                                  Whiplash   \n",
       "\n",
       "                                            overview  popularity    ...     \\\n",
       "0  When Lou, who has become the \"father of the In...    6.575393    ...      \n",
       "1  Mia Thermopolis is now a college graduate and ...    8.248895    ...      \n",
       "2  Under the direction of a ruthless instructor, ...   64.299990    ...      \n",
       "\n",
       "  release_date runtime                          spoken_languages    status  \\\n",
       "0      2/20/15    93.0  [{'iso_639_1': 'en', 'name': 'English'}]  Released   \n",
       "1       8/6/04   113.0  [{'iso_639_1': 'en', 'name': 'English'}]  Released   \n",
       "2     10/10/14   105.0  [{'iso_639_1': 'en', 'name': 'English'}]  Released   \n",
       "\n",
       "                                             tagline  \\\n",
       "0  The Laws of Space and Time are About to be Vio...   \n",
       "1  It can take a lifetime to find true love; she'...   \n",
       "2    The road to greatness can take you to the edge.   \n",
       "\n",
       "                                      title  \\\n",
       "0                    Hot Tub Time Machine 2   \n",
       "1  The Princess Diaries 2: Royal Engagement   \n",
       "2                                  Whiplash   \n",
       "\n",
       "                                            Keywords  \\\n",
       "0  [{'id': 4379, 'name': 'time travel'}, {'id': 9...   \n",
       "1  [{'id': 2505, 'name': 'coronation'}, {'id': 42...   \n",
       "2  [{'id': 1416, 'name': 'jazz'}, {'id': 1523, 'n...   \n",
       "\n",
       "                                                cast  \\\n",
       "0  [{'cast_id': 4, 'character': 'Lou', 'credit_id...   \n",
       "1  [{'cast_id': 1, 'character': 'Mia Thermopolis'...   \n",
       "2  [{'cast_id': 5, 'character': 'Andrew Neimann',...   \n",
       "\n",
       "                                                crew   revenue  \n",
       "0  [{'credit_id': '59ac067c92514107af02c8c8', 'de...  12314651  \n",
       "1  [{'credit_id': '52fe43fe9251416c7502563d', 'de...  95149435  \n",
       "2  [{'credit_id': '54d5356ec3a3683ba0000039', 'de...  13092000  \n",
       "\n",
       "[3 rows x 23 columns]"
      ]
     },
     "execution_count": 4,
     "metadata": {},
     "output_type": "execute_result"
    }
   ],
   "source": [
    "# create housing df \n",
    "df_train = pd.read_csv(train_path)\n",
    "df_test = pd.read_csv(test_path)\n",
    "df_train.head(3)"
   ]
  },
  {
   "cell_type": "code",
   "execution_count": 5,
   "metadata": {},
   "outputs": [
    {
     "data": {
      "text/plain": [
       "(3000, 23)"
      ]
     },
     "execution_count": 5,
     "metadata": {},
     "output_type": "execute_result"
    }
   ],
   "source": [
    "# Number of rows, columns\n",
    "df_train.shape"
   ]
  },
  {
   "cell_type": "code",
   "execution_count": 6,
   "metadata": {},
   "outputs": [
    {
     "data": {
      "text/plain": [
       "(4398, 22)"
      ]
     },
     "execution_count": 6,
     "metadata": {},
     "output_type": "execute_result"
    }
   ],
   "source": [
    "# Number of rows, columns\n",
    "df_test.shape"
   ]
  },
  {
   "cell_type": "markdown",
   "metadata": {},
   "source": [
    "##  Exporlatory Data Analysis"
   ]
  },
  {
   "cell_type": "markdown",
   "metadata": {},
   "source": [
    "### Meta Data Analysis"
   ]
  },
  {
   "cell_type": "code",
   "execution_count": 7,
   "metadata": {},
   "outputs": [],
   "source": [
    "train_test_data = [df_train,df_test]"
   ]
  },
  {
   "cell_type": "code",
   "execution_count": 8,
   "metadata": {},
   "outputs": [],
   "source": [
    "# get the names of the dataframes\n",
    "def df_name (df):\n",
    "    '''\n",
    "    Get Name of the DataFrame\n",
    "    '''\n",
    "    name =[x for x in globals() if globals()[x] is df][0]\n",
    "    return name "
   ]
  },
  {
   "cell_type": "code",
   "execution_count": 9,
   "metadata": {},
   "outputs": [
    {
     "name": "stdout",
     "output_type": "stream",
     "text": [
      "df_train\n",
      "df_test\n"
     ]
    }
   ],
   "source": [
    "for df in train_test_data:\n",
    "    print(df_name(df))"
   ]
  },
  {
   "cell_type": "code",
   "execution_count": 10,
   "metadata": {},
   "outputs": [],
   "source": [
    "# write df info to csv file \n",
    "def csv_info(df):\n",
    "    '''\n",
    "    Write DataFrame info() to local csv file \n",
    "    '''\n",
    "    buffer = io.StringIO()\n",
    "    df.info(buf=buffer)\n",
    "    s = buffer.getvalue()\n",
    "    name =[x for x in globals() if globals()[x] is df][0]\n",
    "    with open(\"info_\"+ name +\".csv\", \"w\",encoding=\"utf-8\") as f:\n",
    "        f.write(s)"
   ]
  },
  {
   "cell_type": "code",
   "execution_count": 11,
   "metadata": {},
   "outputs": [],
   "source": [
    "# run the function to save df info as csv\n",
    "csv_info(df_train)\n",
    "csv_info(df_test)"
   ]
  },
  {
   "cell_type": "code",
   "execution_count": 12,
   "metadata": {},
   "outputs": [
    {
     "name": "stdout",
     "output_type": "stream",
     "text": [
      "                 Columns  Records NullorNot DataType   df_name\n",
      "0                     id     3000  non-null    int64  df_train\n",
      "1  belongs_to_collection      604  non-null   object  df_train\n",
      "2                 budget     3000  non-null    int64  df_train\n",
      "-------------------\n",
      "                 Columns  Records NullorNot DataType  df_name\n",
      "0                     id     4398  non-null    int64  df_test\n",
      "1  belongs_to_collection      877  non-null   object  df_test\n",
      "2                 budget     4398  non-null    int64  df_test\n"
     ]
    }
   ],
   "source": [
    "# Yet to find solution to parse txt to csv\n",
    "df_train_info = pd.read_csv('info_df_train1.csv', delimiter=',', engine='python')\n",
    "#df_train_info = df_train_info.T\n",
    "#new_cols = list(df_train_info.loc['Column'])\n",
    "#df_train_info = df_train_info.drop(['Column'])\n",
    "#df_train_info.columns = new_cols\n",
    "df_train_info['df_name'] = 'df_train'\n",
    "print(df_train_info.head(3))\n",
    "\n",
    "print('-------------------')\n",
    "\n",
    "df_test_info = pd.read_csv('info_df_test1.csv', delimiter=',', engine='python')\n",
    "#df_test_info = df_test_info.T\n",
    "#new_cols = list(df_test_info.loc['Column'])\n",
    "#df_test_info = df_test_info.drop(['Column'])\n",
    "#df_test_info.columns = new_cols\n",
    "df_test_info['df_name'] = 'df_test'\n",
    "print(df_test_info.head(3))"
   ]
  },
  {
   "cell_type": "code",
   "execution_count": 13,
   "metadata": {},
   "outputs": [],
   "source": [
    "df_train_info['MissingRecords'] = df_train_info['Records'].max() - df_train_info['Records']\n",
    "df_train_info['PercentMissingRecs'] = (df_train_info['MissingRecords']/df_train_info['Records'].max())*100"
   ]
  },
  {
   "cell_type": "code",
   "execution_count": 14,
   "metadata": {},
   "outputs": [],
   "source": [
    "df_test_info['MissingRecords'] = df_test_info['Records'].max() - df_test_info['Records']\n",
    "df_test_info['PercentMissingRecs'] = (df_test_info['MissingRecords']/df_test_info['Records'].max())*100"
   ]
  },
  {
   "cell_type": "code",
   "execution_count": 15,
   "metadata": {},
   "outputs": [
    {
     "name": "stdout",
     "output_type": "stream",
     "text": [
      "                       Records NullorNot DataType  df_name  MissingRecords  \\\n",
      "Columns                                                                      \n",
      "id                        4398  non-null    int64  df_test               0   \n",
      "belongs_to_collection      877  non-null   object  df_test            3521   \n",
      "budget                    4398  non-null    int64  df_test               0   \n",
      "\n",
      "                       PercentMissingRecs  \n",
      "Columns                                    \n",
      "id                               0.000000  \n",
      "belongs_to_collection           80.059118  \n",
      "budget                           0.000000  \n"
     ]
    }
   ],
   "source": [
    "df_test_info = df_test_info.set_index(['Columns'])\n",
    "print(df_test_info.head(3))"
   ]
  },
  {
   "cell_type": "code",
   "execution_count": 16,
   "metadata": {},
   "outputs": [
    {
     "name": "stdout",
     "output_type": "stream",
     "text": [
      "                       Records NullorNot DataType   df_name  MissingRecords  \\\n",
      "Columns                                                                       \n",
      "id                        3000  non-null    int64  df_train               0   \n",
      "belongs_to_collection      604  non-null   object  df_train            2396   \n",
      "budget                    3000  non-null    int64  df_train               0   \n",
      "\n",
      "                       PercentMissingRecs  \n",
      "Columns                                    \n",
      "id                               0.000000  \n",
      "belongs_to_collection           79.866667  \n",
      "budget                           0.000000  \n"
     ]
    }
   ],
   "source": [
    "df_train_info = df_train_info.set_index(['Columns'])\n",
    "print(df_train_info.head(3))"
   ]
  },
  {
   "cell_type": "code",
   "execution_count": 17,
   "metadata": {},
   "outputs": [],
   "source": [
    "df_info = pd.concat([df_train_info, df_test_info])"
   ]
  },
  {
   "cell_type": "code",
   "execution_count": 19,
   "metadata": {},
   "outputs": [
    {
     "data": {
      "text/html": [
       "<div>\n",
       "<style scoped>\n",
       "    .dataframe tbody tr th:only-of-type {\n",
       "        vertical-align: middle;\n",
       "    }\n",
       "\n",
       "    .dataframe tbody tr th {\n",
       "        vertical-align: top;\n",
       "    }\n",
       "\n",
       "    .dataframe thead tr th {\n",
       "        text-align: left;\n",
       "    }\n",
       "\n",
       "    .dataframe thead tr:last-of-type th {\n",
       "        text-align: right;\n",
       "    }\n",
       "</style>\n",
       "<table border=\"1\" class=\"dataframe\">\n",
       "  <thead>\n",
       "    <tr>\n",
       "      <th></th>\n",
       "      <th colspan=\"2\" halign=\"left\">Records</th>\n",
       "      <th colspan=\"2\" halign=\"left\">NullorNot</th>\n",
       "      <th colspan=\"2\" halign=\"left\">DataType</th>\n",
       "      <th colspan=\"2\" halign=\"left\">MissingRecords</th>\n",
       "      <th colspan=\"2\" halign=\"left\">PercentMissingRecs</th>\n",
       "    </tr>\n",
       "    <tr>\n",
       "      <th>df_name</th>\n",
       "      <th>df_test</th>\n",
       "      <th>df_train</th>\n",
       "      <th>df_test</th>\n",
       "      <th>df_train</th>\n",
       "      <th>df_test</th>\n",
       "      <th>df_train</th>\n",
       "      <th>df_test</th>\n",
       "      <th>df_train</th>\n",
       "      <th>df_test</th>\n",
       "      <th>df_train</th>\n",
       "    </tr>\n",
       "    <tr>\n",
       "      <th>Columns</th>\n",
       "      <th></th>\n",
       "      <th></th>\n",
       "      <th></th>\n",
       "      <th></th>\n",
       "      <th></th>\n",
       "      <th></th>\n",
       "      <th></th>\n",
       "      <th></th>\n",
       "      <th></th>\n",
       "      <th></th>\n",
       "    </tr>\n",
       "  </thead>\n",
       "  <tbody>\n",
       "    <tr>\n",
       "      <th>Keywords</th>\n",
       "      <td>4005.0</td>\n",
       "      <td>2724.0</td>\n",
       "      <td>non-null</td>\n",
       "      <td>non-null</td>\n",
       "      <td>object</td>\n",
       "      <td>object</td>\n",
       "      <td>393.0</td>\n",
       "      <td>276.0</td>\n",
       "      <td>8.935880</td>\n",
       "      <td>9.200000</td>\n",
       "    </tr>\n",
       "    <tr>\n",
       "      <th>belongs_to_collection</th>\n",
       "      <td>877.0</td>\n",
       "      <td>604.0</td>\n",
       "      <td>non-null</td>\n",
       "      <td>non-null</td>\n",
       "      <td>object</td>\n",
       "      <td>object</td>\n",
       "      <td>3521.0</td>\n",
       "      <td>2396.0</td>\n",
       "      <td>80.059118</td>\n",
       "      <td>79.866667</td>\n",
       "    </tr>\n",
       "    <tr>\n",
       "      <th>budget</th>\n",
       "      <td>4398.0</td>\n",
       "      <td>3000.0</td>\n",
       "      <td>non-null</td>\n",
       "      <td>non-null</td>\n",
       "      <td>int64</td>\n",
       "      <td>int64</td>\n",
       "      <td>0.0</td>\n",
       "      <td>0.0</td>\n",
       "      <td>0.000000</td>\n",
       "      <td>0.000000</td>\n",
       "    </tr>\n",
       "    <tr>\n",
       "      <th>cast</th>\n",
       "      <td>4385.0</td>\n",
       "      <td>2987.0</td>\n",
       "      <td>non-null</td>\n",
       "      <td>non-null</td>\n",
       "      <td>object</td>\n",
       "      <td>object</td>\n",
       "      <td>13.0</td>\n",
       "      <td>13.0</td>\n",
       "      <td>0.295589</td>\n",
       "      <td>0.433333</td>\n",
       "    </tr>\n",
       "    <tr>\n",
       "      <th>crew</th>\n",
       "      <td>4376.0</td>\n",
       "      <td>2984.0</td>\n",
       "      <td>non-null</td>\n",
       "      <td>non-null</td>\n",
       "      <td>object</td>\n",
       "      <td>object</td>\n",
       "      <td>22.0</td>\n",
       "      <td>16.0</td>\n",
       "      <td>0.500227</td>\n",
       "      <td>0.533333</td>\n",
       "    </tr>\n",
       "    <tr>\n",
       "      <th>genres</th>\n",
       "      <td>4382.0</td>\n",
       "      <td>2993.0</td>\n",
       "      <td>non-null</td>\n",
       "      <td>non-null</td>\n",
       "      <td>object</td>\n",
       "      <td>object</td>\n",
       "      <td>16.0</td>\n",
       "      <td>7.0</td>\n",
       "      <td>0.363802</td>\n",
       "      <td>0.233333</td>\n",
       "    </tr>\n",
       "    <tr>\n",
       "      <th>homepage</th>\n",
       "      <td>1420.0</td>\n",
       "      <td>946.0</td>\n",
       "      <td>non-null</td>\n",
       "      <td>non-null</td>\n",
       "      <td>object</td>\n",
       "      <td>object</td>\n",
       "      <td>2978.0</td>\n",
       "      <td>2054.0</td>\n",
       "      <td>67.712597</td>\n",
       "      <td>68.466667</td>\n",
       "    </tr>\n",
       "    <tr>\n",
       "      <th>id</th>\n",
       "      <td>4398.0</td>\n",
       "      <td>3000.0</td>\n",
       "      <td>non-null</td>\n",
       "      <td>non-null</td>\n",
       "      <td>int64</td>\n",
       "      <td>int64</td>\n",
       "      <td>0.0</td>\n",
       "      <td>0.0</td>\n",
       "      <td>0.000000</td>\n",
       "      <td>0.000000</td>\n",
       "    </tr>\n",
       "    <tr>\n",
       "      <th>imdb_id</th>\n",
       "      <td>4398.0</td>\n",
       "      <td>3000.0</td>\n",
       "      <td>non-null</td>\n",
       "      <td>non-null</td>\n",
       "      <td>object</td>\n",
       "      <td>object</td>\n",
       "      <td>0.0</td>\n",
       "      <td>0.0</td>\n",
       "      <td>0.000000</td>\n",
       "      <td>0.000000</td>\n",
       "    </tr>\n",
       "    <tr>\n",
       "      <th>original_language</th>\n",
       "      <td>4398.0</td>\n",
       "      <td>3000.0</td>\n",
       "      <td>non-null</td>\n",
       "      <td>non-null</td>\n",
       "      <td>object</td>\n",
       "      <td>object</td>\n",
       "      <td>0.0</td>\n",
       "      <td>0.0</td>\n",
       "      <td>0.000000</td>\n",
       "      <td>0.000000</td>\n",
       "    </tr>\n",
       "    <tr>\n",
       "      <th>original_title</th>\n",
       "      <td>4398.0</td>\n",
       "      <td>3000.0</td>\n",
       "      <td>non-null</td>\n",
       "      <td>non-null</td>\n",
       "      <td>object</td>\n",
       "      <td>object</td>\n",
       "      <td>0.0</td>\n",
       "      <td>0.0</td>\n",
       "      <td>0.000000</td>\n",
       "      <td>0.000000</td>\n",
       "    </tr>\n",
       "    <tr>\n",
       "      <th>overview</th>\n",
       "      <td>4384.0</td>\n",
       "      <td>2992.0</td>\n",
       "      <td>non-null</td>\n",
       "      <td>non-null</td>\n",
       "      <td>object</td>\n",
       "      <td>object</td>\n",
       "      <td>14.0</td>\n",
       "      <td>8.0</td>\n",
       "      <td>0.318327</td>\n",
       "      <td>0.266667</td>\n",
       "    </tr>\n",
       "    <tr>\n",
       "      <th>popularity</th>\n",
       "      <td>4398.0</td>\n",
       "      <td>3000.0</td>\n",
       "      <td>non-null</td>\n",
       "      <td>non-null</td>\n",
       "      <td>float64</td>\n",
       "      <td>float64</td>\n",
       "      <td>0.0</td>\n",
       "      <td>0.0</td>\n",
       "      <td>0.000000</td>\n",
       "      <td>0.000000</td>\n",
       "    </tr>\n",
       "    <tr>\n",
       "      <th>poster_path</th>\n",
       "      <td>4397.0</td>\n",
       "      <td>2999.0</td>\n",
       "      <td>non-null</td>\n",
       "      <td>non-null</td>\n",
       "      <td>object</td>\n",
       "      <td>object</td>\n",
       "      <td>1.0</td>\n",
       "      <td>1.0</td>\n",
       "      <td>0.022738</td>\n",
       "      <td>0.033333</td>\n",
       "    </tr>\n",
       "    <tr>\n",
       "      <th>production_companies</th>\n",
       "      <td>4140.0</td>\n",
       "      <td>2844.0</td>\n",
       "      <td>non-null</td>\n",
       "      <td>non-null</td>\n",
       "      <td>object</td>\n",
       "      <td>object</td>\n",
       "      <td>258.0</td>\n",
       "      <td>156.0</td>\n",
       "      <td>5.866303</td>\n",
       "      <td>5.200000</td>\n",
       "    </tr>\n",
       "    <tr>\n",
       "      <th>production_countries</th>\n",
       "      <td>4296.0</td>\n",
       "      <td>2945.0</td>\n",
       "      <td>non-null</td>\n",
       "      <td>non-null</td>\n",
       "      <td>object</td>\n",
       "      <td>object</td>\n",
       "      <td>102.0</td>\n",
       "      <td>55.0</td>\n",
       "      <td>2.319236</td>\n",
       "      <td>1.833333</td>\n",
       "    </tr>\n",
       "    <tr>\n",
       "      <th>release_date</th>\n",
       "      <td>4397.0</td>\n",
       "      <td>3000.0</td>\n",
       "      <td>non-null</td>\n",
       "      <td>non-null</td>\n",
       "      <td>object</td>\n",
       "      <td>object</td>\n",
       "      <td>1.0</td>\n",
       "      <td>0.0</td>\n",
       "      <td>0.022738</td>\n",
       "      <td>0.000000</td>\n",
       "    </tr>\n",
       "    <tr>\n",
       "      <th>revenue</th>\n",
       "      <td>NaN</td>\n",
       "      <td>3000.0</td>\n",
       "      <td>NaN</td>\n",
       "      <td>non-null</td>\n",
       "      <td>NaN</td>\n",
       "      <td>int64</td>\n",
       "      <td>NaN</td>\n",
       "      <td>0.0</td>\n",
       "      <td>NaN</td>\n",
       "      <td>0.000000</td>\n",
       "    </tr>\n",
       "    <tr>\n",
       "      <th>runtime</th>\n",
       "      <td>4394.0</td>\n",
       "      <td>2998.0</td>\n",
       "      <td>non-null</td>\n",
       "      <td>non-null</td>\n",
       "      <td>float64</td>\n",
       "      <td>float64</td>\n",
       "      <td>4.0</td>\n",
       "      <td>2.0</td>\n",
       "      <td>0.090950</td>\n",
       "      <td>0.066667</td>\n",
       "    </tr>\n",
       "    <tr>\n",
       "      <th>spoken_languages</th>\n",
       "      <td>4356.0</td>\n",
       "      <td>2980.0</td>\n",
       "      <td>non-null</td>\n",
       "      <td>non-null</td>\n",
       "      <td>object</td>\n",
       "      <td>object</td>\n",
       "      <td>42.0</td>\n",
       "      <td>20.0</td>\n",
       "      <td>0.954980</td>\n",
       "      <td>0.666667</td>\n",
       "    </tr>\n",
       "    <tr>\n",
       "      <th>status</th>\n",
       "      <td>4396.0</td>\n",
       "      <td>3000.0</td>\n",
       "      <td>non-null</td>\n",
       "      <td>non-null</td>\n",
       "      <td>object</td>\n",
       "      <td>object</td>\n",
       "      <td>2.0</td>\n",
       "      <td>0.0</td>\n",
       "      <td>0.045475</td>\n",
       "      <td>0.000000</td>\n",
       "    </tr>\n",
       "    <tr>\n",
       "      <th>tagline</th>\n",
       "      <td>3535.0</td>\n",
       "      <td>2403.0</td>\n",
       "      <td>non-null</td>\n",
       "      <td>non-null</td>\n",
       "      <td>object</td>\n",
       "      <td>object</td>\n",
       "      <td>863.0</td>\n",
       "      <td>597.0</td>\n",
       "      <td>19.622556</td>\n",
       "      <td>19.900000</td>\n",
       "    </tr>\n",
       "    <tr>\n",
       "      <th>title</th>\n",
       "      <td>4395.0</td>\n",
       "      <td>3000.0</td>\n",
       "      <td>non-null</td>\n",
       "      <td>non-null</td>\n",
       "      <td>object</td>\n",
       "      <td>object</td>\n",
       "      <td>3.0</td>\n",
       "      <td>0.0</td>\n",
       "      <td>0.068213</td>\n",
       "      <td>0.000000</td>\n",
       "    </tr>\n",
       "  </tbody>\n",
       "</table>\n",
       "</div>"
      ],
      "text/plain": [
       "                      Records          NullorNot           DataType           \\\n",
       "df_name               df_test df_train   df_test  df_train  df_test df_train   \n",
       "Columns                                                                        \n",
       "Keywords               4005.0   2724.0  non-null  non-null   object   object   \n",
       "belongs_to_collection   877.0    604.0  non-null  non-null   object   object   \n",
       "budget                 4398.0   3000.0  non-null  non-null    int64    int64   \n",
       "cast                   4385.0   2987.0  non-null  non-null   object   object   \n",
       "crew                   4376.0   2984.0  non-null  non-null   object   object   \n",
       "genres                 4382.0   2993.0  non-null  non-null   object   object   \n",
       "homepage               1420.0    946.0  non-null  non-null   object   object   \n",
       "id                     4398.0   3000.0  non-null  non-null    int64    int64   \n",
       "imdb_id                4398.0   3000.0  non-null  non-null   object   object   \n",
       "original_language      4398.0   3000.0  non-null  non-null   object   object   \n",
       "original_title         4398.0   3000.0  non-null  non-null   object   object   \n",
       "overview               4384.0   2992.0  non-null  non-null   object   object   \n",
       "popularity             4398.0   3000.0  non-null  non-null  float64  float64   \n",
       "poster_path            4397.0   2999.0  non-null  non-null   object   object   \n",
       "production_companies   4140.0   2844.0  non-null  non-null   object   object   \n",
       "production_countries   4296.0   2945.0  non-null  non-null   object   object   \n",
       "release_date           4397.0   3000.0  non-null  non-null   object   object   \n",
       "revenue                   NaN   3000.0       NaN  non-null      NaN    int64   \n",
       "runtime                4394.0   2998.0  non-null  non-null  float64  float64   \n",
       "spoken_languages       4356.0   2980.0  non-null  non-null   object   object   \n",
       "status                 4396.0   3000.0  non-null  non-null   object   object   \n",
       "tagline                3535.0   2403.0  non-null  non-null   object   object   \n",
       "title                  4395.0   3000.0  non-null  non-null   object   object   \n",
       "\n",
       "                      MissingRecords          PercentMissingRecs             \n",
       "df_name                      df_test df_train            df_test   df_train  \n",
       "Columns                                                                      \n",
       "Keywords                       393.0    276.0           8.935880   9.200000  \n",
       "belongs_to_collection         3521.0   2396.0          80.059118  79.866667  \n",
       "budget                           0.0      0.0           0.000000   0.000000  \n",
       "cast                            13.0     13.0           0.295589   0.433333  \n",
       "crew                            22.0     16.0           0.500227   0.533333  \n",
       "genres                          16.0      7.0           0.363802   0.233333  \n",
       "homepage                      2978.0   2054.0          67.712597  68.466667  \n",
       "id                               0.0      0.0           0.000000   0.000000  \n",
       "imdb_id                          0.0      0.0           0.000000   0.000000  \n",
       "original_language                0.0      0.0           0.000000   0.000000  \n",
       "original_title                   0.0      0.0           0.000000   0.000000  \n",
       "overview                        14.0      8.0           0.318327   0.266667  \n",
       "popularity                       0.0      0.0           0.000000   0.000000  \n",
       "poster_path                      1.0      1.0           0.022738   0.033333  \n",
       "production_companies           258.0    156.0           5.866303   5.200000  \n",
       "production_countries           102.0     55.0           2.319236   1.833333  \n",
       "release_date                     1.0      0.0           0.022738   0.000000  \n",
       "revenue                          NaN      0.0                NaN   0.000000  \n",
       "runtime                          4.0      2.0           0.090950   0.066667  \n",
       "spoken_languages                42.0     20.0           0.954980   0.666667  \n",
       "status                           2.0      0.0           0.045475   0.000000  \n",
       "tagline                        863.0    597.0          19.622556  19.900000  \n",
       "title                            3.0      0.0           0.068213   0.000000  "
      ]
     },
     "execution_count": 19,
     "metadata": {},
     "output_type": "execute_result"
    }
   ],
   "source": [
    "df_pivot = df_info.pivot(columns='df_name')\n",
    "df_pivot"
   ]
  },
  {
   "cell_type": "code",
   "execution_count": 20,
   "metadata": {},
   "outputs": [
    {
     "data": {
      "text/html": [
       "<div>\n",
       "<style scoped>\n",
       "    .dataframe tbody tr th:only-of-type {\n",
       "        vertical-align: middle;\n",
       "    }\n",
       "\n",
       "    .dataframe tbody tr th {\n",
       "        vertical-align: top;\n",
       "    }\n",
       "\n",
       "    .dataframe thead tr th {\n",
       "        text-align: left;\n",
       "    }\n",
       "\n",
       "    .dataframe thead tr:last-of-type th {\n",
       "        text-align: right;\n",
       "    }\n",
       "</style>\n",
       "<table border=\"1\" class=\"dataframe\">\n",
       "  <thead>\n",
       "    <tr>\n",
       "      <th></th>\n",
       "      <th colspan=\"2\" halign=\"left\">Records</th>\n",
       "      <th colspan=\"2\" halign=\"left\">NullorNot</th>\n",
       "      <th colspan=\"2\" halign=\"left\">DataType</th>\n",
       "      <th colspan=\"2\" halign=\"left\">MissingRecords</th>\n",
       "      <th colspan=\"2\" halign=\"left\">PercentMissingRecs</th>\n",
       "    </tr>\n",
       "    <tr>\n",
       "      <th>df_name</th>\n",
       "      <th>df_test</th>\n",
       "      <th>df_train</th>\n",
       "      <th>df_test</th>\n",
       "      <th>df_train</th>\n",
       "      <th>df_test</th>\n",
       "      <th>df_train</th>\n",
       "      <th>df_test</th>\n",
       "      <th>df_train</th>\n",
       "      <th>df_test</th>\n",
       "      <th>df_train</th>\n",
       "    </tr>\n",
       "    <tr>\n",
       "      <th>Columns</th>\n",
       "      <th></th>\n",
       "      <th></th>\n",
       "      <th></th>\n",
       "      <th></th>\n",
       "      <th></th>\n",
       "      <th></th>\n",
       "      <th></th>\n",
       "      <th></th>\n",
       "      <th></th>\n",
       "      <th></th>\n",
       "    </tr>\n",
       "  </thead>\n",
       "  <tbody>\n",
       "    <tr>\n",
       "      <th>Keywords</th>\n",
       "      <td>4005</td>\n",
       "      <td>2724</td>\n",
       "      <td>non-null</td>\n",
       "      <td>non-null</td>\n",
       "      <td>object</td>\n",
       "      <td>object</td>\n",
       "      <td>393</td>\n",
       "      <td>276</td>\n",
       "      <td>8.935880</td>\n",
       "      <td>9.200000</td>\n",
       "    </tr>\n",
       "    <tr>\n",
       "      <th>belongs_to_collection</th>\n",
       "      <td>877</td>\n",
       "      <td>604</td>\n",
       "      <td>non-null</td>\n",
       "      <td>non-null</td>\n",
       "      <td>object</td>\n",
       "      <td>object</td>\n",
       "      <td>3521</td>\n",
       "      <td>2396</td>\n",
       "      <td>80.059118</td>\n",
       "      <td>79.866667</td>\n",
       "    </tr>\n",
       "    <tr>\n",
       "      <th>cast</th>\n",
       "      <td>4385</td>\n",
       "      <td>2987</td>\n",
       "      <td>non-null</td>\n",
       "      <td>non-null</td>\n",
       "      <td>object</td>\n",
       "      <td>object</td>\n",
       "      <td>13</td>\n",
       "      <td>13</td>\n",
       "      <td>0.295589</td>\n",
       "      <td>0.433333</td>\n",
       "    </tr>\n",
       "    <tr>\n",
       "      <th>crew</th>\n",
       "      <td>4376</td>\n",
       "      <td>2984</td>\n",
       "      <td>non-null</td>\n",
       "      <td>non-null</td>\n",
       "      <td>object</td>\n",
       "      <td>object</td>\n",
       "      <td>22</td>\n",
       "      <td>16</td>\n",
       "      <td>0.500227</td>\n",
       "      <td>0.533333</td>\n",
       "    </tr>\n",
       "    <tr>\n",
       "      <th>genres</th>\n",
       "      <td>4382</td>\n",
       "      <td>2993</td>\n",
       "      <td>non-null</td>\n",
       "      <td>non-null</td>\n",
       "      <td>object</td>\n",
       "      <td>object</td>\n",
       "      <td>16</td>\n",
       "      <td>7</td>\n",
       "      <td>0.363802</td>\n",
       "      <td>0.233333</td>\n",
       "    </tr>\n",
       "    <tr>\n",
       "      <th>homepage</th>\n",
       "      <td>1420</td>\n",
       "      <td>946</td>\n",
       "      <td>non-null</td>\n",
       "      <td>non-null</td>\n",
       "      <td>object</td>\n",
       "      <td>object</td>\n",
       "      <td>2978</td>\n",
       "      <td>2054</td>\n",
       "      <td>67.712597</td>\n",
       "      <td>68.466667</td>\n",
       "    </tr>\n",
       "    <tr>\n",
       "      <th>imdb_id</th>\n",
       "      <td>4398</td>\n",
       "      <td>3000</td>\n",
       "      <td>non-null</td>\n",
       "      <td>non-null</td>\n",
       "      <td>object</td>\n",
       "      <td>object</td>\n",
       "      <td>0</td>\n",
       "      <td>0</td>\n",
       "      <td>0.000000</td>\n",
       "      <td>0.000000</td>\n",
       "    </tr>\n",
       "    <tr>\n",
       "      <th>original_language</th>\n",
       "      <td>4398</td>\n",
       "      <td>3000</td>\n",
       "      <td>non-null</td>\n",
       "      <td>non-null</td>\n",
       "      <td>object</td>\n",
       "      <td>object</td>\n",
       "      <td>0</td>\n",
       "      <td>0</td>\n",
       "      <td>0.000000</td>\n",
       "      <td>0.000000</td>\n",
       "    </tr>\n",
       "    <tr>\n",
       "      <th>original_title</th>\n",
       "      <td>4398</td>\n",
       "      <td>3000</td>\n",
       "      <td>non-null</td>\n",
       "      <td>non-null</td>\n",
       "      <td>object</td>\n",
       "      <td>object</td>\n",
       "      <td>0</td>\n",
       "      <td>0</td>\n",
       "      <td>0.000000</td>\n",
       "      <td>0.000000</td>\n",
       "    </tr>\n",
       "    <tr>\n",
       "      <th>overview</th>\n",
       "      <td>4384</td>\n",
       "      <td>2992</td>\n",
       "      <td>non-null</td>\n",
       "      <td>non-null</td>\n",
       "      <td>object</td>\n",
       "      <td>object</td>\n",
       "      <td>14</td>\n",
       "      <td>8</td>\n",
       "      <td>0.318327</td>\n",
       "      <td>0.266667</td>\n",
       "    </tr>\n",
       "    <tr>\n",
       "      <th>poster_path</th>\n",
       "      <td>4397</td>\n",
       "      <td>2999</td>\n",
       "      <td>non-null</td>\n",
       "      <td>non-null</td>\n",
       "      <td>object</td>\n",
       "      <td>object</td>\n",
       "      <td>1</td>\n",
       "      <td>1</td>\n",
       "      <td>0.022738</td>\n",
       "      <td>0.033333</td>\n",
       "    </tr>\n",
       "    <tr>\n",
       "      <th>production_companies</th>\n",
       "      <td>4140</td>\n",
       "      <td>2844</td>\n",
       "      <td>non-null</td>\n",
       "      <td>non-null</td>\n",
       "      <td>object</td>\n",
       "      <td>object</td>\n",
       "      <td>258</td>\n",
       "      <td>156</td>\n",
       "      <td>5.866303</td>\n",
       "      <td>5.200000</td>\n",
       "    </tr>\n",
       "    <tr>\n",
       "      <th>production_countries</th>\n",
       "      <td>4296</td>\n",
       "      <td>2945</td>\n",
       "      <td>non-null</td>\n",
       "      <td>non-null</td>\n",
       "      <td>object</td>\n",
       "      <td>object</td>\n",
       "      <td>102</td>\n",
       "      <td>55</td>\n",
       "      <td>2.319236</td>\n",
       "      <td>1.833333</td>\n",
       "    </tr>\n",
       "    <tr>\n",
       "      <th>release_date</th>\n",
       "      <td>4397</td>\n",
       "      <td>3000</td>\n",
       "      <td>non-null</td>\n",
       "      <td>non-null</td>\n",
       "      <td>object</td>\n",
       "      <td>object</td>\n",
       "      <td>1</td>\n",
       "      <td>0</td>\n",
       "      <td>0.022738</td>\n",
       "      <td>0.000000</td>\n",
       "    </tr>\n",
       "    <tr>\n",
       "      <th>spoken_languages</th>\n",
       "      <td>4356</td>\n",
       "      <td>2980</td>\n",
       "      <td>non-null</td>\n",
       "      <td>non-null</td>\n",
       "      <td>object</td>\n",
       "      <td>object</td>\n",
       "      <td>42</td>\n",
       "      <td>20</td>\n",
       "      <td>0.954980</td>\n",
       "      <td>0.666667</td>\n",
       "    </tr>\n",
       "    <tr>\n",
       "      <th>status</th>\n",
       "      <td>4396</td>\n",
       "      <td>3000</td>\n",
       "      <td>non-null</td>\n",
       "      <td>non-null</td>\n",
       "      <td>object</td>\n",
       "      <td>object</td>\n",
       "      <td>2</td>\n",
       "      <td>0</td>\n",
       "      <td>0.045475</td>\n",
       "      <td>0.000000</td>\n",
       "    </tr>\n",
       "    <tr>\n",
       "      <th>tagline</th>\n",
       "      <td>3535</td>\n",
       "      <td>2403</td>\n",
       "      <td>non-null</td>\n",
       "      <td>non-null</td>\n",
       "      <td>object</td>\n",
       "      <td>object</td>\n",
       "      <td>863</td>\n",
       "      <td>597</td>\n",
       "      <td>19.622556</td>\n",
       "      <td>19.900000</td>\n",
       "    </tr>\n",
       "    <tr>\n",
       "      <th>title</th>\n",
       "      <td>4395</td>\n",
       "      <td>3000</td>\n",
       "      <td>non-null</td>\n",
       "      <td>non-null</td>\n",
       "      <td>object</td>\n",
       "      <td>object</td>\n",
       "      <td>3</td>\n",
       "      <td>0</td>\n",
       "      <td>0.068213</td>\n",
       "      <td>0.000000</td>\n",
       "    </tr>\n",
       "  </tbody>\n",
       "</table>\n",
       "</div>"
      ],
      "text/plain": [
       "                      Records          NullorNot           DataType           \\\n",
       "df_name               df_test df_train   df_test  df_train  df_test df_train   \n",
       "Columns                                                                        \n",
       "Keywords                 4005     2724  non-null  non-null   object   object   \n",
       "belongs_to_collection     877      604  non-null  non-null   object   object   \n",
       "cast                     4385     2987  non-null  non-null   object   object   \n",
       "crew                     4376     2984  non-null  non-null   object   object   \n",
       "genres                   4382     2993  non-null  non-null   object   object   \n",
       "homepage                 1420      946  non-null  non-null   object   object   \n",
       "imdb_id                  4398     3000  non-null  non-null   object   object   \n",
       "original_language        4398     3000  non-null  non-null   object   object   \n",
       "original_title           4398     3000  non-null  non-null   object   object   \n",
       "overview                 4384     2992  non-null  non-null   object   object   \n",
       "poster_path              4397     2999  non-null  non-null   object   object   \n",
       "production_companies     4140     2844  non-null  non-null   object   object   \n",
       "production_countries     4296     2945  non-null  non-null   object   object   \n",
       "release_date             4397     3000  non-null  non-null   object   object   \n",
       "spoken_languages         4356     2980  non-null  non-null   object   object   \n",
       "status                   4396     3000  non-null  non-null   object   object   \n",
       "tagline                  3535     2403  non-null  non-null   object   object   \n",
       "title                    4395     3000  non-null  non-null   object   object   \n",
       "\n",
       "                      MissingRecords          PercentMissingRecs             \n",
       "df_name                      df_test df_train            df_test   df_train  \n",
       "Columns                                                                      \n",
       "Keywords                         393      276           8.935880   9.200000  \n",
       "belongs_to_collection           3521     2396          80.059118  79.866667  \n",
       "cast                              13       13           0.295589   0.433333  \n",
       "crew                              22       16           0.500227   0.533333  \n",
       "genres                            16        7           0.363802   0.233333  \n",
       "homepage                        2978     2054          67.712597  68.466667  \n",
       "imdb_id                            0        0           0.000000   0.000000  \n",
       "original_language                  0        0           0.000000   0.000000  \n",
       "original_title                     0        0           0.000000   0.000000  \n",
       "overview                          14        8           0.318327   0.266667  \n",
       "poster_path                        1        1           0.022738   0.033333  \n",
       "production_companies             258      156           5.866303   5.200000  \n",
       "production_countries             102       55           2.319236   1.833333  \n",
       "release_date                       1        0           0.022738   0.000000  \n",
       "spoken_languages                  42       20           0.954980   0.666667  \n",
       "status                             2        0           0.045475   0.000000  \n",
       "tagline                          863      597          19.622556  19.900000  \n",
       "title                              3        0           0.068213   0.000000  "
      ]
     },
     "execution_count": 20,
     "metadata": {},
     "output_type": "execute_result"
    }
   ],
   "source": [
    "query1 = df_info[\"DataType\"]=='object'\n",
    "query2 = df_info[\"DataType\"]=='float64'\n",
    "query3 = df_info[\"DataType\"]=='int64'\n",
    "df_info[query1].pivot(columns='df_name')"
   ]
  },
  {
   "cell_type": "code",
   "execution_count": 21,
   "metadata": {},
   "outputs": [
    {
     "data": {
      "text/html": [
       "<div>\n",
       "<style scoped>\n",
       "    .dataframe tbody tr th:only-of-type {\n",
       "        vertical-align: middle;\n",
       "    }\n",
       "\n",
       "    .dataframe tbody tr th {\n",
       "        vertical-align: top;\n",
       "    }\n",
       "\n",
       "    .dataframe thead tr th {\n",
       "        text-align: left;\n",
       "    }\n",
       "\n",
       "    .dataframe thead tr:last-of-type th {\n",
       "        text-align: right;\n",
       "    }\n",
       "</style>\n",
       "<table border=\"1\" class=\"dataframe\">\n",
       "  <thead>\n",
       "    <tr>\n",
       "      <th></th>\n",
       "      <th colspan=\"2\" halign=\"left\">Records</th>\n",
       "      <th colspan=\"2\" halign=\"left\">NullorNot</th>\n",
       "      <th colspan=\"2\" halign=\"left\">DataType</th>\n",
       "      <th colspan=\"2\" halign=\"left\">MissingRecords</th>\n",
       "      <th colspan=\"2\" halign=\"left\">PercentMissingRecs</th>\n",
       "    </tr>\n",
       "    <tr>\n",
       "      <th>df_name</th>\n",
       "      <th>df_test</th>\n",
       "      <th>df_train</th>\n",
       "      <th>df_test</th>\n",
       "      <th>df_train</th>\n",
       "      <th>df_test</th>\n",
       "      <th>df_train</th>\n",
       "      <th>df_test</th>\n",
       "      <th>df_train</th>\n",
       "      <th>df_test</th>\n",
       "      <th>df_train</th>\n",
       "    </tr>\n",
       "    <tr>\n",
       "      <th>Columns</th>\n",
       "      <th></th>\n",
       "      <th></th>\n",
       "      <th></th>\n",
       "      <th></th>\n",
       "      <th></th>\n",
       "      <th></th>\n",
       "      <th></th>\n",
       "      <th></th>\n",
       "      <th></th>\n",
       "      <th></th>\n",
       "    </tr>\n",
       "  </thead>\n",
       "  <tbody>\n",
       "    <tr>\n",
       "      <th>popularity</th>\n",
       "      <td>4398</td>\n",
       "      <td>3000</td>\n",
       "      <td>non-null</td>\n",
       "      <td>non-null</td>\n",
       "      <td>float64</td>\n",
       "      <td>float64</td>\n",
       "      <td>0</td>\n",
       "      <td>0</td>\n",
       "      <td>0.00000</td>\n",
       "      <td>0.000000</td>\n",
       "    </tr>\n",
       "    <tr>\n",
       "      <th>runtime</th>\n",
       "      <td>4394</td>\n",
       "      <td>2998</td>\n",
       "      <td>non-null</td>\n",
       "      <td>non-null</td>\n",
       "      <td>float64</td>\n",
       "      <td>float64</td>\n",
       "      <td>4</td>\n",
       "      <td>2</td>\n",
       "      <td>0.09095</td>\n",
       "      <td>0.066667</td>\n",
       "    </tr>\n",
       "  </tbody>\n",
       "</table>\n",
       "</div>"
      ],
      "text/plain": [
       "           Records          NullorNot           DataType           \\\n",
       "df_name    df_test df_train   df_test  df_train  df_test df_train   \n",
       "Columns                                                             \n",
       "popularity    4398     3000  non-null  non-null  float64  float64   \n",
       "runtime       4394     2998  non-null  non-null  float64  float64   \n",
       "\n",
       "           MissingRecords          PercentMissingRecs            \n",
       "df_name           df_test df_train            df_test  df_train  \n",
       "Columns                                                          \n",
       "popularity              0        0            0.00000  0.000000  \n",
       "runtime                 4        2            0.09095  0.066667  "
      ]
     },
     "execution_count": 21,
     "metadata": {},
     "output_type": "execute_result"
    }
   ],
   "source": [
    "df_info[query2].pivot(columns='df_name')"
   ]
  },
  {
   "cell_type": "code",
   "execution_count": 22,
   "metadata": {},
   "outputs": [
    {
     "data": {
      "text/html": [
       "<div>\n",
       "<style scoped>\n",
       "    .dataframe tbody tr th:only-of-type {\n",
       "        vertical-align: middle;\n",
       "    }\n",
       "\n",
       "    .dataframe tbody tr th {\n",
       "        vertical-align: top;\n",
       "    }\n",
       "\n",
       "    .dataframe thead tr th {\n",
       "        text-align: left;\n",
       "    }\n",
       "\n",
       "    .dataframe thead tr:last-of-type th {\n",
       "        text-align: right;\n",
       "    }\n",
       "</style>\n",
       "<table border=\"1\" class=\"dataframe\">\n",
       "  <thead>\n",
       "    <tr>\n",
       "      <th></th>\n",
       "      <th colspan=\"2\" halign=\"left\">Records</th>\n",
       "      <th colspan=\"2\" halign=\"left\">NullorNot</th>\n",
       "      <th colspan=\"2\" halign=\"left\">DataType</th>\n",
       "      <th colspan=\"2\" halign=\"left\">MissingRecords</th>\n",
       "      <th colspan=\"2\" halign=\"left\">PercentMissingRecs</th>\n",
       "    </tr>\n",
       "    <tr>\n",
       "      <th>df_name</th>\n",
       "      <th>df_test</th>\n",
       "      <th>df_train</th>\n",
       "      <th>df_test</th>\n",
       "      <th>df_train</th>\n",
       "      <th>df_test</th>\n",
       "      <th>df_train</th>\n",
       "      <th>df_test</th>\n",
       "      <th>df_train</th>\n",
       "      <th>df_test</th>\n",
       "      <th>df_train</th>\n",
       "    </tr>\n",
       "    <tr>\n",
       "      <th>Columns</th>\n",
       "      <th></th>\n",
       "      <th></th>\n",
       "      <th></th>\n",
       "      <th></th>\n",
       "      <th></th>\n",
       "      <th></th>\n",
       "      <th></th>\n",
       "      <th></th>\n",
       "      <th></th>\n",
       "      <th></th>\n",
       "    </tr>\n",
       "  </thead>\n",
       "  <tbody>\n",
       "    <tr>\n",
       "      <th>budget</th>\n",
       "      <td>4398.0</td>\n",
       "      <td>3000.0</td>\n",
       "      <td>non-null</td>\n",
       "      <td>non-null</td>\n",
       "      <td>int64</td>\n",
       "      <td>int64</td>\n",
       "      <td>0.0</td>\n",
       "      <td>0.0</td>\n",
       "      <td>0.0</td>\n",
       "      <td>0.0</td>\n",
       "    </tr>\n",
       "    <tr>\n",
       "      <th>id</th>\n",
       "      <td>4398.0</td>\n",
       "      <td>3000.0</td>\n",
       "      <td>non-null</td>\n",
       "      <td>non-null</td>\n",
       "      <td>int64</td>\n",
       "      <td>int64</td>\n",
       "      <td>0.0</td>\n",
       "      <td>0.0</td>\n",
       "      <td>0.0</td>\n",
       "      <td>0.0</td>\n",
       "    </tr>\n",
       "    <tr>\n",
       "      <th>revenue</th>\n",
       "      <td>NaN</td>\n",
       "      <td>3000.0</td>\n",
       "      <td>NaN</td>\n",
       "      <td>non-null</td>\n",
       "      <td>NaN</td>\n",
       "      <td>int64</td>\n",
       "      <td>NaN</td>\n",
       "      <td>0.0</td>\n",
       "      <td>NaN</td>\n",
       "      <td>0.0</td>\n",
       "    </tr>\n",
       "  </tbody>\n",
       "</table>\n",
       "</div>"
      ],
      "text/plain": [
       "        Records          NullorNot           DataType          MissingRecords  \\\n",
       "df_name df_test df_train   df_test  df_train  df_test df_train        df_test   \n",
       "Columns                                                                         \n",
       "budget   4398.0   3000.0  non-null  non-null    int64    int64            0.0   \n",
       "id       4398.0   3000.0  non-null  non-null    int64    int64            0.0   \n",
       "revenue     NaN   3000.0       NaN  non-null      NaN    int64            NaN   \n",
       "\n",
       "                 PercentMissingRecs           \n",
       "df_name df_train            df_test df_train  \n",
       "Columns                                       \n",
       "budget       0.0                0.0      0.0  \n",
       "id           0.0                0.0      0.0  \n",
       "revenue      0.0                NaN      0.0  "
      ]
     },
     "execution_count": 22,
     "metadata": {},
     "output_type": "execute_result"
    }
   ],
   "source": [
    "df_info[query3].pivot(columns='df_name')"
   ]
  },
  {
   "cell_type": "code",
   "execution_count": 23,
   "metadata": {},
   "outputs": [
    {
     "data": {
      "text/html": [
       "<div>\n",
       "<style scoped>\n",
       "    .dataframe tbody tr th:only-of-type {\n",
       "        vertical-align: middle;\n",
       "    }\n",
       "\n",
       "    .dataframe tbody tr th {\n",
       "        vertical-align: top;\n",
       "    }\n",
       "\n",
       "    .dataframe thead th {\n",
       "        text-align: right;\n",
       "    }\n",
       "</style>\n",
       "<table border=\"1\" class=\"dataframe\">\n",
       "  <thead>\n",
       "    <tr style=\"text-align: right;\">\n",
       "      <th></th>\n",
       "      <th>Records</th>\n",
       "      <th>NullorNot</th>\n",
       "      <th>DataType</th>\n",
       "      <th>df_name</th>\n",
       "      <th>MissingRecords</th>\n",
       "      <th>PercentMissingRecs</th>\n",
       "    </tr>\n",
       "    <tr>\n",
       "      <th>Columns</th>\n",
       "      <th></th>\n",
       "      <th></th>\n",
       "      <th></th>\n",
       "      <th></th>\n",
       "      <th></th>\n",
       "      <th></th>\n",
       "    </tr>\n",
       "  </thead>\n",
       "  <tbody>\n",
       "    <tr>\n",
       "      <th>belongs_to_collection</th>\n",
       "      <td>604</td>\n",
       "      <td>non-null</td>\n",
       "      <td>object</td>\n",
       "      <td>df_train</td>\n",
       "      <td>2396</td>\n",
       "      <td>79.866667</td>\n",
       "    </tr>\n",
       "    <tr>\n",
       "      <th>genres</th>\n",
       "      <td>2993</td>\n",
       "      <td>non-null</td>\n",
       "      <td>object</td>\n",
       "      <td>df_train</td>\n",
       "      <td>7</td>\n",
       "      <td>0.233333</td>\n",
       "    </tr>\n",
       "    <tr>\n",
       "      <th>homepage</th>\n",
       "      <td>946</td>\n",
       "      <td>non-null</td>\n",
       "      <td>object</td>\n",
       "      <td>df_train</td>\n",
       "      <td>2054</td>\n",
       "      <td>68.466667</td>\n",
       "    </tr>\n",
       "    <tr>\n",
       "      <th>overview</th>\n",
       "      <td>2992</td>\n",
       "      <td>non-null</td>\n",
       "      <td>object</td>\n",
       "      <td>df_train</td>\n",
       "      <td>8</td>\n",
       "      <td>0.266667</td>\n",
       "    </tr>\n",
       "    <tr>\n",
       "      <th>poster_path</th>\n",
       "      <td>2999</td>\n",
       "      <td>non-null</td>\n",
       "      <td>object</td>\n",
       "      <td>df_train</td>\n",
       "      <td>1</td>\n",
       "      <td>0.033333</td>\n",
       "    </tr>\n",
       "    <tr>\n",
       "      <th>production_companies</th>\n",
       "      <td>2844</td>\n",
       "      <td>non-null</td>\n",
       "      <td>object</td>\n",
       "      <td>df_train</td>\n",
       "      <td>156</td>\n",
       "      <td>5.200000</td>\n",
       "    </tr>\n",
       "    <tr>\n",
       "      <th>production_countries</th>\n",
       "      <td>2945</td>\n",
       "      <td>non-null</td>\n",
       "      <td>object</td>\n",
       "      <td>df_train</td>\n",
       "      <td>55</td>\n",
       "      <td>1.833333</td>\n",
       "    </tr>\n",
       "    <tr>\n",
       "      <th>runtime</th>\n",
       "      <td>2998</td>\n",
       "      <td>non-null</td>\n",
       "      <td>float64</td>\n",
       "      <td>df_train</td>\n",
       "      <td>2</td>\n",
       "      <td>0.066667</td>\n",
       "    </tr>\n",
       "    <tr>\n",
       "      <th>spoken_languages</th>\n",
       "      <td>2980</td>\n",
       "      <td>non-null</td>\n",
       "      <td>object</td>\n",
       "      <td>df_train</td>\n",
       "      <td>20</td>\n",
       "      <td>0.666667</td>\n",
       "    </tr>\n",
       "    <tr>\n",
       "      <th>tagline</th>\n",
       "      <td>2403</td>\n",
       "      <td>non-null</td>\n",
       "      <td>object</td>\n",
       "      <td>df_train</td>\n",
       "      <td>597</td>\n",
       "      <td>19.900000</td>\n",
       "    </tr>\n",
       "    <tr>\n",
       "      <th>Keywords</th>\n",
       "      <td>2724</td>\n",
       "      <td>non-null</td>\n",
       "      <td>object</td>\n",
       "      <td>df_train</td>\n",
       "      <td>276</td>\n",
       "      <td>9.200000</td>\n",
       "    </tr>\n",
       "    <tr>\n",
       "      <th>cast</th>\n",
       "      <td>2987</td>\n",
       "      <td>non-null</td>\n",
       "      <td>object</td>\n",
       "      <td>df_train</td>\n",
       "      <td>13</td>\n",
       "      <td>0.433333</td>\n",
       "    </tr>\n",
       "    <tr>\n",
       "      <th>crew</th>\n",
       "      <td>2984</td>\n",
       "      <td>non-null</td>\n",
       "      <td>object</td>\n",
       "      <td>df_train</td>\n",
       "      <td>16</td>\n",
       "      <td>0.533333</td>\n",
       "    </tr>\n",
       "    <tr>\n",
       "      <th>belongs_to_collection</th>\n",
       "      <td>877</td>\n",
       "      <td>non-null</td>\n",
       "      <td>object</td>\n",
       "      <td>df_test</td>\n",
       "      <td>3521</td>\n",
       "      <td>80.059118</td>\n",
       "    </tr>\n",
       "    <tr>\n",
       "      <th>genres</th>\n",
       "      <td>4382</td>\n",
       "      <td>non-null</td>\n",
       "      <td>object</td>\n",
       "      <td>df_test</td>\n",
       "      <td>16</td>\n",
       "      <td>0.363802</td>\n",
       "    </tr>\n",
       "    <tr>\n",
       "      <th>homepage</th>\n",
       "      <td>1420</td>\n",
       "      <td>non-null</td>\n",
       "      <td>object</td>\n",
       "      <td>df_test</td>\n",
       "      <td>2978</td>\n",
       "      <td>67.712597</td>\n",
       "    </tr>\n",
       "    <tr>\n",
       "      <th>overview</th>\n",
       "      <td>4384</td>\n",
       "      <td>non-null</td>\n",
       "      <td>object</td>\n",
       "      <td>df_test</td>\n",
       "      <td>14</td>\n",
       "      <td>0.318327</td>\n",
       "    </tr>\n",
       "    <tr>\n",
       "      <th>poster_path</th>\n",
       "      <td>4397</td>\n",
       "      <td>non-null</td>\n",
       "      <td>object</td>\n",
       "      <td>df_test</td>\n",
       "      <td>1</td>\n",
       "      <td>0.022738</td>\n",
       "    </tr>\n",
       "    <tr>\n",
       "      <th>production_companies</th>\n",
       "      <td>4140</td>\n",
       "      <td>non-null</td>\n",
       "      <td>object</td>\n",
       "      <td>df_test</td>\n",
       "      <td>258</td>\n",
       "      <td>5.866303</td>\n",
       "    </tr>\n",
       "    <tr>\n",
       "      <th>production_countries</th>\n",
       "      <td>4296</td>\n",
       "      <td>non-null</td>\n",
       "      <td>object</td>\n",
       "      <td>df_test</td>\n",
       "      <td>102</td>\n",
       "      <td>2.319236</td>\n",
       "    </tr>\n",
       "    <tr>\n",
       "      <th>release_date</th>\n",
       "      <td>4397</td>\n",
       "      <td>non-null</td>\n",
       "      <td>object</td>\n",
       "      <td>df_test</td>\n",
       "      <td>1</td>\n",
       "      <td>0.022738</td>\n",
       "    </tr>\n",
       "    <tr>\n",
       "      <th>runtime</th>\n",
       "      <td>4394</td>\n",
       "      <td>non-null</td>\n",
       "      <td>float64</td>\n",
       "      <td>df_test</td>\n",
       "      <td>4</td>\n",
       "      <td>0.090950</td>\n",
       "    </tr>\n",
       "    <tr>\n",
       "      <th>spoken_languages</th>\n",
       "      <td>4356</td>\n",
       "      <td>non-null</td>\n",
       "      <td>object</td>\n",
       "      <td>df_test</td>\n",
       "      <td>42</td>\n",
       "      <td>0.954980</td>\n",
       "    </tr>\n",
       "    <tr>\n",
       "      <th>status</th>\n",
       "      <td>4396</td>\n",
       "      <td>non-null</td>\n",
       "      <td>object</td>\n",
       "      <td>df_test</td>\n",
       "      <td>2</td>\n",
       "      <td>0.045475</td>\n",
       "    </tr>\n",
       "    <tr>\n",
       "      <th>tagline</th>\n",
       "      <td>3535</td>\n",
       "      <td>non-null</td>\n",
       "      <td>object</td>\n",
       "      <td>df_test</td>\n",
       "      <td>863</td>\n",
       "      <td>19.622556</td>\n",
       "    </tr>\n",
       "    <tr>\n",
       "      <th>title</th>\n",
       "      <td>4395</td>\n",
       "      <td>non-null</td>\n",
       "      <td>object</td>\n",
       "      <td>df_test</td>\n",
       "      <td>3</td>\n",
       "      <td>0.068213</td>\n",
       "    </tr>\n",
       "    <tr>\n",
       "      <th>Keywords</th>\n",
       "      <td>4005</td>\n",
       "      <td>non-null</td>\n",
       "      <td>object</td>\n",
       "      <td>df_test</td>\n",
       "      <td>393</td>\n",
       "      <td>8.935880</td>\n",
       "    </tr>\n",
       "    <tr>\n",
       "      <th>cast</th>\n",
       "      <td>4385</td>\n",
       "      <td>non-null</td>\n",
       "      <td>object</td>\n",
       "      <td>df_test</td>\n",
       "      <td>13</td>\n",
       "      <td>0.295589</td>\n",
       "    </tr>\n",
       "    <tr>\n",
       "      <th>crew</th>\n",
       "      <td>4376</td>\n",
       "      <td>non-null</td>\n",
       "      <td>object</td>\n",
       "      <td>df_test</td>\n",
       "      <td>22</td>\n",
       "      <td>0.500227</td>\n",
       "    </tr>\n",
       "  </tbody>\n",
       "</table>\n",
       "</div>"
      ],
      "text/plain": [
       "                       Records NullorNot DataType   df_name  MissingRecords  \\\n",
       "Columns                                                                       \n",
       "belongs_to_collection      604  non-null   object  df_train            2396   \n",
       "genres                    2993  non-null   object  df_train               7   \n",
       "homepage                   946  non-null   object  df_train            2054   \n",
       "overview                  2992  non-null   object  df_train               8   \n",
       "poster_path               2999  non-null   object  df_train               1   \n",
       "production_companies      2844  non-null   object  df_train             156   \n",
       "production_countries      2945  non-null   object  df_train              55   \n",
       "runtime                   2998  non-null  float64  df_train               2   \n",
       "spoken_languages          2980  non-null   object  df_train              20   \n",
       "tagline                   2403  non-null   object  df_train             597   \n",
       "Keywords                  2724  non-null   object  df_train             276   \n",
       "cast                      2987  non-null   object  df_train              13   \n",
       "crew                      2984  non-null   object  df_train              16   \n",
       "belongs_to_collection      877  non-null   object   df_test            3521   \n",
       "genres                    4382  non-null   object   df_test              16   \n",
       "homepage                  1420  non-null   object   df_test            2978   \n",
       "overview                  4384  non-null   object   df_test              14   \n",
       "poster_path               4397  non-null   object   df_test               1   \n",
       "production_companies      4140  non-null   object   df_test             258   \n",
       "production_countries      4296  non-null   object   df_test             102   \n",
       "release_date              4397  non-null   object   df_test               1   \n",
       "runtime                   4394  non-null  float64   df_test               4   \n",
       "spoken_languages          4356  non-null   object   df_test              42   \n",
       "status                    4396  non-null   object   df_test               2   \n",
       "tagline                   3535  non-null   object   df_test             863   \n",
       "title                     4395  non-null   object   df_test               3   \n",
       "Keywords                  4005  non-null   object   df_test             393   \n",
       "cast                      4385  non-null   object   df_test              13   \n",
       "crew                      4376  non-null   object   df_test              22   \n",
       "\n",
       "                       PercentMissingRecs  \n",
       "Columns                                    \n",
       "belongs_to_collection           79.866667  \n",
       "genres                           0.233333  \n",
       "homepage                        68.466667  \n",
       "overview                         0.266667  \n",
       "poster_path                      0.033333  \n",
       "production_companies             5.200000  \n",
       "production_countries             1.833333  \n",
       "runtime                          0.066667  \n",
       "spoken_languages                 0.666667  \n",
       "tagline                         19.900000  \n",
       "Keywords                         9.200000  \n",
       "cast                             0.433333  \n",
       "crew                             0.533333  \n",
       "belongs_to_collection           80.059118  \n",
       "genres                           0.363802  \n",
       "homepage                        67.712597  \n",
       "overview                         0.318327  \n",
       "poster_path                      0.022738  \n",
       "production_companies             5.866303  \n",
       "production_countries             2.319236  \n",
       "release_date                     0.022738  \n",
       "runtime                          0.090950  \n",
       "spoken_languages                 0.954980  \n",
       "status                           0.045475  \n",
       "tagline                         19.622556  \n",
       "title                            0.068213  \n",
       "Keywords                         8.935880  \n",
       "cast                             0.295589  \n",
       "crew                             0.500227  "
      ]
     },
     "execution_count": 23,
     "metadata": {},
     "output_type": "execute_result"
    }
   ],
   "source": [
    "query4 = df_info[\"PercentMissingRecs\"]>0\n",
    "df_info[query4]"
   ]
  },
  {
   "cell_type": "code",
   "execution_count": 24,
   "metadata": {},
   "outputs": [
    {
     "name": "stdout",
     "output_type": "stream",
     "text": [
      "3000 train + 4398 test\n"
     ]
    }
   ],
   "source": [
    "print(len(df_train), \"train +\", len(df_test), \"test\")"
   ]
  },
  {
   "cell_type": "markdown",
   "metadata": {},
   "source": [
    "##### Observations:\n",
    "\n",
    "1.There are 3000 instances in the train dataset and 4398 instances in test dataset\n",
    "\n",
    "2.Name-Value pair columns - 'belongs_to_collection', 'genres', 'production_companies', 'production_countries', 'spoken_languages', 'Keywords', 'cast', 'crew'\n",
    "\n",
    "3.Noticed Nulls in 16 Columns. \"Belongs_to_collection\" has highest missing records(80.05%), followed by 'homepage'(67.71%) and 'tagline' (19.62%). Rest columns have few missing records. Lets find solution during Feature Engineering. \n",
    "\n",
    "4.'id' attribute is a primary key of the datasets. Not an important attribute for ML predict model. But, important attribute for Kaggle submission. \n",
    "\n",
    "5.'revenue' attribute is the TARGET variable (y). Its not available in the test dataset. "
   ]
  },
  {
   "cell_type": "markdown",
   "metadata": {},
   "source": [
    "##### Categorical Attributes:\n",
    "belongs_to_collection, genres, homepage, imdb_id, original_language, original_title, overview, poster_path, production_companies, production_countries, release_date, spoken_languages, status, tagline, title, Keywords, cast,crew\n",
    "\n",
    "##### Numerical Attributes:\n",
    "\n",
    "C.Continous: budget, revenue\n",
    "\n",
    "D.Discrete: popularity, runtime\n",
    "\n",
    "Target variable (to predict'revenue') is a continous Numerical attribute. "
   ]
  },
  {
   "cell_type": "code",
   "execution_count": 25,
   "metadata": {},
   "outputs": [
    {
     "data": {
      "text/html": [
       "<div>\n",
       "<style scoped>\n",
       "    .dataframe tbody tr th:only-of-type {\n",
       "        vertical-align: middle;\n",
       "    }\n",
       "\n",
       "    .dataframe tbody tr th {\n",
       "        vertical-align: top;\n",
       "    }\n",
       "\n",
       "    .dataframe thead th {\n",
       "        text-align: right;\n",
       "    }\n",
       "</style>\n",
       "<table border=\"1\" class=\"dataframe\">\n",
       "  <thead>\n",
       "    <tr style=\"text-align: right;\">\n",
       "      <th></th>\n",
       "      <th>id</th>\n",
       "      <th>budget</th>\n",
       "      <th>popularity</th>\n",
       "      <th>runtime</th>\n",
       "      <th>revenue</th>\n",
       "    </tr>\n",
       "  </thead>\n",
       "  <tbody>\n",
       "    <tr>\n",
       "      <th>count</th>\n",
       "      <td>3000.000000</td>\n",
       "      <td>3.000000e+03</td>\n",
       "      <td>3000.000000</td>\n",
       "      <td>2998.000000</td>\n",
       "      <td>3.000000e+03</td>\n",
       "    </tr>\n",
       "    <tr>\n",
       "      <th>mean</th>\n",
       "      <td>1500.500000</td>\n",
       "      <td>2.253133e+07</td>\n",
       "      <td>8.463274</td>\n",
       "      <td>107.856571</td>\n",
       "      <td>6.672585e+07</td>\n",
       "    </tr>\n",
       "    <tr>\n",
       "      <th>std</th>\n",
       "      <td>866.169729</td>\n",
       "      <td>3.702609e+07</td>\n",
       "      <td>12.104000</td>\n",
       "      <td>22.086434</td>\n",
       "      <td>1.375323e+08</td>\n",
       "    </tr>\n",
       "    <tr>\n",
       "      <th>min</th>\n",
       "      <td>1.000000</td>\n",
       "      <td>0.000000e+00</td>\n",
       "      <td>0.000001</td>\n",
       "      <td>0.000000</td>\n",
       "      <td>1.000000e+00</td>\n",
       "    </tr>\n",
       "    <tr>\n",
       "      <th>25%</th>\n",
       "      <td>750.750000</td>\n",
       "      <td>0.000000e+00</td>\n",
       "      <td>4.018053</td>\n",
       "      <td>94.000000</td>\n",
       "      <td>2.379808e+06</td>\n",
       "    </tr>\n",
       "    <tr>\n",
       "      <th>50%</th>\n",
       "      <td>1500.500000</td>\n",
       "      <td>8.000000e+06</td>\n",
       "      <td>7.374861</td>\n",
       "      <td>104.000000</td>\n",
       "      <td>1.680707e+07</td>\n",
       "    </tr>\n",
       "    <tr>\n",
       "      <th>75%</th>\n",
       "      <td>2250.250000</td>\n",
       "      <td>2.900000e+07</td>\n",
       "      <td>10.890983</td>\n",
       "      <td>118.000000</td>\n",
       "      <td>6.891920e+07</td>\n",
       "    </tr>\n",
       "    <tr>\n",
       "      <th>max</th>\n",
       "      <td>3000.000000</td>\n",
       "      <td>3.800000e+08</td>\n",
       "      <td>294.337037</td>\n",
       "      <td>338.000000</td>\n",
       "      <td>1.519558e+09</td>\n",
       "    </tr>\n",
       "  </tbody>\n",
       "</table>\n",
       "</div>"
      ],
      "text/plain": [
       "                id        budget   popularity      runtime       revenue\n",
       "count  3000.000000  3.000000e+03  3000.000000  2998.000000  3.000000e+03\n",
       "mean   1500.500000  2.253133e+07     8.463274   107.856571  6.672585e+07\n",
       "std     866.169729  3.702609e+07    12.104000    22.086434  1.375323e+08\n",
       "min       1.000000  0.000000e+00     0.000001     0.000000  1.000000e+00\n",
       "25%     750.750000  0.000000e+00     4.018053    94.000000  2.379808e+06\n",
       "50%    1500.500000  8.000000e+06     7.374861   104.000000  1.680707e+07\n",
       "75%    2250.250000  2.900000e+07    10.890983   118.000000  6.891920e+07\n",
       "max    3000.000000  3.800000e+08   294.337037   338.000000  1.519558e+09"
      ]
     },
     "execution_count": 25,
     "metadata": {},
     "output_type": "execute_result"
    }
   ],
   "source": [
    "# Table stats of Numerical Attributes\n",
    "df_train.describe()"
   ]
  },
  {
   "cell_type": "markdown",
   "metadata": {},
   "source": [
    "### Data Visuals"
   ]
  },
  {
   "cell_type": "markdown",
   "metadata": {},
   "source": [
    "### Plot 1: Histograms"
   ]
  },
  {
   "cell_type": "code",
   "execution_count": 26,
   "metadata": {},
   "outputs": [
    {
     "data": {
      "image/png": "[encoded data removed]",
      "text/plain": [
       "<Figure size 1440x1080 with 6 Axes>"
      ]
     },
     "metadata": {},
     "output_type": "display_data"
    }
   ],
   "source": [
    "df_train.hist(bins=50, figsize=(20,15))\n",
    "plt.show()"
   ]
  },
  {
   "cell_type": "markdown",
   "metadata": {},
   "source": [
    "##### Observations:"
   ]
  },
  {
   "cell_type": "markdown",
   "metadata": {},
   "source": [
    "Finally, many histograms(except 'id', ignore id for time being) are tail heavy: they extend much farther to the left of the median than to the right. This may make it a bit harder for some Machine Learning algorithms to detect patterns. Later,Lets transform these attributes to have more bell-shaped distributions."
   ]
  },
  {
   "cell_type": "markdown",
   "metadata": {},
   "source": [
    "### Plot 2: Scatter Plot of data points"
   ]
  },
  {
   "cell_type": "code",
   "execution_count": 31,
   "metadata": {},
   "outputs": [
    {
     "data": {
      "text/plain": [
       "<matplotlib.axes._subplots.AxesSubplot at 0x213e4673e80>"
      ]
     },
     "execution_count": 31,
     "metadata": {},
     "output_type": "execute_result"
    },
    {
     "data": {
      "image/png": "[encoded data removed]",
      "text/plain": [
       "<Figure size 432x288 with 1 Axes>"
      ]
     },
     "metadata": {},
     "output_type": "display_data"
    }
   ],
   "source": [
    "# Popularity vs Revenue\n",
    "df_train.plot(kind=\"scatter\", x=\"popularity\", y=\"revenue\", alpha=0.05)\n",
    "#save_fig(\"better_visualization_plot\")"
   ]
  },
  {
   "cell_type": "markdown",
   "metadata": {},
   "source": [
    "### Plot 3 : Correlation Matrix"
   ]
  },
  {
   "cell_type": "code",
   "execution_count": 32,
   "metadata": {},
   "outputs": [
    {
     "data": {
      "text/html": [
       "<div>\n",
       "<style scoped>\n",
       "    .dataframe tbody tr th:only-of-type {\n",
       "        vertical-align: middle;\n",
       "    }\n",
       "\n",
       "    .dataframe tbody tr th {\n",
       "        vertical-align: top;\n",
       "    }\n",
       "\n",
       "    .dataframe thead th {\n",
       "        text-align: right;\n",
       "    }\n",
       "</style>\n",
       "<table border=\"1\" class=\"dataframe\">\n",
       "  <thead>\n",
       "    <tr style=\"text-align: right;\">\n",
       "      <th></th>\n",
       "      <th>id</th>\n",
       "      <th>budget</th>\n",
       "      <th>popularity</th>\n",
       "      <th>runtime</th>\n",
       "      <th>revenue</th>\n",
       "    </tr>\n",
       "  </thead>\n",
       "  <tbody>\n",
       "    <tr>\n",
       "      <th>id</th>\n",
       "      <td>1.000000</td>\n",
       "      <td>0.019732</td>\n",
       "      <td>-0.007470</td>\n",
       "      <td>0.010750</td>\n",
       "      <td>0.000610</td>\n",
       "    </tr>\n",
       "    <tr>\n",
       "      <th>budget</th>\n",
       "      <td>0.019732</td>\n",
       "      <td>1.000000</td>\n",
       "      <td>0.342356</td>\n",
       "      <td>0.238373</td>\n",
       "      <td>0.752965</td>\n",
       "    </tr>\n",
       "    <tr>\n",
       "      <th>popularity</th>\n",
       "      <td>-0.007470</td>\n",
       "      <td>0.342356</td>\n",
       "      <td>1.000000</td>\n",
       "      <td>0.133690</td>\n",
       "      <td>0.461460</td>\n",
       "    </tr>\n",
       "    <tr>\n",
       "      <th>runtime</th>\n",
       "      <td>0.010750</td>\n",
       "      <td>0.238373</td>\n",
       "      <td>0.133690</td>\n",
       "      <td>1.000000</td>\n",
       "      <td>0.216380</td>\n",
       "    </tr>\n",
       "    <tr>\n",
       "      <th>revenue</th>\n",
       "      <td>0.000610</td>\n",
       "      <td>0.752965</td>\n",
       "      <td>0.461460</td>\n",
       "      <td>0.216380</td>\n",
       "      <td>1.000000</td>\n",
       "    </tr>\n",
       "  </tbody>\n",
       "</table>\n",
       "</div>"
      ],
      "text/plain": [
       "                  id    budget  popularity   runtime   revenue\n",
       "id          1.000000  0.019732   -0.007470  0.010750  0.000610\n",
       "budget      0.019732  1.000000    0.342356  0.238373  0.752965\n",
       "popularity -0.007470  0.342356    1.000000  0.133690  0.461460\n",
       "runtime     0.010750  0.238373    0.133690  1.000000  0.216380\n",
       "revenue     0.000610  0.752965    0.461460  0.216380  1.000000"
      ]
     },
     "execution_count": 32,
     "metadata": {},
     "output_type": "execute_result"
    }
   ],
   "source": [
    "corr_matrix = df_train.corr()\n",
    "corr_matrix"
   ]
  },
  {
   "cell_type": "code",
   "execution_count": 33,
   "metadata": {},
   "outputs": [
    {
     "data": {
      "text/plain": [
       "revenue       1.000000\n",
       "budget        0.752965\n",
       "popularity    0.461460\n",
       "runtime       0.216380\n",
       "id            0.000610\n",
       "Name: revenue, dtype: float64"
      ]
     },
     "execution_count": 33,
     "metadata": {},
     "output_type": "execute_result"
    }
   ],
   "source": [
    "# correlation matrix wrt revenue\n",
    "corr_matrix[\"revenue\"].sort_values(ascending=False)"
   ]
  },
  {
   "cell_type": "markdown",
   "metadata": {},
   "source": [
    "### Plot 4 : Pandas Scatter Matrix"
   ]
  },
  {
   "cell_type": "code",
   "execution_count": 34,
   "metadata": {},
   "outputs": [
    {
     "data": {
      "image/png": "[encoded data removed]",
      "text/plain": [
       "<Figure size 864x576 with 16 Axes>"
      ]
     },
     "metadata": {},
     "output_type": "display_data"
    }
   ],
   "source": [
    "from pandas.plotting import scatter_matrix\n",
    "\n",
    "attributes = [\"revenue\", \"budget\", \"popularity\",\n",
    "              \"runtime\"]\n",
    "scatter_matrix(df_train[attributes], figsize=(12, 8))\n",
    "plt.show()\n",
    "#save_fig(\"scatter_matrix_plot\")"
   ]
  },
  {
   "cell_type": "markdown",
   "metadata": {},
   "source": [
    "### Plot 5 : Scatter Matrix- Revenue Vs Budget"
   ]
  },
  {
   "cell_type": "code",
   "execution_count": 35,
   "metadata": {},
   "outputs": [
    {
     "data": {
      "text/plain": [
       "[0, 200000000, 0, 300000000]"
      ]
     },
     "execution_count": 35,
     "metadata": {},
     "output_type": "execute_result"
    },
    {
     "data": {
      "image/png": "[encoded data removed]",
      "text/plain": [
       "<Figure size 432x288 with 1 Axes>"
      ]
     },
     "metadata": {},
     "output_type": "display_data"
    }
   ],
   "source": [
    "df_train.plot(kind=\"scatter\", x=\"budget\", y=\"revenue\",\n",
    "             alpha=0.1)\n",
    "plt.axis([0, 200000000, 0, 300000000])\n",
    "#save_fig(\"income_vs_house_value_scatterplot\")"
   ]
  },
  {
   "cell_type": "markdown",
   "metadata": {},
   "source": [
    "This plot reveals a few things. First, the correlation is indeed very strong; you can clearly see the upward trend and the points are not too dispersed. Second, there are some outliners, high buget movies failed to make box office revenue.  \n"
   ]
  },
  {
   "cell_type": "markdown",
   "metadata": {},
   "source": [
    "##  Feature Engineering "
   ]
  },
  {
   "cell_type": "markdown",
   "metadata": {},
   "source": [
    "### Copy Train set"
   ]
  },
  {
   "cell_type": "code",
   "execution_count": 85,
   "metadata": {},
   "outputs": [],
   "source": [
    "# copy the train set, so that we don't mess with the original data. \n",
    "df_train1 = df_train.copy()"
   ]
  },
  {
   "cell_type": "markdown",
   "metadata": {},
   "source": [
    "###  Categorical Transformations"
   ]
  },
  {
   "cell_type": "code",
   "execution_count": 86,
   "metadata": {},
   "outputs": [],
   "source": [
    "Cols_to_fix=[\"genres\", \"production_companies\", \"production_countries\",\\\n",
    "                 \"Keywords\"]"
   ]
  },
  {
   "cell_type": "markdown",
   "metadata": {},
   "source": [
    "####  genres"
   ]
  },
  {
   "cell_type": "markdown",
   "metadata": {},
   "source": [
    "#####  Json string to List"
   ]
  },
  {
   "cell_type": "code",
   "execution_count": 87,
   "metadata": {},
   "outputs": [],
   "source": [
    "# Get the non nulls\n",
    "# Convert the values to dict\n",
    "# Get Name and sorted\n",
    "# Get in a list\n",
    "\n",
    "df_train1[\"genres_lst\"]=df_train1.loc[df_train1[\"genres\"].notnull(),\"genres\"].apply(lambda x : ast.literal_eval(x)).apply(lambda x : sorted([y[\"name\"] for y in x]))"
   ]
  },
  {
   "cell_type": "code",
   "execution_count": 88,
   "metadata": {},
   "outputs": [
    {
     "data": {
      "text/plain": [
       "genres        7\n",
       "genres_lst    7\n",
       "dtype: int64"
      ]
     },
     "execution_count": 88,
     "metadata": {},
     "output_type": "execute_result"
    }
   ],
   "source": [
    "# records with nulls\n",
    "df_train1[[\"genres\",\"genres_lst\"]].isnull().sum()"
   ]
  },
  {
   "cell_type": "markdown",
   "metadata": {},
   "source": [
    "#####  fill nulls with empty list"
   ]
  },
  {
   "cell_type": "code",
   "execution_count": 89,
   "metadata": {},
   "outputs": [],
   "source": [
    "# create df_gen for Genres\n",
    "df_gen = pd.DataFrame(df_train1[['id','genres_lst']])"
   ]
  },
  {
   "cell_type": "code",
   "execution_count": 90,
   "metadata": {},
   "outputs": [
    {
     "data": {
      "text/plain": [
       "470     NaN\n",
       "1622    NaN\n",
       "1814    NaN\n",
       "1819    NaN\n",
       "2423    NaN\n",
       "2686    NaN\n",
       "2900    NaN\n",
       "Name: genres_lst, dtype: object"
      ]
     },
     "execution_count": 90,
     "metadata": {},
     "output_type": "execute_result"
    }
   ],
   "source": [
    "# check for null values\n",
    "df_gen.loc[df_gen['genres_lst'].isnull(),'genres_lst']"
   ]
  },
  {
   "cell_type": "code",
   "execution_count": 91,
   "metadata": {},
   "outputs": [],
   "source": [
    "# fill the null with empty list\n",
    "df_gen['genres_lst']=df_gen['genres_lst'].apply(lambda d: d if isinstance(d, list) else [])"
   ]
  },
  {
   "cell_type": "markdown",
   "metadata": {},
   "source": [
    "#####  One Hot-encoding"
   ]
  },
  {
   "cell_type": "code",
   "execution_count": 92,
   "metadata": {},
   "outputs": [],
   "source": [
    "# One Hot encoding using Sckit-learn's MultiLabelBinarizer()\n",
    "mlb = MultiLabelBinarizer()\n",
    "df_gen = df_gen.join(pd.DataFrame(mlb.fit_transform(df_gen['genres_lst']),\n",
    "                          columns=mlb.classes_,\n",
    "                          index=df_gen.index))"
   ]
  },
  {
   "cell_type": "markdown",
   "metadata": {},
   "source": [
    "##### Add the values to Train datset"
   ]
  },
  {
   "cell_type": "code",
   "execution_count": 93,
   "metadata": {},
   "outputs": [
    {
     "data": {
      "text/plain": [
       "Index(['id', 'genres_lst', 'Action', 'Adventure', 'Animation', 'Comedy',\n",
       "       'Crime', 'Documentary', 'Drama', 'Family', 'Fantasy', 'Foreign',\n",
       "       'History', 'Horror', 'Music', 'Mystery', 'Romance', 'Science Fiction',\n",
       "       'TV Movie', 'Thriller', 'War', 'Western'],\n",
       "      dtype='object')"
      ]
     },
     "execution_count": 93,
     "metadata": {},
     "output_type": "execute_result"
    }
   ],
   "source": [
    "#columns of new df\n",
    "df_gen.columns"
   ]
  },
  {
   "cell_type": "code",
   "execution_count": 94,
   "metadata": {
    "scrolled": true
   },
   "outputs": [
    {
     "data": {
      "text/html": [
       "<div>\n",
       "<style scoped>\n",
       "    .dataframe tbody tr th:only-of-type {\n",
       "        vertical-align: middle;\n",
       "    }\n",
       "\n",
       "    .dataframe tbody tr th {\n",
       "        vertical-align: top;\n",
       "    }\n",
       "\n",
       "    .dataframe thead th {\n",
       "        text-align: right;\n",
       "    }\n",
       "</style>\n",
       "<table border=\"1\" class=\"dataframe\">\n",
       "  <thead>\n",
       "    <tr style=\"text-align: right;\">\n",
       "      <th></th>\n",
       "      <th>Action</th>\n",
       "      <th>Adventure</th>\n",
       "      <th>Animation</th>\n",
       "      <th>Comedy</th>\n",
       "      <th>Crime</th>\n",
       "      <th>Documentary</th>\n",
       "      <th>Drama</th>\n",
       "      <th>Family</th>\n",
       "      <th>Fantasy</th>\n",
       "      <th>Foreign</th>\n",
       "      <th>History</th>\n",
       "      <th>Horror</th>\n",
       "      <th>Music</th>\n",
       "      <th>Mystery</th>\n",
       "      <th>Romance</th>\n",
       "      <th>Science Fiction</th>\n",
       "      <th>TV Movie</th>\n",
       "      <th>Thriller</th>\n",
       "      <th>War</th>\n",
       "      <th>Western</th>\n",
       "    </tr>\n",
       "  </thead>\n",
       "  <tbody>\n",
       "    <tr>\n",
       "      <th>0</th>\n",
       "      <td>0</td>\n",
       "      <td>0</td>\n",
       "      <td>0</td>\n",
       "      <td>1</td>\n",
       "      <td>0</td>\n",
       "      <td>0</td>\n",
       "      <td>0</td>\n",
       "      <td>0</td>\n",
       "      <td>0</td>\n",
       "      <td>0</td>\n",
       "      <td>0</td>\n",
       "      <td>0</td>\n",
       "      <td>0</td>\n",
       "      <td>0</td>\n",
       "      <td>0</td>\n",
       "      <td>0</td>\n",
       "      <td>0</td>\n",
       "      <td>0</td>\n",
       "      <td>0</td>\n",
       "      <td>0</td>\n",
       "    </tr>\n",
       "    <tr>\n",
       "      <th>1</th>\n",
       "      <td>0</td>\n",
       "      <td>0</td>\n",
       "      <td>0</td>\n",
       "      <td>1</td>\n",
       "      <td>0</td>\n",
       "      <td>0</td>\n",
       "      <td>1</td>\n",
       "      <td>1</td>\n",
       "      <td>0</td>\n",
       "      <td>0</td>\n",
       "      <td>0</td>\n",
       "      <td>0</td>\n",
       "      <td>0</td>\n",
       "      <td>0</td>\n",
       "      <td>1</td>\n",
       "      <td>0</td>\n",
       "      <td>0</td>\n",
       "      <td>0</td>\n",
       "      <td>0</td>\n",
       "      <td>0</td>\n",
       "    </tr>\n",
       "    <tr>\n",
       "      <th>2</th>\n",
       "      <td>0</td>\n",
       "      <td>0</td>\n",
       "      <td>0</td>\n",
       "      <td>0</td>\n",
       "      <td>0</td>\n",
       "      <td>0</td>\n",
       "      <td>1</td>\n",
       "      <td>0</td>\n",
       "      <td>0</td>\n",
       "      <td>0</td>\n",
       "      <td>0</td>\n",
       "      <td>0</td>\n",
       "      <td>0</td>\n",
       "      <td>0</td>\n",
       "      <td>0</td>\n",
       "      <td>0</td>\n",
       "      <td>0</td>\n",
       "      <td>0</td>\n",
       "      <td>0</td>\n",
       "      <td>0</td>\n",
       "    </tr>\n",
       "  </tbody>\n",
       "</table>\n",
       "</div>"
      ],
      "text/plain": [
       "   Action  Adventure  Animation  Comedy  Crime  Documentary  Drama  Family  \\\n",
       "0       0          0          0       1      0            0      0       0   \n",
       "1       0          0          0       1      0            0      1       1   \n",
       "2       0          0          0       0      0            0      1       0   \n",
       "\n",
       "   Fantasy  Foreign  History  Horror  Music  Mystery  Romance  \\\n",
       "0        0        0        0       0      0        0        0   \n",
       "1        0        0        0       0      0        0        1   \n",
       "2        0        0        0       0      0        0        0   \n",
       "\n",
       "   Science Fiction  TV Movie  Thriller  War  Western  \n",
       "0                0         0         0    0        0  \n",
       "1                0         0         0    0        0  \n",
       "2                0         0         0    0        0  "
      ]
     },
     "execution_count": 94,
     "metadata": {},
     "output_type": "execute_result"
    }
   ],
   "source": [
    "# drop unwanted columns\n",
    "df_gen = df_gen.drop(df_gen[['id','genres_lst']],axis=1)\n",
    "df_gen[0:3]"
   ]
  },
  {
   "cell_type": "code",
   "execution_count": 95,
   "metadata": {},
   "outputs": [],
   "source": [
    "# concate df_gen and df_train1\n",
    "df_train1 = pd.concat([df_train1, df_gen], axis=1, sort=False)"
   ]
  },
  {
   "cell_type": "markdown",
   "metadata": {},
   "source": [
    "#### production_companies"
   ]
  },
  {
   "cell_type": "markdown",
   "metadata": {},
   "source": [
    "##### Json string to list"
   ]
  },
  {
   "cell_type": "code",
   "execution_count": 96,
   "metadata": {},
   "outputs": [],
   "source": [
    "# get the not null set.\n",
    "# convert the values to dict\n",
    "# convert \"name\" value to list\n",
    "df_train1[\"production_companies_lst\"]=df_train1.loc[df_train1[\"production_companies\"].notnull(),\"production_companies\"].apply(lambda x : ast.literal_eval(x)).apply(lambda x : sorted([y[\"name\"] for y in x]))"
   ]
  },
  {
   "cell_type": "markdown",
   "metadata": {},
   "source": [
    "##### fill nulls with empty list"
   ]
  },
  {
   "cell_type": "code",
   "execution_count": 97,
   "metadata": {},
   "outputs": [
    {
     "data": {
      "text/plain": [
       "production_companies        156\n",
       "production_companies_lst    156\n",
       "dtype: int64"
      ]
     },
     "execution_count": 97,
     "metadata": {},
     "output_type": "execute_result"
    }
   ],
   "source": [
    "# records with nulls\n",
    "df_train1[[\"production_companies\",\"production_companies_lst\"]].isnull().sum()"
   ]
  },
  {
   "cell_type": "code",
   "execution_count": 102,
   "metadata": {},
   "outputs": [],
   "source": [
    "# fill the null with empty list\n",
    "df_train1[\"production_companies_lst\"]=df_train1[\"production_companies_lst\"].apply(lambda d: d if isinstance(d, list) else [])"
   ]
  },
  {
   "cell_type": "markdown",
   "metadata": {},
   "source": [
    "#####  length of list"
   ]
  },
  {
   "cell_type": "code",
   "execution_count": 104,
   "metadata": {},
   "outputs": [],
   "source": [
    "# get len of the list \n",
    "df_train1[\"production_companies_lst_len\"] =df_train1[\"production_companies_lst\"].apply(lambda l: len(l))"
   ]
  },
  {
   "cell_type": "code",
   "execution_count": 107,
   "metadata": {},
   "outputs": [
    {
     "data": {
      "text/html": [
       "<div>\n",
       "<style scoped>\n",
       "    .dataframe tbody tr th:only-of-type {\n",
       "        vertical-align: middle;\n",
       "    }\n",
       "\n",
       "    .dataframe tbody tr th {\n",
       "        vertical-align: top;\n",
       "    }\n",
       "\n",
       "    .dataframe thead th {\n",
       "        text-align: right;\n",
       "    }\n",
       "</style>\n",
       "<table border=\"1\" class=\"dataframe\">\n",
       "  <thead>\n",
       "    <tr style=\"text-align: right;\">\n",
       "      <th></th>\n",
       "      <th>production_companies</th>\n",
       "      <th>production_companies_lst</th>\n",
       "      <th>production_companies_lst_len</th>\n",
       "    </tr>\n",
       "  </thead>\n",
       "  <tbody>\n",
       "    <tr>\n",
       "      <th>0</th>\n",
       "      <td>[{'name': 'Paramount Pictures', 'id': 4}, {'na...</td>\n",
       "      <td>[Metro-Goldwyn-Mayer (MGM), Paramount Pictures...</td>\n",
       "      <td>3</td>\n",
       "    </tr>\n",
       "    <tr>\n",
       "      <th>1</th>\n",
       "      <td>[{'name': 'Walt Disney Pictures', 'id': 2}]</td>\n",
       "      <td>[Walt Disney Pictures]</td>\n",
       "      <td>1</td>\n",
       "    </tr>\n",
       "    <tr>\n",
       "      <th>2</th>\n",
       "      <td>[{'name': 'Bold Films', 'id': 2266}, {'name': ...</td>\n",
       "      <td>[Blumhouse Productions, Bold Films, Right of W...</td>\n",
       "      <td>3</td>\n",
       "    </tr>\n",
       "    <tr>\n",
       "      <th>3</th>\n",
       "      <td>NaN</td>\n",
       "      <td>[]</td>\n",
       "      <td>0</td>\n",
       "    </tr>\n",
       "    <tr>\n",
       "      <th>4</th>\n",
       "      <td>NaN</td>\n",
       "      <td>[]</td>\n",
       "      <td>0</td>\n",
       "    </tr>\n",
       "  </tbody>\n",
       "</table>\n",
       "</div>"
      ],
      "text/plain": [
       "                                production_companies  \\\n",
       "0  [{'name': 'Paramount Pictures', 'id': 4}, {'na...   \n",
       "1        [{'name': 'Walt Disney Pictures', 'id': 2}]   \n",
       "2  [{'name': 'Bold Films', 'id': 2266}, {'name': ...   \n",
       "3                                                NaN   \n",
       "4                                                NaN   \n",
       "\n",
       "                            production_companies_lst  \\\n",
       "0  [Metro-Goldwyn-Mayer (MGM), Paramount Pictures...   \n",
       "1                             [Walt Disney Pictures]   \n",
       "2  [Blumhouse Productions, Bold Films, Right of W...   \n",
       "3                                                 []   \n",
       "4                                                 []   \n",
       "\n",
       "   production_companies_lst_len  \n",
       "0                             3  \n",
       "1                             1  \n",
       "2                             3  \n",
       "3                             0  \n",
       "4                             0  "
      ]
     },
     "execution_count": 107,
     "metadata": {},
     "output_type": "execute_result"
    }
   ],
   "source": [
    "df_train1[[\"production_companies\",\"production_companies_lst\",\"production_companies_lst_len\"]][0:5]"
   ]
  },
  {
   "cell_type": "markdown",
   "metadata": {},
   "source": [
    "#### production_countries"
   ]
  },
  {
   "cell_type": "markdown",
   "metadata": {},
   "source": [
    "##### Json string to list"
   ]
  },
  {
   "cell_type": "code",
   "execution_count": 109,
   "metadata": {},
   "outputs": [],
   "source": [
    "# get the not null set.\n",
    "# convert the values to dict\n",
    "# convert \"name\" value to list\n",
    "df_train1[\"production_countries_lst\"]=df_train1.loc[df_train1[\"production_countries\"].notnull(),\"production_countries\"].apply(lambda x : ast.literal_eval(x)).apply(lambda x : sorted([y[\"name\"] for y in x]))"
   ]
  },
  {
   "cell_type": "markdown",
   "metadata": {},
   "source": [
    "##### fill nulls with empty list"
   ]
  },
  {
   "cell_type": "code",
   "execution_count": 116,
   "metadata": {},
   "outputs": [
    {
     "data": {
      "text/plain": [
       "production_countries        55\n",
       "production_countries_lst     0\n",
       "dtype: int64"
      ]
     },
     "execution_count": 116,
     "metadata": {},
     "output_type": "execute_result"
    }
   ],
   "source": [
    "# records with nulls\n",
    "df_train1[[\"production_countries\",\"production_countries_lst\"]].isnull().sum()"
   ]
  },
  {
   "cell_type": "code",
   "execution_count": 127,
   "metadata": {},
   "outputs": [],
   "source": [
    "# create df_gen for Genres\n",
    "df_con = pd.DataFrame(df_train1[['id',\"production_countries_lst\"]])"
   ]
  },
  {
   "cell_type": "code",
   "execution_count": 128,
   "metadata": {},
   "outputs": [],
   "source": [
    "# fill the null with empty list\n",
    "df_con[\"production_countries_lst\"]=df_con[\"production_countries_lst\"].apply(lambda d: d if isinstance(d, list) else [])"
   ]
  },
  {
   "cell_type": "markdown",
   "metadata": {},
   "source": [
    "#####  One Hot-encoding"
   ]
  },
  {
   "cell_type": "code",
   "execution_count": 129,
   "metadata": {},
   "outputs": [],
   "source": [
    "# One Hot encoding using Sckit-learn's MultiLabelBinarizer()\n",
    "mlb = MultiLabelBinarizer()\n",
    "df_con = df_con.join(pd.DataFrame(mlb.fit_transform(df_con[\"production_countries_lst\"]),\n",
    "                          columns=mlb.classes_,\n",
    "                          index=df_con.index))"
   ]
  },
  {
   "cell_type": "markdown",
   "metadata": {},
   "source": [
    "##### Add the values to Train datset"
   ]
  },
  {
   "cell_type": "code",
   "execution_count": 130,
   "metadata": {},
   "outputs": [
    {
     "data": {
      "text/plain": [
       "Index(['id', 'production_countries_lst', 'Algeria', 'Argentina', 'Australia',\n",
       "       'Austria', 'Bahamas', 'Belgium', 'Bosnia and Herzegovina', 'Brazil',\n",
       "       'Bulgaria', 'Burkina Faso', 'Cambodia', 'Canada', 'Chile', 'China',\n",
       "       'Costa Rica', 'Croatia', 'Cyprus', 'Czech Republic', 'Denmark',\n",
       "       'Ethiopia', 'Finland', 'France', 'Germany', 'Ghana', 'Greece',\n",
       "       'Hong Kong', 'Hungary', 'Iceland', 'India', 'Indonesia', 'Iran',\n",
       "       'Ireland', 'Israel', 'Italy', 'Japan', 'Jordan', 'Luxembourg', 'Malta',\n",
       "       'Mauritania', 'Mexico', 'Mongolia', 'Morocco', 'Namibia', 'Netherlands',\n",
       "       'New Zealand', 'Norway', 'Pakistan', 'Paraguay', 'Peru', 'Philippines',\n",
       "       'Poland', 'Portugal', 'Puerto Rico', 'Qatar', 'Romania', 'Russia',\n",
       "       'Saudi Arabia', 'Serbia', 'Serbia and Montenegro', 'Singapore',\n",
       "       'Slovenia', 'South Africa', 'South Korea', 'Spain', 'Sweden',\n",
       "       'Switzerland', 'Taiwan', 'Tunisia', 'Turkey', 'Ukraine',\n",
       "       'United Arab Emirates', 'United Kingdom', 'United States of America',\n",
       "       'Uruguay'],\n",
       "      dtype='object')"
      ]
     },
     "execution_count": 130,
     "metadata": {},
     "output_type": "execute_result"
    }
   ],
   "source": [
    "#columns of new df\n",
    "df_con.columns"
   ]
  },
  {
   "cell_type": "code",
   "execution_count": 131,
   "metadata": {},
   "outputs": [
    {
     "data": {
      "text/html": [
       "<div>\n",
       "<style scoped>\n",
       "    .dataframe tbody tr th:only-of-type {\n",
       "        vertical-align: middle;\n",
       "    }\n",
       "\n",
       "    .dataframe tbody tr th {\n",
       "        vertical-align: top;\n",
       "    }\n",
       "\n",
       "    .dataframe thead th {\n",
       "        text-align: right;\n",
       "    }\n",
       "</style>\n",
       "<table border=\"1\" class=\"dataframe\">\n",
       "  <thead>\n",
       "    <tr style=\"text-align: right;\">\n",
       "      <th></th>\n",
       "      <th>Algeria</th>\n",
       "      <th>Argentina</th>\n",
       "      <th>Australia</th>\n",
       "      <th>Austria</th>\n",
       "      <th>Bahamas</th>\n",
       "      <th>Belgium</th>\n",
       "      <th>Bosnia and Herzegovina</th>\n",
       "      <th>Brazil</th>\n",
       "      <th>Bulgaria</th>\n",
       "      <th>Burkina Faso</th>\n",
       "      <th>...</th>\n",
       "      <th>Sweden</th>\n",
       "      <th>Switzerland</th>\n",
       "      <th>Taiwan</th>\n",
       "      <th>Tunisia</th>\n",
       "      <th>Turkey</th>\n",
       "      <th>Ukraine</th>\n",
       "      <th>United Arab Emirates</th>\n",
       "      <th>United Kingdom</th>\n",
       "      <th>United States of America</th>\n",
       "      <th>Uruguay</th>\n",
       "    </tr>\n",
       "  </thead>\n",
       "  <tbody>\n",
       "    <tr>\n",
       "      <th>0</th>\n",
       "      <td>0</td>\n",
       "      <td>0</td>\n",
       "      <td>0</td>\n",
       "      <td>0</td>\n",
       "      <td>0</td>\n",
       "      <td>0</td>\n",
       "      <td>0</td>\n",
       "      <td>0</td>\n",
       "      <td>0</td>\n",
       "      <td>0</td>\n",
       "      <td>...</td>\n",
       "      <td>0</td>\n",
       "      <td>0</td>\n",
       "      <td>0</td>\n",
       "      <td>0</td>\n",
       "      <td>0</td>\n",
       "      <td>0</td>\n",
       "      <td>0</td>\n",
       "      <td>0</td>\n",
       "      <td>1</td>\n",
       "      <td>0</td>\n",
       "    </tr>\n",
       "    <tr>\n",
       "      <th>1</th>\n",
       "      <td>0</td>\n",
       "      <td>0</td>\n",
       "      <td>0</td>\n",
       "      <td>0</td>\n",
       "      <td>0</td>\n",
       "      <td>0</td>\n",
       "      <td>0</td>\n",
       "      <td>0</td>\n",
       "      <td>0</td>\n",
       "      <td>0</td>\n",
       "      <td>...</td>\n",
       "      <td>0</td>\n",
       "      <td>0</td>\n",
       "      <td>0</td>\n",
       "      <td>0</td>\n",
       "      <td>0</td>\n",
       "      <td>0</td>\n",
       "      <td>0</td>\n",
       "      <td>0</td>\n",
       "      <td>1</td>\n",
       "      <td>0</td>\n",
       "    </tr>\n",
       "    <tr>\n",
       "      <th>2</th>\n",
       "      <td>0</td>\n",
       "      <td>0</td>\n",
       "      <td>0</td>\n",
       "      <td>0</td>\n",
       "      <td>0</td>\n",
       "      <td>0</td>\n",
       "      <td>0</td>\n",
       "      <td>0</td>\n",
       "      <td>0</td>\n",
       "      <td>0</td>\n",
       "      <td>...</td>\n",
       "      <td>0</td>\n",
       "      <td>0</td>\n",
       "      <td>0</td>\n",
       "      <td>0</td>\n",
       "      <td>0</td>\n",
       "      <td>0</td>\n",
       "      <td>0</td>\n",
       "      <td>0</td>\n",
       "      <td>1</td>\n",
       "      <td>0</td>\n",
       "    </tr>\n",
       "    <tr>\n",
       "      <th>3</th>\n",
       "      <td>0</td>\n",
       "      <td>0</td>\n",
       "      <td>0</td>\n",
       "      <td>0</td>\n",
       "      <td>0</td>\n",
       "      <td>0</td>\n",
       "      <td>0</td>\n",
       "      <td>0</td>\n",
       "      <td>0</td>\n",
       "      <td>0</td>\n",
       "      <td>...</td>\n",
       "      <td>0</td>\n",
       "      <td>0</td>\n",
       "      <td>0</td>\n",
       "      <td>0</td>\n",
       "      <td>0</td>\n",
       "      <td>0</td>\n",
       "      <td>0</td>\n",
       "      <td>0</td>\n",
       "      <td>0</td>\n",
       "      <td>0</td>\n",
       "    </tr>\n",
       "    <tr>\n",
       "      <th>4</th>\n",
       "      <td>0</td>\n",
       "      <td>0</td>\n",
       "      <td>0</td>\n",
       "      <td>0</td>\n",
       "      <td>0</td>\n",
       "      <td>0</td>\n",
       "      <td>0</td>\n",
       "      <td>0</td>\n",
       "      <td>0</td>\n",
       "      <td>0</td>\n",
       "      <td>...</td>\n",
       "      <td>0</td>\n",
       "      <td>0</td>\n",
       "      <td>0</td>\n",
       "      <td>0</td>\n",
       "      <td>0</td>\n",
       "      <td>0</td>\n",
       "      <td>0</td>\n",
       "      <td>0</td>\n",
       "      <td>0</td>\n",
       "      <td>0</td>\n",
       "    </tr>\n",
       "    <tr>\n",
       "      <th>5</th>\n",
       "      <td>0</td>\n",
       "      <td>0</td>\n",
       "      <td>0</td>\n",
       "      <td>0</td>\n",
       "      <td>0</td>\n",
       "      <td>0</td>\n",
       "      <td>0</td>\n",
       "      <td>0</td>\n",
       "      <td>0</td>\n",
       "      <td>0</td>\n",
       "      <td>...</td>\n",
       "      <td>0</td>\n",
       "      <td>0</td>\n",
       "      <td>0</td>\n",
       "      <td>0</td>\n",
       "      <td>0</td>\n",
       "      <td>0</td>\n",
       "      <td>0</td>\n",
       "      <td>0</td>\n",
       "      <td>0</td>\n",
       "      <td>0</td>\n",
       "    </tr>\n",
       "    <tr>\n",
       "      <th>6</th>\n",
       "      <td>0</td>\n",
       "      <td>0</td>\n",
       "      <td>0</td>\n",
       "      <td>0</td>\n",
       "      <td>0</td>\n",
       "      <td>0</td>\n",
       "      <td>0</td>\n",
       "      <td>0</td>\n",
       "      <td>0</td>\n",
       "      <td>0</td>\n",
       "      <td>...</td>\n",
       "      <td>0</td>\n",
       "      <td>0</td>\n",
       "      <td>0</td>\n",
       "      <td>0</td>\n",
       "      <td>0</td>\n",
       "      <td>0</td>\n",
       "      <td>0</td>\n",
       "      <td>0</td>\n",
       "      <td>1</td>\n",
       "      <td>0</td>\n",
       "    </tr>\n",
       "    <tr>\n",
       "      <th>7</th>\n",
       "      <td>0</td>\n",
       "      <td>0</td>\n",
       "      <td>0</td>\n",
       "      <td>0</td>\n",
       "      <td>0</td>\n",
       "      <td>0</td>\n",
       "      <td>0</td>\n",
       "      <td>0</td>\n",
       "      <td>0</td>\n",
       "      <td>0</td>\n",
       "      <td>...</td>\n",
       "      <td>0</td>\n",
       "      <td>0</td>\n",
       "      <td>0</td>\n",
       "      <td>0</td>\n",
       "      <td>0</td>\n",
       "      <td>0</td>\n",
       "      <td>0</td>\n",
       "      <td>0</td>\n",
       "      <td>0</td>\n",
       "      <td>0</td>\n",
       "    </tr>\n",
       "    <tr>\n",
       "      <th>8</th>\n",
       "      <td>0</td>\n",
       "      <td>0</td>\n",
       "      <td>0</td>\n",
       "      <td>0</td>\n",
       "      <td>0</td>\n",
       "      <td>0</td>\n",
       "      <td>0</td>\n",
       "      <td>0</td>\n",
       "      <td>0</td>\n",
       "      <td>0</td>\n",
       "      <td>...</td>\n",
       "      <td>0</td>\n",
       "      <td>0</td>\n",
       "      <td>0</td>\n",
       "      <td>0</td>\n",
       "      <td>0</td>\n",
       "      <td>0</td>\n",
       "      <td>0</td>\n",
       "      <td>0</td>\n",
       "      <td>1</td>\n",
       "      <td>0</td>\n",
       "    </tr>\n",
       "    <tr>\n",
       "      <th>9</th>\n",
       "      <td>0</td>\n",
       "      <td>0</td>\n",
       "      <td>0</td>\n",
       "      <td>0</td>\n",
       "      <td>0</td>\n",
       "      <td>0</td>\n",
       "      <td>0</td>\n",
       "      <td>0</td>\n",
       "      <td>0</td>\n",
       "      <td>0</td>\n",
       "      <td>...</td>\n",
       "      <td>0</td>\n",
       "      <td>0</td>\n",
       "      <td>0</td>\n",
       "      <td>0</td>\n",
       "      <td>0</td>\n",
       "      <td>0</td>\n",
       "      <td>0</td>\n",
       "      <td>0</td>\n",
       "      <td>1</td>\n",
       "      <td>0</td>\n",
       "    </tr>\n",
       "  </tbody>\n",
       "</table>\n",
       "<p>10 rows × 74 columns</p>\n",
       "</div>"
      ],
      "text/plain": [
       "   Algeria  Argentina  Australia  Austria  Bahamas  Belgium  \\\n",
       "0        0          0          0        0        0        0   \n",
       "1        0          0          0        0        0        0   \n",
       "2        0          0          0        0        0        0   \n",
       "3        0          0          0        0        0        0   \n",
       "4        0          0          0        0        0        0   \n",
       "5        0          0          0        0        0        0   \n",
       "6        0          0          0        0        0        0   \n",
       "7        0          0          0        0        0        0   \n",
       "8        0          0          0        0        0        0   \n",
       "9        0          0          0        0        0        0   \n",
       "\n",
       "   Bosnia and Herzegovina  Brazil  Bulgaria  Burkina Faso   ...     Sweden  \\\n",
       "0                       0       0         0             0   ...          0   \n",
       "1                       0       0         0             0   ...          0   \n",
       "2                       0       0         0             0   ...          0   \n",
       "3                       0       0         0             0   ...          0   \n",
       "4                       0       0         0             0   ...          0   \n",
       "5                       0       0         0             0   ...          0   \n",
       "6                       0       0         0             0   ...          0   \n",
       "7                       0       0         0             0   ...          0   \n",
       "8                       0       0         0             0   ...          0   \n",
       "9                       0       0         0             0   ...          0   \n",
       "\n",
       "   Switzerland  Taiwan  Tunisia  Turkey  Ukraine  United Arab Emirates  \\\n",
       "0            0       0        0       0        0                     0   \n",
       "1            0       0        0       0        0                     0   \n",
       "2            0       0        0       0        0                     0   \n",
       "3            0       0        0       0        0                     0   \n",
       "4            0       0        0       0        0                     0   \n",
       "5            0       0        0       0        0                     0   \n",
       "6            0       0        0       0        0                     0   \n",
       "7            0       0        0       0        0                     0   \n",
       "8            0       0        0       0        0                     0   \n",
       "9            0       0        0       0        0                     0   \n",
       "\n",
       "   United Kingdom  United States of America  Uruguay  \n",
       "0               0                         1        0  \n",
       "1               0                         1        0  \n",
       "2               0                         1        0  \n",
       "3               0                         0        0  \n",
       "4               0                         0        0  \n",
       "5               0                         0        0  \n",
       "6               0                         1        0  \n",
       "7               0                         0        0  \n",
       "8               0                         1        0  \n",
       "9               0                         1        0  \n",
       "\n",
       "[10 rows x 74 columns]"
      ]
     },
     "execution_count": 131,
     "metadata": {},
     "output_type": "execute_result"
    }
   ],
   "source": [
    "# drop unwanted columns\n",
    "df_con = df_con.drop(df_con[['id',\"production_countries_lst\"]],axis=1)\n",
    "df_con[0:10]"
   ]
  },
  {
   "cell_type": "code",
   "execution_count": 132,
   "metadata": {},
   "outputs": [],
   "source": [
    "# concate df_gen and df_train1\n",
    "df_train1 = pd.concat([df_train1, df_con], axis=1, sort=False)"
   ]
  },
  {
   "cell_type": "markdown",
   "metadata": {},
   "source": [
    "#### Keywords"
   ]
  },
  {
   "cell_type": "markdown",
   "metadata": {},
   "source": [
    "##### Json string to list"
   ]
  },
  {
   "cell_type": "code",
   "execution_count": 134,
   "metadata": {},
   "outputs": [],
   "source": [
    "# get the not null set.\n",
    "# convert the values to dict\n",
    "# convert \"name\" value to list\n",
    "df_train1[\"Keywords_lst\"]=df_train1.loc[df_train1[\"Keywords\"].notnull(),\"Keywords\"].apply(lambda x : ast.literal_eval(x)).apply(lambda x : sorted([y[\"name\"] for y in x]))"
   ]
  },
  {
   "cell_type": "markdown",
   "metadata": {},
   "source": [
    "##### fill nulls with empty list"
   ]
  },
  {
   "cell_type": "code",
   "execution_count": 43,
   "metadata": {},
   "outputs": [
    {
     "data": {
      "text/plain": [
       "Keywords        276\n",
       "Keywords_lst    276\n",
       "dtype: int64"
      ]
     },
     "execution_count": 43,
     "metadata": {},
     "output_type": "execute_result"
    }
   ],
   "source": [
    "# records with nulls\n",
    "df_train1[[\"Keywords\",\"Keywords_lst\"]].isnull().sum()"
   ]
  },
  {
   "cell_type": "code",
   "execution_count": 135,
   "metadata": {},
   "outputs": [],
   "source": [
    "# fill the null with empty list\n",
    "df_train1[\"Keywords_lst\"]=df_train1[\"Keywords_lst\"].apply(lambda d: d if isinstance(d, list) else [])"
   ]
  },
  {
   "cell_type": "markdown",
   "metadata": {},
   "source": [
    "#####  length of the list"
   ]
  },
  {
   "cell_type": "code",
   "execution_count": 139,
   "metadata": {},
   "outputs": [],
   "source": [
    "# get len of the list \n",
    "df_train1[\"Keywords_lst_len\"] =df_train1[\"Keywords_lst\"].apply(lambda l: len(l))"
   ]
  },
  {
   "cell_type": "code",
   "execution_count": 140,
   "metadata": {},
   "outputs": [
    {
     "data": {
      "text/html": [
       "<div>\n",
       "<style scoped>\n",
       "    .dataframe tbody tr th:only-of-type {\n",
       "        vertical-align: middle;\n",
       "    }\n",
       "\n",
       "    .dataframe tbody tr th {\n",
       "        vertical-align: top;\n",
       "    }\n",
       "\n",
       "    .dataframe thead th {\n",
       "        text-align: right;\n",
       "    }\n",
       "</style>\n",
       "<table border=\"1\" class=\"dataframe\">\n",
       "  <thead>\n",
       "    <tr style=\"text-align: right;\">\n",
       "      <th></th>\n",
       "      <th>Keywords</th>\n",
       "      <th>Keywords_lst</th>\n",
       "      <th>Keywords_lst_len</th>\n",
       "    </tr>\n",
       "  </thead>\n",
       "  <tbody>\n",
       "    <tr>\n",
       "      <th>0</th>\n",
       "      <td>[{'id': 4379, 'name': 'time travel'}, {'id': 9...</td>\n",
       "      <td>[duringcreditsstinger, hot tub, sequel, time t...</td>\n",
       "      <td>4</td>\n",
       "    </tr>\n",
       "    <tr>\n",
       "      <th>1</th>\n",
       "      <td>[{'id': 2505, 'name': 'coronation'}, {'id': 42...</td>\n",
       "      <td>[coronation, duty, falling in love, marriage]</td>\n",
       "      <td>4</td>\n",
       "    </tr>\n",
       "    <tr>\n",
       "      <th>2</th>\n",
       "      <td>[{'id': 1416, 'name': 'jazz'}, {'id': 1523, 'n...</td>\n",
       "      <td>[conservatory, drummer, jazz, jazz band, monta...</td>\n",
       "      <td>12</td>\n",
       "    </tr>\n",
       "    <tr>\n",
       "      <th>3</th>\n",
       "      <td>[{'id': 10092, 'name': 'mystery'}, {'id': 1054...</td>\n",
       "      <td>[bollywood, crime, india, missing husband, mys...</td>\n",
       "      <td>7</td>\n",
       "    </tr>\n",
       "    <tr>\n",
       "      <th>4</th>\n",
       "      <td>NaN</td>\n",
       "      <td>[]</td>\n",
       "      <td>0</td>\n",
       "    </tr>\n",
       "  </tbody>\n",
       "</table>\n",
       "</div>"
      ],
      "text/plain": [
       "                                            Keywords  \\\n",
       "0  [{'id': 4379, 'name': 'time travel'}, {'id': 9...   \n",
       "1  [{'id': 2505, 'name': 'coronation'}, {'id': 42...   \n",
       "2  [{'id': 1416, 'name': 'jazz'}, {'id': 1523, 'n...   \n",
       "3  [{'id': 10092, 'name': 'mystery'}, {'id': 1054...   \n",
       "4                                                NaN   \n",
       "\n",
       "                                        Keywords_lst  Keywords_lst_len  \n",
       "0  [duringcreditsstinger, hot tub, sequel, time t...                 4  \n",
       "1      [coronation, duty, falling in love, marriage]                 4  \n",
       "2  [conservatory, drummer, jazz, jazz band, monta...                12  \n",
       "3  [bollywood, crime, india, missing husband, mys...                 7  \n",
       "4                                                 []                 0  "
      ]
     },
     "execution_count": 140,
     "metadata": {},
     "output_type": "execute_result"
    }
   ],
   "source": [
    "df_train1[[\"Keywords\",\"Keywords_lst\",\"Keywords_lst_len\"]][0:5]"
   ]
  },
  {
   "cell_type": "markdown",
   "metadata": {},
   "source": [
    "#### cast"
   ]
  },
  {
   "cell_type": "markdown",
   "metadata": {},
   "source": [
    "##### Json string to dict"
   ]
  },
  {
   "cell_type": "code",
   "execution_count": 187,
   "metadata": {},
   "outputs": [],
   "source": [
    "# get the not null set.\n",
    "# convert the values to dict\n",
    "df_train1[\"cast_dict\"]=df_train1.loc[df_train1[\"cast\"].notnull(),\"cast\"].apply(lambda x : ast.literal_eval(x))"
   ]
  },
  {
   "cell_type": "code",
   "execution_count": 188,
   "metadata": {},
   "outputs": [
    {
     "data": {
      "text/plain": [
       "cast         13\n",
       "cast_dict    13\n",
       "dtype: int64"
      ]
     },
     "execution_count": 188,
     "metadata": {},
     "output_type": "execute_result"
    }
   ],
   "source": [
    "# records with nulls\n",
    "df_train1[[\"cast\",\"cast_dict\"]].isnull().sum()"
   ]
  },
  {
   "cell_type": "markdown",
   "metadata": {},
   "source": [
    "###### Main Cast"
   ]
  },
  {
   "cell_type": "code",
   "execution_count": 189,
   "metadata": {},
   "outputs": [],
   "source": [
    "# get the main cast of the movie \n",
    "df_train1[\"cast_main\"]=df_train1.loc[df_train1[\"cast_dict\"].notnull(),\"cast_dict\"].apply(lambda x: [y[\"name\"] for y in x if y[\"order\"]==0])"
   ]
  },
  {
   "cell_type": "code",
   "execution_count": 190,
   "metadata": {},
   "outputs": [
    {
     "data": {
      "text/plain": [
       "0      [Rob Corddry]\n",
       "1    [Anne Hathaway]\n",
       "2     [Miles Teller]\n",
       "Name: cast_main, dtype: object"
      ]
     },
     "execution_count": 190,
     "metadata": {},
     "output_type": "execute_result"
    }
   ],
   "source": [
    "df_train1[\"cast_main\"][0:3]   "
   ]
  },
  {
   "cell_type": "markdown",
   "metadata": {},
   "source": [
    "#####  fill nulls with empty list"
   ]
  },
  {
   "cell_type": "code",
   "execution_count": 191,
   "metadata": {},
   "outputs": [],
   "source": [
    "df_train1[\"cast_main\"] = df_train1[\"cast_main\"].apply(lambda x : x if isinstance(x, list)else []).apply"
   ]
  },
  {
   "cell_type": "code",
   "execution_count": 192,
   "metadata": {},
   "outputs": [
    {
     "ename": "TypeError",
     "evalue": "'method' object is not iterable",
     "output_type": "error",
     "traceback": [
      "\u001b[1;31m---------------------------------------------------------------------------\u001b[0m",
      "\u001b[1;31mTypeError\u001b[0m                                 Traceback (most recent call last)",
      "\u001b[1;32m<ipython-input-192-53367c466dfb>\u001b[0m in \u001b[0;36m<module>\u001b[1;34m()\u001b[0m\n\u001b[1;32m----> 1\u001b[1;33m \u001b[0mdf_train1\u001b[0m\u001b[1;33m[\u001b[0m\u001b[1;34m\"cast_main\"\u001b[0m\u001b[1;33m]\u001b[0m \u001b[1;33m=\u001b[0m \u001b[0mdf_train1\u001b[0m\u001b[1;33m[\u001b[0m\u001b[1;34m\"cast_main\"\u001b[0m\u001b[1;33m]\u001b[0m\u001b[1;33m.\u001b[0m\u001b[0mapply\u001b[0m\u001b[1;33m(\u001b[0m\u001b[1;32mlambda\u001b[0m \u001b[0mx\u001b[0m \u001b[1;33m:\u001b[0m\u001b[1;34m''\u001b[0m\u001b[1;33m.\u001b[0m\u001b[0mjoin\u001b[0m\u001b[1;33m(\u001b[0m\u001b[0mmap\u001b[0m\u001b[1;33m(\u001b[0m\u001b[0mstr\u001b[0m\u001b[1;33m,\u001b[0m \u001b[0mx\u001b[0m\u001b[1;33m)\u001b[0m\u001b[1;33m)\u001b[0m\u001b[1;33m)\u001b[0m\u001b[1;33m\u001b[0m\u001b[0m\n\u001b[0m",
      "\u001b[1;32m~\\Anaconda3\\lib\\site-packages\\pandas\\core\\series.py\u001b[0m in \u001b[0;36mapply\u001b[1;34m(self, func, convert_dtype, args, **kwds)\u001b[0m\n\u001b[0;32m   3192\u001b[0m             \u001b[1;32melse\u001b[0m\u001b[1;33m:\u001b[0m\u001b[1;33m\u001b[0m\u001b[0m\n\u001b[0;32m   3193\u001b[0m                 \u001b[0mvalues\u001b[0m \u001b[1;33m=\u001b[0m \u001b[0mself\u001b[0m\u001b[1;33m.\u001b[0m\u001b[0mastype\u001b[0m\u001b[1;33m(\u001b[0m\u001b[0mobject\u001b[0m\u001b[1;33m)\u001b[0m\u001b[1;33m.\u001b[0m\u001b[0mvalues\u001b[0m\u001b[1;33m\u001b[0m\u001b[0m\n\u001b[1;32m-> 3194\u001b[1;33m                 \u001b[0mmapped\u001b[0m \u001b[1;33m=\u001b[0m \u001b[0mlib\u001b[0m\u001b[1;33m.\u001b[0m\u001b[0mmap_infer\u001b[0m\u001b[1;33m(\u001b[0m\u001b[0mvalues\u001b[0m\u001b[1;33m,\u001b[0m \u001b[0mf\u001b[0m\u001b[1;33m,\u001b[0m \u001b[0mconvert\u001b[0m\u001b[1;33m=\u001b[0m\u001b[0mconvert_dtype\u001b[0m\u001b[1;33m)\u001b[0m\u001b[1;33m\u001b[0m\u001b[0m\n\u001b[0m\u001b[0;32m   3195\u001b[0m \u001b[1;33m\u001b[0m\u001b[0m\n\u001b[0;32m   3196\u001b[0m         \u001b[1;32mif\u001b[0m \u001b[0mlen\u001b[0m\u001b[1;33m(\u001b[0m\u001b[0mmapped\u001b[0m\u001b[1;33m)\u001b[0m \u001b[1;32mand\u001b[0m \u001b[0misinstance\u001b[0m\u001b[1;33m(\u001b[0m\u001b[0mmapped\u001b[0m\u001b[1;33m[\u001b[0m\u001b[1;36m0\u001b[0m\u001b[1;33m]\u001b[0m\u001b[1;33m,\u001b[0m \u001b[0mSeries\u001b[0m\u001b[1;33m)\u001b[0m\u001b[1;33m:\u001b[0m\u001b[1;33m\u001b[0m\u001b[0m\n",
      "\u001b[1;32mpandas/_libs/src\\inference.pyx\u001b[0m in \u001b[0;36mpandas._libs.lib.map_infer\u001b[1;34m()\u001b[0m\n",
      "\u001b[1;32m<ipython-input-192-53367c466dfb>\u001b[0m in \u001b[0;36m<lambda>\u001b[1;34m(x)\u001b[0m\n\u001b[1;32m----> 1\u001b[1;33m \u001b[0mdf_train1\u001b[0m\u001b[1;33m[\u001b[0m\u001b[1;34m\"cast_main\"\u001b[0m\u001b[1;33m]\u001b[0m \u001b[1;33m=\u001b[0m \u001b[0mdf_train1\u001b[0m\u001b[1;33m[\u001b[0m\u001b[1;34m\"cast_main\"\u001b[0m\u001b[1;33m]\u001b[0m\u001b[1;33m.\u001b[0m\u001b[0mapply\u001b[0m\u001b[1;33m(\u001b[0m\u001b[1;32mlambda\u001b[0m \u001b[0mx\u001b[0m \u001b[1;33m:\u001b[0m\u001b[1;34m''\u001b[0m\u001b[1;33m.\u001b[0m\u001b[0mjoin\u001b[0m\u001b[1;33m(\u001b[0m\u001b[0mmap\u001b[0m\u001b[1;33m(\u001b[0m\u001b[0mstr\u001b[0m\u001b[1;33m,\u001b[0m \u001b[0mx\u001b[0m\u001b[1;33m)\u001b[0m\u001b[1;33m)\u001b[0m\u001b[1;33m)\u001b[0m\u001b[1;33m\u001b[0m\u001b[0m\n\u001b[0m",
      "\u001b[1;31mTypeError\u001b[0m: 'method' object is not iterable"
     ]
    }
   ],
   "source": [
    "df_train1[\"cast_main\"] = df_train1[\"cast_main\"].apply(lambda x :''.join(map(str, x)))"
   ]
  },
  {
   "cell_type": "markdown",
   "metadata": {},
   "source": [
    "##### Binary Classification"
   ]
  },
  {
   "cell_type": "code",
   "execution_count": null,
   "metadata": {},
   "outputs": [],
   "source": [
    "df_train1[\"crew_director_01\"] = df_train1[\"crew_director\"].apply(lambda x : 1 if len(x)>1 else 0)"
   ]
  },
  {
   "cell_type": "markdown",
   "metadata": {},
   "source": [
    "#### crew"
   ]
  },
  {
   "cell_type": "markdown",
   "metadata": {},
   "source": [
    "##### Json string to dict"
   ]
  },
  {
   "cell_type": "code",
   "execution_count": 144,
   "metadata": {},
   "outputs": [],
   "source": [
    "# get the not null set.\n",
    "# convert the values to dict\n",
    "df_train1[\"crew_dict\"]=df_train1.loc[df_train1[\"crew\"].notnull(),\"crew\"].apply(lambda x : ast.literal_eval(x))"
   ]
  },
  {
   "cell_type": "code",
   "execution_count": 145,
   "metadata": {},
   "outputs": [
    {
     "data": {
      "text/plain": [
       "crew         16\n",
       "crew_dict    16\n",
       "dtype: int64"
      ]
     },
     "execution_count": 145,
     "metadata": {},
     "output_type": "execute_result"
    }
   ],
   "source": [
    "# records with nulls\n",
    "df_train1[[\"crew\",\"crew_dict\"]].isnull().sum()"
   ]
  },
  {
   "cell_type": "markdown",
   "metadata": {},
   "source": [
    "##### Director"
   ]
  },
  {
   "cell_type": "code",
   "execution_count": 147,
   "metadata": {},
   "outputs": [],
   "source": [
    "df_train1[\"crew_director\"]=df_train1.loc[df_train1[\"crew_dict\"].notnull(),\"crew_dict\"].apply(lambda x: [y[\"name\"] for y in x if y[\"job\"]==\"Director\"])"
   ]
  },
  {
   "cell_type": "markdown",
   "metadata": {},
   "source": [
    "#####  fill nulls with empty list"
   ]
  },
  {
   "cell_type": "code",
   "execution_count": 150,
   "metadata": {},
   "outputs": [],
   "source": [
    "df_train1[\"crew_director\"] = df_train1[\"crew_director\"].apply(lambda x : x if isinstance(x, list)else []).apply"
   ]
  },
  {
   "cell_type": "code",
   "execution_count": 151,
   "metadata": {},
   "outputs": [
    {
     "data": {
      "text/plain": [
       "0"
      ]
     },
     "execution_count": 151,
     "metadata": {},
     "output_type": "execute_result"
    }
   ],
   "source": [
    "df_train1[\"crew_director\"].isnull().sum()"
   ]
  },
  {
   "cell_type": "code",
   "execution_count": 165,
   "metadata": {},
   "outputs": [],
   "source": [
    "df_train1[\"crew_director\"] = df_train1[\"crew_director\"].apply(lambda x :''.join(map(str, x)))"
   ]
  },
  {
   "cell_type": "markdown",
   "metadata": {},
   "source": [
    "##### Binary Classification"
   ]
  },
  {
   "cell_type": "code",
   "execution_count": 182,
   "metadata": {},
   "outputs": [],
   "source": [
    "df_train1[\"crew_director_01\"] = df_train1[\"crew_director\"].apply(lambda x : 1 if len(x)>1 else 0)"
   ]
  },
  {
   "cell_type": "code",
   "execution_count": 185,
   "metadata": {},
   "outputs": [
    {
     "data": {
      "text/plain": [
       "469    1\n",
       "470    0\n",
       "471    1\n",
       "Name: crew_director_01, dtype: int64"
      ]
     },
     "execution_count": 185,
     "metadata": {},
     "output_type": "execute_result"
    }
   ],
   "source": [
    "df_train1[\"crew_director_01\"][469:472]"
   ]
  },
  {
   "cell_type": "markdown",
   "metadata": {},
   "source": [
    "### Decompose Data/Time"
   ]
  },
  {
   "cell_type": "code",
   "execution_count": 55,
   "metadata": {},
   "outputs": [
    {
     "data": {
      "text/plain": [
       "0   2015-02-20\n",
       "1   2004-08-06\n",
       "Name: release_date, dtype: datetime64[ns]"
      ]
     },
     "execution_count": 55,
     "metadata": {},
     "output_type": "execute_result"
    }
   ],
   "source": [
    "release_date=pd.to_datetime(df_train1[\"release_date\"])\n",
    "release_date[0:2]"
   ]
  },
  {
   "cell_type": "code",
   "execution_count": 57,
   "metadata": {},
   "outputs": [],
   "source": [
    "# Get the year, month, day, week, dayofweek,quarter from release date\n",
    "df_train1[\"release_year\"]=release_date.dt.year\n",
    "df_train1[\"release_month\"]=release_date.dt.month\n",
    "df_train1[\"release_day\"]=release_date.dt.day\n",
    "df_train1[\"release_wd\"]=release_date.dt.dayofweek\n",
    "df_train1[\"release_quarter\"]=release_date.dt.quarter"
   ]
  },
  {
   "cell_type": "code",
   "execution_count": 131,
   "metadata": {},
   "outputs": [
    {
     "data": {
      "text/plain": [
       "1969"
      ]
     },
     "execution_count": 131,
     "metadata": {},
     "output_type": "execute_result"
    }
   ],
   "source": [
    "df_train1[\"release_year\"].min()"
   ]
  },
  {
   "cell_type": "markdown",
   "metadata": {},
   "source": [
    "### Duplicate Records"
   ]
  },
  {
   "cell_type": "code",
   "execution_count": null,
   "metadata": {},
   "outputs": [],
   "source": [
    "#Check titles"
   ]
  },
  {
   "cell_type": "markdown",
   "metadata": {},
   "source": [
    "### Status"
   ]
  },
  {
   "cell_type": "code",
   "execution_count": 114,
   "metadata": {},
   "outputs": [
    {
     "data": {
      "text/plain": [
       "Released    2996\n",
       "Rumored        4\n",
       "Name: status, dtype: int64"
      ]
     },
     "execution_count": 114,
     "metadata": {},
     "output_type": "execute_result"
    }
   ],
   "source": [
    "# Unique values & number of records\n",
    "df_train1[\"status\"].value_counts()"
   ]
  },
  {
   "cell_type": "code",
   "execution_count": 115,
   "metadata": {},
   "outputs": [],
   "source": [
    "def Status_cat(x):\n",
    "    if x =='Released' :\n",
    "        return 1\n",
    "    else:\n",
    "        return 0\n",
    "    \n",
    "df_train['status']= df_train['status'].apply(Status_cat)"
   ]
  },
  {
   "cell_type": "markdown",
   "metadata": {},
   "source": [
    "#### One Hot encoding using "
   ]
  },
  {
   "cell_type": "code",
   "execution_count": 200,
   "metadata": {},
   "outputs": [
    {
     "data": {
      "text/plain": [
       "array([[1., 0.],\n",
       "       [1., 0.],\n",
       "       [1., 0.],\n",
       "       ...,\n",
       "       [1., 0.],\n",
       "       [1., 0.],\n",
       "       [1., 0.]])"
      ]
     },
     "execution_count": 200,
     "metadata": {},
     "output_type": "execute_result"
    }
   ],
   "source": [
    "status_cat= df_train1[[\"status\"]]\n",
    "cat_encoder = OneHotEncoder(sparse=False)\n",
    "status_cat_hot = cat_encoder.fit_transform(status_cat)\n",
    "status_cat_hot  "
   ]
  },
  {
   "cell_type": "markdown",
   "metadata": {},
   "source": [
    "### original_language"
   ]
  },
  {
   "cell_type": "code",
   "execution_count": 204,
   "metadata": {},
   "outputs": [
    {
     "data": {
      "text/plain": [
       "array(['en', 'hi', 'ko', 'sr', 'fr', 'it', 'nl', 'zh', 'es', 'cs', 'ta',\n",
       "       'cn', 'ru', 'tr', 'ja', 'fa', 'sv', 'de', 'te', 'pt', 'mr', 'da',\n",
       "       'fi', 'el', 'ur', 'he', 'no', 'ar', 'nb', 'ro', 'vi', 'pl', 'hu',\n",
       "       'ml', 'bn', 'id'], dtype=object)"
      ]
     },
     "execution_count": 204,
     "metadata": {},
     "output_type": "execute_result"
    }
   ],
   "source": [
    "# Unique values & number of records\n",
    "df_train1[\"original_language\"].unique()"
   ]
  },
  {
   "cell_type": "code",
   "execution_count": 205,
   "metadata": {},
   "outputs": [
    {
     "data": {
      "text/plain": [
       "0"
      ]
     },
     "execution_count": 205,
     "metadata": {},
     "output_type": "execute_result"
    }
   ],
   "source": [
    "#Quick Check on the nulls.\n",
    "df_train1[\"original_language\"].isnull().sum()"
   ]
  },
  {
   "cell_type": "code",
   "execution_count": 206,
   "metadata": {},
   "outputs": [
    {
     "data": {
      "text/plain": [
       "array([[0., 0., 0., ..., 0., 0., 0.],\n",
       "       [0., 0., 0., ..., 0., 0., 0.],\n",
       "       [0., 0., 0., ..., 0., 0., 0.],\n",
       "       ...,\n",
       "       [0., 0., 0., ..., 0., 0., 0.],\n",
       "       [0., 0., 0., ..., 0., 0., 0.],\n",
       "       [0., 0., 0., ..., 0., 0., 0.]])"
      ]
     },
     "execution_count": 206,
     "metadata": {},
     "output_type": "execute_result"
    }
   ],
   "source": [
    "lan_cat= df_train1[[\"original_language\"]]\n",
    "cat_encoder = OneHotEncoder(sparse=False)\n",
    "lan_cat_hot = cat_encoder.fit_transform(lan_cat)\n",
    "lan_cat_hot"
   ]
  },
  {
   "cell_type": "markdown",
   "metadata": {},
   "source": [
    "### popularity"
   ]
  },
  {
   "cell_type": "code",
   "execution_count": 207,
   "metadata": {},
   "outputs": [
    {
     "data": {
      "text/plain": [
       "array([ 6.575393,  8.248895, 64.29999 , ..., 14.482345, 15.725542,\n",
       "       10.512109])"
      ]
     },
     "execution_count": 207,
     "metadata": {},
     "output_type": "execute_result"
    }
   ],
   "source": [
    "# Unique values & number of records\n",
    "df_train1[\"popularity\"].unique()"
   ]
  },
  {
   "cell_type": "code",
   "execution_count": null,
   "metadata": {},
   "outputs": [],
   "source": []
  },
  {
   "cell_type": "code",
   "execution_count": null,
   "metadata": {},
   "outputs": [],
   "source": []
  },
  {
   "cell_type": "code",
   "execution_count": null,
   "metadata": {},
   "outputs": [],
   "source": []
  },
  {
   "cell_type": "code",
   "execution_count": null,
   "metadata": {},
   "outputs": [],
   "source": []
  },
  {
   "cell_type": "markdown",
   "metadata": {},
   "source": [
    "### runtime"
   ]
  },
  {
   "cell_type": "code",
   "execution_count": null,
   "metadata": {},
   "outputs": [],
   "source": [
    "# Unique values & number of records\n",
    "df_train1[\"original_language\"].unique()"
   ]
  },
  {
   "cell_type": "code",
   "execution_count": null,
   "metadata": {},
   "outputs": [],
   "source": []
  },
  {
   "cell_type": "code",
   "execution_count": null,
   "metadata": {},
   "outputs": [],
   "source": []
  },
  {
   "cell_type": "code",
   "execution_count": null,
   "metadata": {},
   "outputs": [],
   "source": []
  },
  {
   "cell_type": "code",
   "execution_count": 120,
   "metadata": {},
   "outputs": [
    {
     "data": {
      "text/plain": [
       "90.0     100\n",
       "100.0     99\n",
       "105.0     91\n",
       "95.0      89\n",
       "98.0      85\n",
       "97.0      82\n",
       "99.0      80\n",
       "93.0      78\n",
       "96.0      78\n",
       "108.0     77\n",
       "106.0     73\n",
       "89.0      67\n",
       "94.0      66\n",
       "104.0     63\n",
       "102.0     62\n",
       "91.0      60\n",
       "107.0     59\n",
       "103.0     56\n",
       "110.0     54\n",
       "101.0     54\n",
       "113.0     52\n",
       "87.0      51\n",
       "115.0     49\n",
       "112.0     48\n",
       "120.0     48\n",
       "124.0     47\n",
       "92.0      47\n",
       "111.0     46\n",
       "88.0      45\n",
       "116.0     44\n",
       "        ... \n",
       "169.0      2\n",
       "165.0      2\n",
       "74.0       2\n",
       "176.0      1\n",
       "187.0      1\n",
       "60.0       1\n",
       "197.0      1\n",
       "174.0      1\n",
       "199.0      1\n",
       "63.0       1\n",
       "182.0      1\n",
       "212.0      1\n",
       "220.0      1\n",
       "53.0       1\n",
       "338.0      1\n",
       "159.0      1\n",
       "179.0      1\n",
       "69.0       1\n",
       "68.0       1\n",
       "214.0      1\n",
       "207.0      1\n",
       "185.0      1\n",
       "191.0      1\n",
       "213.0      1\n",
       "219.0      1\n",
       "11.0       1\n",
       "62.0       1\n",
       "66.0       1\n",
       "248.0      1\n",
       "177.0      1\n",
       "Name: runtime, Length: 139, dtype: int64"
      ]
     },
     "execution_count": 120,
     "metadata": {},
     "output_type": "execute_result"
    }
   ],
   "source": [
    "df_train1[\"runtime\"].value_counts()"
   ]
  },
  {
   "cell_type": "code",
   "execution_count": null,
   "metadata": {},
   "outputs": [],
   "source": []
  },
  {
   "cell_type": "code",
   "execution_count": null,
   "metadata": {},
   "outputs": [],
   "source": []
  },
  {
   "cell_type": "code",
   "execution_count": null,
   "metadata": {},
   "outputs": [],
   "source": []
  },
  {
   "cell_type": "code",
   "execution_count": 72,
   "metadata": {},
   "outputs": [
    {
     "ename": "NameError",
     "evalue": "name 'strat_train_set' is not defined",
     "output_type": "error",
     "traceback": [
      "\u001b[1;31m---------------------------------------------------------------------------\u001b[0m",
      "\u001b[1;31mNameError\u001b[0m                                 Traceback (most recent call last)",
      "\u001b[1;32m<ipython-input-72-55aacf3ce729>\u001b[0m in \u001b[0;36m<module>\u001b[1;34m()\u001b[0m\n\u001b[1;32m----> 1\u001b[1;33m \u001b[0mhousing_train\u001b[0m \u001b[1;33m=\u001b[0m \u001b[0mstrat_train_set\u001b[0m\u001b[1;33m.\u001b[0m\u001b[0mdrop\u001b[0m\u001b[1;33m(\u001b[0m\u001b[1;34m\"median_house_value\"\u001b[0m\u001b[1;33m,\u001b[0m \u001b[0maxis\u001b[0m\u001b[1;33m=\u001b[0m\u001b[1;36m1\u001b[0m\u001b[1;33m)\u001b[0m \u001b[1;31m# drop labels for training set\u001b[0m\u001b[1;33m\u001b[0m\u001b[0m\n\u001b[0m\u001b[0;32m      2\u001b[0m \u001b[0mhousing_labels\u001b[0m \u001b[1;33m=\u001b[0m \u001b[0mstrat_train_set\u001b[0m\u001b[1;33m[\u001b[0m\u001b[1;34m\"median_house_value\"\u001b[0m\u001b[1;33m]\u001b[0m\u001b[1;33m.\u001b[0m\u001b[0mcopy\u001b[0m\u001b[1;33m(\u001b[0m\u001b[1;33m)\u001b[0m\u001b[1;33m\u001b[0m\u001b[0m\n",
      "\u001b[1;31mNameError\u001b[0m: name 'strat_train_set' is not defined"
     ]
    }
   ],
   "source": [
    "housing_train = strat_train_set.drop(\"median_house_value\", axis=1) # drop labels for training set\n",
    "housing_labels = strat_train_set[\"median_house_value\"].copy()"
   ]
  },
  {
   "cell_type": "code",
   "execution_count": 73,
   "metadata": {},
   "outputs": [
    {
     "ename": "NameError",
     "evalue": "name 'housing_train' is not defined",
     "output_type": "error",
     "traceback": [
      "\u001b[1;31m---------------------------------------------------------------------------\u001b[0m",
      "\u001b[1;31mNameError\u001b[0m                                 Traceback (most recent call last)",
      "\u001b[1;32m<ipython-input-73-63e7738077ef>\u001b[0m in \u001b[0;36m<module>\u001b[1;34m()\u001b[0m\n\u001b[1;32m----> 1\u001b[1;33m \u001b[0mhousing_train\u001b[0m\u001b[1;33m.\u001b[0m\u001b[0mcolumns\u001b[0m\u001b[1;33m\u001b[0m\u001b[0m\n\u001b[0m",
      "\u001b[1;31mNameError\u001b[0m: name 'housing_train' is not defined"
     ]
    }
   ],
   "source": [
    "housing_train.columns"
   ]
  },
  {
   "cell_type": "markdown",
   "metadata": {},
   "source": [
    "### PipeLine"
   ]
  },
  {
   "cell_type": "markdown",
   "metadata": {},
   "source": [
    "#### Numerical Pipeline"
   ]
  },
  {
   "cell_type": "code",
   "execution_count": 58,
   "metadata": {},
   "outputs": [],
   "source": [
    "num_pipeline = Pipeline([\n",
    "        ('imputer', SimpleImputer(strategy=\"median\")),\n",
    "        ('attribs_adder', FunctionTransformer(add_extra_features, validate=False)),\n",
    "        ('std_scaler', StandardScaler()),\n",
    "    ])"
   ]
  },
  {
   "cell_type": "code",
   "execution_count": 59,
   "metadata": {},
   "outputs": [
    {
     "data": {
      "text/plain": [
       "array([[-1.15604281,  0.77194962,  0.74333089, ..., -0.31205452,\n",
       "        -0.08649871,  0.15531753],\n",
       "       [-1.17602483,  0.6596948 , -1.1653172 , ...,  0.21768338,\n",
       "        -0.03353391, -0.83628902],\n",
       "       [ 1.18684903, -1.34218285,  0.18664186, ..., -0.46531516,\n",
       "        -0.09240499,  0.4222004 ],\n",
       "       ...,\n",
       "       [ 1.58648943, -0.72478134, -1.56295222, ...,  0.3469342 ,\n",
       "        -0.03055414, -0.52177644],\n",
       "       [ 0.78221312, -0.85106801,  0.18664186, ...,  0.02499488,\n",
       "         0.06150916, -0.30340741],\n",
       "       [-1.43579109,  0.99645926,  1.85670895, ..., -0.22852947,\n",
       "        -0.09586294,  0.10180567]])"
      ]
     },
     "execution_count": 59,
     "metadata": {},
     "output_type": "execute_result"
    }
   ],
   "source": [
    "housing_num_tr = num_pipeline.fit_transform(housing_num)\n",
    "housing_num_tr"
   ]
  },
  {
   "cell_type": "markdown",
   "metadata": {},
   "source": [
    "#### ColumnTransformer"
   ]
  },
  {
   "cell_type": "code",
   "execution_count": 60,
   "metadata": {},
   "outputs": [],
   "source": [
    "num_attribs = list(housing_num)\n",
    "cat_attribs = [\"ocean_proximity\"]\n",
    "\n",
    "full_pipeline = ColumnTransformer([\n",
    "        (\"num\", num_pipeline, num_attribs),\n",
    "        (\"cat\", OneHotEncoder(), cat_attribs),\n",
    "    ])"
   ]
  },
  {
   "cell_type": "code",
   "execution_count": 61,
   "metadata": {},
   "outputs": [
    {
     "data": {
      "text/plain": [
       "array([[-1.15604281,  0.77194962,  0.74333089, ...,  0.        ,\n",
       "         0.        ,  0.        ],\n",
       "       [-1.17602483,  0.6596948 , -1.1653172 , ...,  0.        ,\n",
       "         0.        ,  0.        ],\n",
       "       [ 1.18684903, -1.34218285,  0.18664186, ...,  0.        ,\n",
       "         0.        ,  1.        ],\n",
       "       ...,\n",
       "       [ 1.58648943, -0.72478134, -1.56295222, ...,  0.        ,\n",
       "         0.        ,  0.        ],\n",
       "       [ 0.78221312, -0.85106801,  0.18664186, ...,  0.        ,\n",
       "         0.        ,  0.        ],\n",
       "       [-1.43579109,  0.99645926,  1.85670895, ...,  0.        ,\n",
       "         1.        ,  0.        ]])"
      ]
     },
     "execution_count": 61,
     "metadata": {},
     "output_type": "execute_result"
    }
   ],
   "source": [
    "housing_prepared = full_pipeline.fit_transform(housing_train)\n",
    "housing_prepared"
   ]
  },
  {
   "cell_type": "code",
   "execution_count": 62,
   "metadata": {},
   "outputs": [
    {
     "data": {
      "text/plain": [
       "(16512, 16)"
      ]
     },
     "execution_count": 62,
     "metadata": {},
     "output_type": "execute_result"
    }
   ],
   "source": [
    "housing_prepared.shape"
   ]
  },
  {
   "cell_type": "markdown",
   "metadata": {},
   "source": [
    "## ML Model"
   ]
  },
  {
   "cell_type": "markdown",
   "metadata": {},
   "source": [
    "### LinearRegression"
   ]
  },
  {
   "cell_type": "code",
   "execution_count": 63,
   "metadata": {},
   "outputs": [
    {
     "data": {
      "text/plain": [
       "LinearRegression(copy_X=True, fit_intercept=True, n_jobs=None, normalize=False)"
      ]
     },
     "execution_count": 63,
     "metadata": {},
     "output_type": "execute_result"
    }
   ],
   "source": [
    "lin_reg = LinearRegression()\n",
    "lin_reg.fit(housing_prepared, housing_labels)"
   ]
  },
  {
   "cell_type": "code",
   "execution_count": 64,
   "metadata": {},
   "outputs": [
    {
     "data": {
      "text/plain": [
       "array([210644.60459286, 317768.80697211, 210956.43331178, ...,\n",
       "        95464.57062437, 214353.22541713, 276426.4692067 ])"
      ]
     },
     "execution_count": 64,
     "metadata": {},
     "output_type": "execute_result"
    }
   ],
   "source": [
    "housing_predictions = lin_reg.predict(housing_prepared)\n",
    "housing_predictions"
   ]
  },
  {
   "cell_type": "code",
   "execution_count": 65,
   "metadata": {},
   "outputs": [
    {
     "data": {
      "text/plain": [
       "68628.19819848922"
      ]
     },
     "execution_count": 65,
     "metadata": {},
     "output_type": "execute_result"
    }
   ],
   "source": [
    "lin_mse = mean_squared_error(housing_labels, housing_predictions)\n",
    "lin_rmse = np.sqrt(lin_mse)\n",
    "lin_rmse"
   ]
  },
  {
   "cell_type": "code",
   "execution_count": 66,
   "metadata": {},
   "outputs": [
    {
     "data": {
      "text/plain": [
       "49439.89599001897"
      ]
     },
     "execution_count": 66,
     "metadata": {},
     "output_type": "execute_result"
    }
   ],
   "source": [
    "lin_mae = mean_absolute_error(housing_labels, housing_predictions)\n",
    "lin_mae"
   ]
  },
  {
   "cell_type": "code",
   "execution_count": 77,
   "metadata": {},
   "outputs": [
    {
     "name": "stdout",
     "output_type": "stream",
     "text": [
      "Scores: [66782.73843989 66960.118071   70347.95244419 74739.57052552\n",
      " 68031.13388938 71193.84183426 64969.63056405 68281.61137997\n",
      " 71552.91566558 67665.10082067]\n",
      "Mean: 69052.46136345083\n",
      "Standard deviation: 2731.674001798347\n"
     ]
    }
   ],
   "source": [
    "lin_scores = cross_val_score(lin_reg, housing_prepared, housing_labels,\n",
    "                             scoring=\"neg_mean_squared_error\", cv=10)\n",
    "lin_rmse_scores = np.sqrt(-lin_scores)\n",
    "display_scores(lin_rmse_scores)"
   ]
  },
  {
   "cell_type": "code",
   "execution_count": 71,
   "metadata": {},
   "outputs": [
    {
     "data": {
      "text/plain": [
       "count       10.000000\n",
       "mean     69052.461363\n",
       "std       2879.437224\n",
       "min      64969.630564\n",
       "25%      67136.363758\n",
       "50%      68156.372635\n",
       "75%      70982.369487\n",
       "max      74739.570526\n",
       "dtype: float64"
      ]
     },
     "execution_count": 71,
     "metadata": {},
     "output_type": "execute_result"
    }
   ],
   "source": [
    "scores = cross_val_score(lin_reg, housing_prepared, housing_labels, scoring=\"neg_mean_squared_error\", cv=10)\n",
    "pd.Series(np.sqrt(-scores)).describe()"
   ]
  },
  {
   "cell_type": "markdown",
   "metadata": {},
   "source": [
    "### DecisionTreeRegressor"
   ]
  },
  {
   "cell_type": "code",
   "execution_count": 72,
   "metadata": {},
   "outputs": [
    {
     "data": {
      "text/plain": [
       "DecisionTreeRegressor(criterion='mse', max_depth=None, max_features=None,\n",
       "                      max_leaf_nodes=None, min_impurity_decrease=0.0,\n",
       "                      min_impurity_split=None, min_samples_leaf=1,\n",
       "                      min_samples_split=2, min_weight_fraction_leaf=0.0,\n",
       "                      presort=False, random_state=42, splitter='best')"
      ]
     },
     "execution_count": 72,
     "metadata": {},
     "output_type": "execute_result"
    }
   ],
   "source": [
    "tree_reg = DecisionTreeRegressor(random_state=42)\n",
    "tree_reg.fit(housing_prepared, housing_labels)"
   ]
  },
  {
   "cell_type": "code",
   "execution_count": 73,
   "metadata": {},
   "outputs": [
    {
     "data": {
      "text/plain": [
       "array([286600., 340600., 196900., ...,  97800., 225900., 500001.])"
      ]
     },
     "execution_count": 73,
     "metadata": {},
     "output_type": "execute_result"
    }
   ],
   "source": [
    "housing_predictions = tree_reg.predict(housing_prepared)\n",
    "housing_predictions"
   ]
  },
  {
   "cell_type": "code",
   "execution_count": 74,
   "metadata": {},
   "outputs": [
    {
     "data": {
      "text/plain": [
       "0.0"
      ]
     },
     "execution_count": 74,
     "metadata": {},
     "output_type": "execute_result"
    }
   ],
   "source": [
    "tree_mse = mean_squared_error(housing_labels, housing_predictions)\n",
    "tree_rmse = np.sqrt(tree_mse)\n",
    "tree_rmse"
   ]
  },
  {
   "cell_type": "code",
   "execution_count": 75,
   "metadata": {},
   "outputs": [],
   "source": [
    "scores = cross_val_score(tree_reg, housing_prepared, housing_labels,\n",
    "                         scoring=\"neg_mean_squared_error\", cv=10)\n",
    "tree_rmse_scores = np.sqrt(-scores)"
   ]
  },
  {
   "cell_type": "code",
   "execution_count": 76,
   "metadata": {},
   "outputs": [
    {
     "name": "stdout",
     "output_type": "stream",
     "text": [
      "Scores: [70194.33680785 66855.16363941 72432.58244769 70758.73896782\n",
      " 71115.88230639 75585.14172901 70262.86139133 70273.6325285\n",
      " 75366.87952553 71231.65726027]\n",
      "Mean: 71407.68766037929\n",
      "Standard deviation: 2439.4345041191004\n"
     ]
    }
   ],
   "source": [
    "def display_scores(scores):\n",
    "    print(\"Scores:\", scores)\n",
    "    print(\"Mean:\", scores.mean())\n",
    "    print(\"Standard deviation:\", scores.std())\n",
    "\n",
    "display_scores(tree_rmse_scores)"
   ]
  },
  {
   "cell_type": "markdown",
   "metadata": {},
   "source": [
    "### RandomForestRegressor"
   ]
  },
  {
   "cell_type": "code",
   "execution_count": 78,
   "metadata": {},
   "outputs": [
    {
     "data": {
      "text/plain": [
       "RandomForestRegressor(bootstrap=True, criterion='mse', max_depth=None,\n",
       "                      max_features='auto', max_leaf_nodes=None,\n",
       "                      min_impurity_decrease=0.0, min_impurity_split=None,\n",
       "                      min_samples_leaf=1, min_samples_split=2,\n",
       "                      min_weight_fraction_leaf=0.0, n_estimators=10,\n",
       "                      n_jobs=None, oob_score=False, random_state=42, verbose=0,\n",
       "                      warm_start=False)"
      ]
     },
     "execution_count": 78,
     "metadata": {},
     "output_type": "execute_result"
    }
   ],
   "source": [
    "forest_reg = RandomForestRegressor(n_estimators=10, random_state=42)\n",
    "forest_reg.fit(housing_prepared, housing_labels)"
   ]
  },
  {
   "cell_type": "code",
   "execution_count": 79,
   "metadata": {},
   "outputs": [
    {
     "data": {
      "text/plain": [
       "21933.31414779769"
      ]
     },
     "execution_count": 79,
     "metadata": {},
     "output_type": "execute_result"
    }
   ],
   "source": [
    "housing_predictions = forest_reg.predict(housing_prepared)\n",
    "forest_mse = mean_squared_error(housing_labels, housing_predictions)\n",
    "forest_rmse = np.sqrt(forest_mse)\n",
    "forest_rmse"
   ]
  },
  {
   "cell_type": "code",
   "execution_count": 80,
   "metadata": {},
   "outputs": [
    {
     "name": "stdout",
     "output_type": "stream",
     "text": [
      "Scores: [51646.44545909 48940.60114882 53050.86323649 54408.98730149\n",
      " 50922.14870785 56482.50703987 51864.52025526 49760.85037653\n",
      " 55434.21627933 53326.10093303]\n",
      "Mean: 52583.72407377466\n",
      "Standard deviation: 2298.353351147122\n"
     ]
    }
   ],
   "source": [
    "forest_scores = cross_val_score(forest_reg, housing_prepared, housing_labels,\n",
    "                                scoring=\"neg_mean_squared_error\", cv=10)\n",
    "forest_rmse_scores = np.sqrt(-forest_scores)\n",
    "display_scores(forest_rmse_scores)"
   ]
  },
  {
   "cell_type": "markdown",
   "metadata": {},
   "source": [
    "### SVR"
   ]
  },
  {
   "cell_type": "code",
   "execution_count": 81,
   "metadata": {},
   "outputs": [
    {
     "data": {
      "text/plain": [
       "111094.6308539982"
      ]
     },
     "execution_count": 81,
     "metadata": {},
     "output_type": "execute_result"
    }
   ],
   "source": [
    "svm_reg = SVR(kernel=\"linear\")\n",
    "svm_reg.fit(housing_prepared, housing_labels)\n",
    "housing_predictions = svm_reg.predict(housing_prepared)\n",
    "svm_mse = mean_squared_error(housing_labels, housing_predictions)\n",
    "svm_rmse = np.sqrt(svm_mse)\n",
    "svm_rmse"
   ]
  },
  {
   "cell_type": "markdown",
   "metadata": {},
   "source": [
    "### GridSearchCV"
   ]
  },
  {
   "cell_type": "code",
   "execution_count": 82,
   "metadata": {},
   "outputs": [
    {
     "data": {
      "text/plain": [
       "GridSearchCV(cv=5, error_score='raise-deprecating',\n",
       "             estimator=RandomForestRegressor(bootstrap=True, criterion='mse',\n",
       "                                             max_depth=None,\n",
       "                                             max_features='auto',\n",
       "                                             max_leaf_nodes=None,\n",
       "                                             min_impurity_decrease=0.0,\n",
       "                                             min_impurity_split=None,\n",
       "                                             min_samples_leaf=1,\n",
       "                                             min_samples_split=2,\n",
       "                                             min_weight_fraction_leaf=0.0,\n",
       "                                             n_estimators='warn', n_jobs=None,\n",
       "                                             oob_score=False, random_state=42,\n",
       "                                             verbose=0, warm_start=False),\n",
       "             iid='warn', n_jobs=None,\n",
       "             param_grid=[{'max_features': [2, 4, 6, 8],\n",
       "                          'n_estimators': [3, 10, 30]},\n",
       "                         {'bootstrap': [False], 'max_features': [2, 3, 4],\n",
       "                          'n_estimators': [3, 10]}],\n",
       "             pre_dispatch='2*n_jobs', refit=True, return_train_score=True,\n",
       "             scoring='neg_mean_squared_error', verbose=0)"
      ]
     },
     "execution_count": 82,
     "metadata": {},
     "output_type": "execute_result"
    }
   ],
   "source": [
    "param_grid = [\n",
    "    # try 12 (3×4) combinations of hyperparameters\n",
    "    {'n_estimators': [3, 10, 30], 'max_features': [2, 4, 6, 8]},\n",
    "    # then try 6 (2×3) combinations with bootstrap set as False\n",
    "    {'bootstrap': [False], 'n_estimators': [3, 10], 'max_features': [2, 3, 4]},\n",
    "  ]\n",
    "\n",
    "forest_reg = RandomForestRegressor(random_state=42)\n",
    "# train across 5 folds, that's a total of (12+6)*5=90 rounds of training \n",
    "grid_search = GridSearchCV(forest_reg, param_grid, cv=5,\n",
    "                           scoring='neg_mean_squared_error', return_train_score=True)\n",
    "grid_search.fit(housing_prepared, housing_labels)"
   ]
  },
  {
   "cell_type": "code",
   "execution_count": 83,
   "metadata": {},
   "outputs": [
    {
     "data": {
      "text/plain": [
       "{'max_features': 8, 'n_estimators': 30}"
      ]
     },
     "execution_count": 83,
     "metadata": {},
     "output_type": "execute_result"
    }
   ],
   "source": [
    "grid_search.best_params_"
   ]
  },
  {
   "cell_type": "code",
   "execution_count": 84,
   "metadata": {},
   "outputs": [
    {
     "data": {
      "text/plain": [
       "RandomForestRegressor(bootstrap=True, criterion='mse', max_depth=None,\n",
       "                      max_features=8, max_leaf_nodes=None,\n",
       "                      min_impurity_decrease=0.0, min_impurity_split=None,\n",
       "                      min_samples_leaf=1, min_samples_split=2,\n",
       "                      min_weight_fraction_leaf=0.0, n_estimators=30,\n",
       "                      n_jobs=None, oob_score=False, random_state=42, verbose=0,\n",
       "                      warm_start=False)"
      ]
     },
     "execution_count": 84,
     "metadata": {},
     "output_type": "execute_result"
    }
   ],
   "source": [
    "grid_search.best_estimator_"
   ]
  },
  {
   "cell_type": "code",
   "execution_count": 85,
   "metadata": {},
   "outputs": [
    {
     "name": "stdout",
     "output_type": "stream",
     "text": [
      "63669.05791727153 {'max_features': 2, 'n_estimators': 3}\n",
      "55627.16171305252 {'max_features': 2, 'n_estimators': 10}\n",
      "53384.57867637289 {'max_features': 2, 'n_estimators': 30}\n",
      "60965.99185930139 {'max_features': 4, 'n_estimators': 3}\n",
      "52740.98248528835 {'max_features': 4, 'n_estimators': 10}\n",
      "50377.344409590376 {'max_features': 4, 'n_estimators': 30}\n",
      "58663.84733372485 {'max_features': 6, 'n_estimators': 3}\n",
      "52006.15355973719 {'max_features': 6, 'n_estimators': 10}\n",
      "50146.465964159885 {'max_features': 6, 'n_estimators': 30}\n",
      "57869.25504027614 {'max_features': 8, 'n_estimators': 3}\n",
      "51711.09443660957 {'max_features': 8, 'n_estimators': 10}\n",
      "49682.25345942335 {'max_features': 8, 'n_estimators': 30}\n",
      "62895.088889905004 {'bootstrap': False, 'max_features': 2, 'n_estimators': 3}\n",
      "54658.14484390074 {'bootstrap': False, 'max_features': 2, 'n_estimators': 10}\n",
      "59470.399594730654 {'bootstrap': False, 'max_features': 3, 'n_estimators': 3}\n",
      "52725.01091081235 {'bootstrap': False, 'max_features': 3, 'n_estimators': 10}\n",
      "57490.612956065226 {'bootstrap': False, 'max_features': 4, 'n_estimators': 3}\n",
      "51009.51445842374 {'bootstrap': False, 'max_features': 4, 'n_estimators': 10}\n"
     ]
    }
   ],
   "source": [
    "cvres = grid_search.cv_results_\n",
    "for mean_score, params in zip(cvres[\"mean_test_score\"], cvres[\"params\"]):\n",
    "    print(np.sqrt(-mean_score), params)"
   ]
  },
  {
   "cell_type": "code",
   "execution_count": 86,
   "metadata": {},
   "outputs": [
    {
     "data": {
      "text/html": [
       "<div>\n",
       "<style scoped>\n",
       "    .dataframe tbody tr th:only-of-type {\n",
       "        vertical-align: middle;\n",
       "    }\n",
       "\n",
       "    .dataframe tbody tr th {\n",
       "        vertical-align: top;\n",
       "    }\n",
       "\n",
       "    .dataframe thead th {\n",
       "        text-align: right;\n",
       "    }\n",
       "</style>\n",
       "<table border=\"1\" class=\"dataframe\">\n",
       "  <thead>\n",
       "    <tr style=\"text-align: right;\">\n",
       "      <th></th>\n",
       "      <th>mean_fit_time</th>\n",
       "      <th>std_fit_time</th>\n",
       "      <th>mean_score_time</th>\n",
       "      <th>std_score_time</th>\n",
       "      <th>param_max_features</th>\n",
       "      <th>param_n_estimators</th>\n",
       "      <th>param_bootstrap</th>\n",
       "      <th>params</th>\n",
       "      <th>split0_test_score</th>\n",
       "      <th>split1_test_score</th>\n",
       "      <th>...</th>\n",
       "      <th>mean_test_score</th>\n",
       "      <th>std_test_score</th>\n",
       "      <th>rank_test_score</th>\n",
       "      <th>split0_train_score</th>\n",
       "      <th>split1_train_score</th>\n",
       "      <th>split2_train_score</th>\n",
       "      <th>split3_train_score</th>\n",
       "      <th>split4_train_score</th>\n",
       "      <th>mean_train_score</th>\n",
       "      <th>std_train_score</th>\n",
       "    </tr>\n",
       "  </thead>\n",
       "  <tbody>\n",
       "    <tr>\n",
       "      <th>0</th>\n",
       "      <td>0.215397</td>\n",
       "      <td>0.003083</td>\n",
       "      <td>0.000201</td>\n",
       "      <td>0.000402</td>\n",
       "      <td>2</td>\n",
       "      <td>3</td>\n",
       "      <td>NaN</td>\n",
       "      <td>{'max_features': 2, 'n_estimators': 3}</td>\n",
       "      <td>-3.837622e+09</td>\n",
       "      <td>-4.147108e+09</td>\n",
       "      <td>...</td>\n",
       "      <td>-4.053749e+09</td>\n",
       "      <td>1.519609e+08</td>\n",
       "      <td>18</td>\n",
       "      <td>-1.064113e+09</td>\n",
       "      <td>-1.105142e+09</td>\n",
       "      <td>-1.116550e+09</td>\n",
       "      <td>-1.112342e+09</td>\n",
       "      <td>-1.129650e+09</td>\n",
       "      <td>-1.105559e+09</td>\n",
       "      <td>2.220402e+07</td>\n",
       "    </tr>\n",
       "    <tr>\n",
       "      <th>1</th>\n",
       "      <td>0.689694</td>\n",
       "      <td>0.005760</td>\n",
       "      <td>0.024610</td>\n",
       "      <td>0.007379</td>\n",
       "      <td>2</td>\n",
       "      <td>10</td>\n",
       "      <td>NaN</td>\n",
       "      <td>{'max_features': 2, 'n_estimators': 10}</td>\n",
       "      <td>-3.047771e+09</td>\n",
       "      <td>-3.254861e+09</td>\n",
       "      <td>...</td>\n",
       "      <td>-3.094381e+09</td>\n",
       "      <td>1.327046e+08</td>\n",
       "      <td>11</td>\n",
       "      <td>-5.927175e+08</td>\n",
       "      <td>-5.870952e+08</td>\n",
       "      <td>-5.776964e+08</td>\n",
       "      <td>-5.716332e+08</td>\n",
       "      <td>-5.802501e+08</td>\n",
       "      <td>-5.818785e+08</td>\n",
       "      <td>7.345821e+06</td>\n",
       "    </tr>\n",
       "    <tr>\n",
       "      <th>2</th>\n",
       "      <td>2.103686</td>\n",
       "      <td>0.037786</td>\n",
       "      <td>0.075739</td>\n",
       "      <td>0.007220</td>\n",
       "      <td>2</td>\n",
       "      <td>30</td>\n",
       "      <td>NaN</td>\n",
       "      <td>{'max_features': 2, 'n_estimators': 30}</td>\n",
       "      <td>-2.689185e+09</td>\n",
       "      <td>-3.021086e+09</td>\n",
       "      <td>...</td>\n",
       "      <td>-2.849913e+09</td>\n",
       "      <td>1.626879e+08</td>\n",
       "      <td>9</td>\n",
       "      <td>-4.381089e+08</td>\n",
       "      <td>-4.391272e+08</td>\n",
       "      <td>-4.371702e+08</td>\n",
       "      <td>-4.376955e+08</td>\n",
       "      <td>-4.452654e+08</td>\n",
       "      <td>-4.394734e+08</td>\n",
       "      <td>2.966320e+06</td>\n",
       "    </tr>\n",
       "    <tr>\n",
       "      <th>3</th>\n",
       "      <td>0.336266</td>\n",
       "      <td>0.008149</td>\n",
       "      <td>0.010546</td>\n",
       "      <td>0.008266</td>\n",
       "      <td>4</td>\n",
       "      <td>3</td>\n",
       "      <td>NaN</td>\n",
       "      <td>{'max_features': 4, 'n_estimators': 3}</td>\n",
       "      <td>-3.730181e+09</td>\n",
       "      <td>-3.786886e+09</td>\n",
       "      <td>...</td>\n",
       "      <td>-3.716852e+09</td>\n",
       "      <td>1.631421e+08</td>\n",
       "      <td>16</td>\n",
       "      <td>-9.865163e+08</td>\n",
       "      <td>-1.012565e+09</td>\n",
       "      <td>-9.169425e+08</td>\n",
       "      <td>-1.037400e+09</td>\n",
       "      <td>-9.707739e+08</td>\n",
       "      <td>-9.848396e+08</td>\n",
       "      <td>4.084607e+07</td>\n",
       "    </tr>\n",
       "    <tr>\n",
       "      <th>4</th>\n",
       "      <td>1.104998</td>\n",
       "      <td>0.007510</td>\n",
       "      <td>0.024629</td>\n",
       "      <td>0.007384</td>\n",
       "      <td>4</td>\n",
       "      <td>10</td>\n",
       "      <td>NaN</td>\n",
       "      <td>{'max_features': 4, 'n_estimators': 10}</td>\n",
       "      <td>-2.666283e+09</td>\n",
       "      <td>-2.784511e+09</td>\n",
       "      <td>...</td>\n",
       "      <td>-2.781611e+09</td>\n",
       "      <td>1.268562e+08</td>\n",
       "      <td>8</td>\n",
       "      <td>-5.097115e+08</td>\n",
       "      <td>-5.162820e+08</td>\n",
       "      <td>-4.962893e+08</td>\n",
       "      <td>-5.436192e+08</td>\n",
       "      <td>-5.160297e+08</td>\n",
       "      <td>-5.163863e+08</td>\n",
       "      <td>1.542862e+07</td>\n",
       "    </tr>\n",
       "    <tr>\n",
       "      <th>5</th>\n",
       "      <td>3.264858</td>\n",
       "      <td>0.021955</td>\n",
       "      <td>0.080681</td>\n",
       "      <td>0.003991</td>\n",
       "      <td>4</td>\n",
       "      <td>30</td>\n",
       "      <td>NaN</td>\n",
       "      <td>{'max_features': 4, 'n_estimators': 30}</td>\n",
       "      <td>-2.387153e+09</td>\n",
       "      <td>-2.588448e+09</td>\n",
       "      <td>...</td>\n",
       "      <td>-2.537877e+09</td>\n",
       "      <td>1.214603e+08</td>\n",
       "      <td>3</td>\n",
       "      <td>-3.838835e+08</td>\n",
       "      <td>-3.880268e+08</td>\n",
       "      <td>-3.790867e+08</td>\n",
       "      <td>-4.040957e+08</td>\n",
       "      <td>-3.845520e+08</td>\n",
       "      <td>-3.879289e+08</td>\n",
       "      <td>8.571233e+06</td>\n",
       "    </tr>\n",
       "    <tr>\n",
       "      <th>6</th>\n",
       "      <td>0.446225</td>\n",
       "      <td>0.013759</td>\n",
       "      <td>0.009374</td>\n",
       "      <td>0.007653</td>\n",
       "      <td>6</td>\n",
       "      <td>3</td>\n",
       "      <td>NaN</td>\n",
       "      <td>{'max_features': 6, 'n_estimators': 3}</td>\n",
       "      <td>-3.119657e+09</td>\n",
       "      <td>-3.586319e+09</td>\n",
       "      <td>...</td>\n",
       "      <td>-3.441447e+09</td>\n",
       "      <td>1.893141e+08</td>\n",
       "      <td>14</td>\n",
       "      <td>-9.245343e+08</td>\n",
       "      <td>-8.886939e+08</td>\n",
       "      <td>-9.353135e+08</td>\n",
       "      <td>-9.009801e+08</td>\n",
       "      <td>-8.624664e+08</td>\n",
       "      <td>-9.023976e+08</td>\n",
       "      <td>2.591445e+07</td>\n",
       "    </tr>\n",
       "    <tr>\n",
       "      <th>7</th>\n",
       "      <td>1.487496</td>\n",
       "      <td>0.021918</td>\n",
       "      <td>0.029676</td>\n",
       "      <td>0.002722</td>\n",
       "      <td>6</td>\n",
       "      <td>10</td>\n",
       "      <td>NaN</td>\n",
       "      <td>{'max_features': 6, 'n_estimators': 10}</td>\n",
       "      <td>-2.549663e+09</td>\n",
       "      <td>-2.782039e+09</td>\n",
       "      <td>...</td>\n",
       "      <td>-2.704640e+09</td>\n",
       "      <td>1.471542e+08</td>\n",
       "      <td>6</td>\n",
       "      <td>-4.980344e+08</td>\n",
       "      <td>-5.045869e+08</td>\n",
       "      <td>-4.994664e+08</td>\n",
       "      <td>-4.990325e+08</td>\n",
       "      <td>-5.055542e+08</td>\n",
       "      <td>-5.013349e+08</td>\n",
       "      <td>3.100456e+06</td>\n",
       "    </tr>\n",
       "    <tr>\n",
       "      <th>8</th>\n",
       "      <td>4.480688</td>\n",
       "      <td>0.025350</td>\n",
       "      <td>0.075604</td>\n",
       "      <td>0.003466</td>\n",
       "      <td>6</td>\n",
       "      <td>30</td>\n",
       "      <td>NaN</td>\n",
       "      <td>{'max_features': 6, 'n_estimators': 30}</td>\n",
       "      <td>-2.370010e+09</td>\n",
       "      <td>-2.583638e+09</td>\n",
       "      <td>...</td>\n",
       "      <td>-2.514668e+09</td>\n",
       "      <td>1.285063e+08</td>\n",
       "      <td>2</td>\n",
       "      <td>-3.838538e+08</td>\n",
       "      <td>-3.804711e+08</td>\n",
       "      <td>-3.805218e+08</td>\n",
       "      <td>-3.856095e+08</td>\n",
       "      <td>-3.901917e+08</td>\n",
       "      <td>-3.841296e+08</td>\n",
       "      <td>3.617057e+06</td>\n",
       "    </tr>\n",
       "    <tr>\n",
       "      <th>9</th>\n",
       "      <td>0.634296</td>\n",
       "      <td>0.046855</td>\n",
       "      <td>0.013062</td>\n",
       "      <td>0.007884</td>\n",
       "      <td>8</td>\n",
       "      <td>3</td>\n",
       "      <td>NaN</td>\n",
       "      <td>{'max_features': 8, 'n_estimators': 3}</td>\n",
       "      <td>-3.353504e+09</td>\n",
       "      <td>-3.348552e+09</td>\n",
       "      <td>...</td>\n",
       "      <td>-3.348851e+09</td>\n",
       "      <td>1.241864e+08</td>\n",
       "      <td>13</td>\n",
       "      <td>-9.228123e+08</td>\n",
       "      <td>-8.553031e+08</td>\n",
       "      <td>-8.603321e+08</td>\n",
       "      <td>-8.881964e+08</td>\n",
       "      <td>-9.151287e+08</td>\n",
       "      <td>-8.883545e+08</td>\n",
       "      <td>2.750227e+07</td>\n",
       "    </tr>\n",
       "    <tr>\n",
       "      <th>10</th>\n",
       "      <td>1.977718</td>\n",
       "      <td>0.074532</td>\n",
       "      <td>0.028758</td>\n",
       "      <td>0.000821</td>\n",
       "      <td>8</td>\n",
       "      <td>10</td>\n",
       "      <td>NaN</td>\n",
       "      <td>{'max_features': 8, 'n_estimators': 10}</td>\n",
       "      <td>-2.571970e+09</td>\n",
       "      <td>-2.718994e+09</td>\n",
       "      <td>...</td>\n",
       "      <td>-2.674037e+09</td>\n",
       "      <td>1.392720e+08</td>\n",
       "      <td>5</td>\n",
       "      <td>-4.932416e+08</td>\n",
       "      <td>-4.815238e+08</td>\n",
       "      <td>-4.730979e+08</td>\n",
       "      <td>-5.155367e+08</td>\n",
       "      <td>-4.985555e+08</td>\n",
       "      <td>-4.923911e+08</td>\n",
       "      <td>1.459294e+07</td>\n",
       "    </tr>\n",
       "    <tr>\n",
       "      <th>11</th>\n",
       "      <td>5.697189</td>\n",
       "      <td>0.043805</td>\n",
       "      <td>0.076098</td>\n",
       "      <td>0.007139</td>\n",
       "      <td>8</td>\n",
       "      <td>30</td>\n",
       "      <td>NaN</td>\n",
       "      <td>{'max_features': 8, 'n_estimators': 30}</td>\n",
       "      <td>-2.357390e+09</td>\n",
       "      <td>-2.546640e+09</td>\n",
       "      <td>...</td>\n",
       "      <td>-2.468326e+09</td>\n",
       "      <td>1.091647e+08</td>\n",
       "      <td>1</td>\n",
       "      <td>-3.841658e+08</td>\n",
       "      <td>-3.744500e+08</td>\n",
       "      <td>-3.773239e+08</td>\n",
       "      <td>-3.882250e+08</td>\n",
       "      <td>-3.810005e+08</td>\n",
       "      <td>-3.810330e+08</td>\n",
       "      <td>4.871017e+06</td>\n",
       "    </tr>\n",
       "    <tr>\n",
       "      <th>12</th>\n",
       "      <td>0.341802</td>\n",
       "      <td>0.011902</td>\n",
       "      <td>0.004204</td>\n",
       "      <td>0.008409</td>\n",
       "      <td>2</td>\n",
       "      <td>3</td>\n",
       "      <td>False</td>\n",
       "      <td>{'bootstrap': False, 'max_features': 2, 'n_est...</td>\n",
       "      <td>-3.785816e+09</td>\n",
       "      <td>-4.166012e+09</td>\n",
       "      <td>...</td>\n",
       "      <td>-3.955792e+09</td>\n",
       "      <td>1.900966e+08</td>\n",
       "      <td>17</td>\n",
       "      <td>-0.000000e+00</td>\n",
       "      <td>-0.000000e+00</td>\n",
       "      <td>-0.000000e+00</td>\n",
       "      <td>-0.000000e+00</td>\n",
       "      <td>-0.000000e+00</td>\n",
       "      <td>0.000000e+00</td>\n",
       "      <td>0.000000e+00</td>\n",
       "    </tr>\n",
       "    <tr>\n",
       "      <th>13</th>\n",
       "      <td>1.119046</td>\n",
       "      <td>0.013466</td>\n",
       "      <td>0.032882</td>\n",
       "      <td>0.003931</td>\n",
       "      <td>2</td>\n",
       "      <td>10</td>\n",
       "      <td>False</td>\n",
       "      <td>{'bootstrap': False, 'max_features': 2, 'n_est...</td>\n",
       "      <td>-2.810721e+09</td>\n",
       "      <td>-3.107789e+09</td>\n",
       "      <td>...</td>\n",
       "      <td>-2.987513e+09</td>\n",
       "      <td>1.539231e+08</td>\n",
       "      <td>10</td>\n",
       "      <td>-6.056477e-02</td>\n",
       "      <td>-0.000000e+00</td>\n",
       "      <td>-0.000000e+00</td>\n",
       "      <td>-0.000000e+00</td>\n",
       "      <td>-2.967449e+00</td>\n",
       "      <td>-6.056027e-01</td>\n",
       "      <td>1.181156e+00</td>\n",
       "    </tr>\n",
       "    <tr>\n",
       "      <th>14</th>\n",
       "      <td>0.442178</td>\n",
       "      <td>0.012109</td>\n",
       "      <td>0.008967</td>\n",
       "      <td>0.007359</td>\n",
       "      <td>3</td>\n",
       "      <td>3</td>\n",
       "      <td>False</td>\n",
       "      <td>{'bootstrap': False, 'max_features': 3, 'n_est...</td>\n",
       "      <td>-3.618324e+09</td>\n",
       "      <td>-3.441527e+09</td>\n",
       "      <td>...</td>\n",
       "      <td>-3.536728e+09</td>\n",
       "      <td>7.795196e+07</td>\n",
       "      <td>15</td>\n",
       "      <td>-0.000000e+00</td>\n",
       "      <td>-0.000000e+00</td>\n",
       "      <td>-0.000000e+00</td>\n",
       "      <td>-0.000000e+00</td>\n",
       "      <td>-6.072840e+01</td>\n",
       "      <td>-1.214568e+01</td>\n",
       "      <td>2.429136e+01</td>\n",
       "    </tr>\n",
       "    <tr>\n",
       "      <th>15</th>\n",
       "      <td>1.433726</td>\n",
       "      <td>0.017768</td>\n",
       "      <td>0.031608</td>\n",
       "      <td>0.003768</td>\n",
       "      <td>3</td>\n",
       "      <td>10</td>\n",
       "      <td>False</td>\n",
       "      <td>{'bootstrap': False, 'max_features': 3, 'n_est...</td>\n",
       "      <td>-2.757999e+09</td>\n",
       "      <td>-2.851737e+09</td>\n",
       "      <td>...</td>\n",
       "      <td>-2.779927e+09</td>\n",
       "      <td>6.286611e+07</td>\n",
       "      <td>7</td>\n",
       "      <td>-2.089484e+01</td>\n",
       "      <td>-0.000000e+00</td>\n",
       "      <td>-0.000000e+00</td>\n",
       "      <td>-0.000000e+00</td>\n",
       "      <td>-5.465556e+00</td>\n",
       "      <td>-5.272080e+00</td>\n",
       "      <td>8.093117e+00</td>\n",
       "    </tr>\n",
       "    <tr>\n",
       "      <th>16</th>\n",
       "      <td>0.525440</td>\n",
       "      <td>0.008207</td>\n",
       "      <td>0.012499</td>\n",
       "      <td>0.006249</td>\n",
       "      <td>4</td>\n",
       "      <td>3</td>\n",
       "      <td>False</td>\n",
       "      <td>{'bootstrap': False, 'max_features': 4, 'n_est...</td>\n",
       "      <td>-3.134040e+09</td>\n",
       "      <td>-3.559375e+09</td>\n",
       "      <td>...</td>\n",
       "      <td>-3.305171e+09</td>\n",
       "      <td>1.879203e+08</td>\n",
       "      <td>12</td>\n",
       "      <td>-0.000000e+00</td>\n",
       "      <td>-0.000000e+00</td>\n",
       "      <td>-0.000000e+00</td>\n",
       "      <td>-0.000000e+00</td>\n",
       "      <td>-0.000000e+00</td>\n",
       "      <td>0.000000e+00</td>\n",
       "      <td>0.000000e+00</td>\n",
       "    </tr>\n",
       "    <tr>\n",
       "      <th>17</th>\n",
       "      <td>1.748417</td>\n",
       "      <td>0.019327</td>\n",
       "      <td>0.026484</td>\n",
       "      <td>0.009197</td>\n",
       "      <td>4</td>\n",
       "      <td>10</td>\n",
       "      <td>False</td>\n",
       "      <td>{'bootstrap': False, 'max_features': 4, 'n_est...</td>\n",
       "      <td>-2.525578e+09</td>\n",
       "      <td>-2.710011e+09</td>\n",
       "      <td>...</td>\n",
       "      <td>-2.601971e+09</td>\n",
       "      <td>1.088031e+08</td>\n",
       "      <td>4</td>\n",
       "      <td>-0.000000e+00</td>\n",
       "      <td>-1.514119e-02</td>\n",
       "      <td>-0.000000e+00</td>\n",
       "      <td>-0.000000e+00</td>\n",
       "      <td>-0.000000e+00</td>\n",
       "      <td>-3.028238e-03</td>\n",
       "      <td>6.056477e-03</td>\n",
       "    </tr>\n",
       "  </tbody>\n",
       "</table>\n",
       "<p>18 rows × 23 columns</p>\n",
       "</div>"
      ],
      "text/plain": [
       "    mean_fit_time  std_fit_time  mean_score_time  std_score_time  \\\n",
       "0        0.215397      0.003083         0.000201        0.000402   \n",
       "1        0.689694      0.005760         0.024610        0.007379   \n",
       "2        2.103686      0.037786         0.075739        0.007220   \n",
       "3        0.336266      0.008149         0.010546        0.008266   \n",
       "4        1.104998      0.007510         0.024629        0.007384   \n",
       "5        3.264858      0.021955         0.080681        0.003991   \n",
       "6        0.446225      0.013759         0.009374        0.007653   \n",
       "7        1.487496      0.021918         0.029676        0.002722   \n",
       "8        4.480688      0.025350         0.075604        0.003466   \n",
       "9        0.634296      0.046855         0.013062        0.007884   \n",
       "10       1.977718      0.074532         0.028758        0.000821   \n",
       "11       5.697189      0.043805         0.076098        0.007139   \n",
       "12       0.341802      0.011902         0.004204        0.008409   \n",
       "13       1.119046      0.013466         0.032882        0.003931   \n",
       "14       0.442178      0.012109         0.008967        0.007359   \n",
       "15       1.433726      0.017768         0.031608        0.003768   \n",
       "16       0.525440      0.008207         0.012499        0.006249   \n",
       "17       1.748417      0.019327         0.026484        0.009197   \n",
       "\n",
       "   param_max_features param_n_estimators param_bootstrap  \\\n",
       "0                   2                  3             NaN   \n",
       "1                   2                 10             NaN   \n",
       "2                   2                 30             NaN   \n",
       "3                   4                  3             NaN   \n",
       "4                   4                 10             NaN   \n",
       "5                   4                 30             NaN   \n",
       "6                   6                  3             NaN   \n",
       "7                   6                 10             NaN   \n",
       "8                   6                 30             NaN   \n",
       "9                   8                  3             NaN   \n",
       "10                  8                 10             NaN   \n",
       "11                  8                 30             NaN   \n",
       "12                  2                  3           False   \n",
       "13                  2                 10           False   \n",
       "14                  3                  3           False   \n",
       "15                  3                 10           False   \n",
       "16                  4                  3           False   \n",
       "17                  4                 10           False   \n",
       "\n",
       "                                               params  split0_test_score  \\\n",
       "0              {'max_features': 2, 'n_estimators': 3}      -3.837622e+09   \n",
       "1             {'max_features': 2, 'n_estimators': 10}      -3.047771e+09   \n",
       "2             {'max_features': 2, 'n_estimators': 30}      -2.689185e+09   \n",
       "3              {'max_features': 4, 'n_estimators': 3}      -3.730181e+09   \n",
       "4             {'max_features': 4, 'n_estimators': 10}      -2.666283e+09   \n",
       "5             {'max_features': 4, 'n_estimators': 30}      -2.387153e+09   \n",
       "6              {'max_features': 6, 'n_estimators': 3}      -3.119657e+09   \n",
       "7             {'max_features': 6, 'n_estimators': 10}      -2.549663e+09   \n",
       "8             {'max_features': 6, 'n_estimators': 30}      -2.370010e+09   \n",
       "9              {'max_features': 8, 'n_estimators': 3}      -3.353504e+09   \n",
       "10            {'max_features': 8, 'n_estimators': 10}      -2.571970e+09   \n",
       "11            {'max_features': 8, 'n_estimators': 30}      -2.357390e+09   \n",
       "12  {'bootstrap': False, 'max_features': 2, 'n_est...      -3.785816e+09   \n",
       "13  {'bootstrap': False, 'max_features': 2, 'n_est...      -2.810721e+09   \n",
       "14  {'bootstrap': False, 'max_features': 3, 'n_est...      -3.618324e+09   \n",
       "15  {'bootstrap': False, 'max_features': 3, 'n_est...      -2.757999e+09   \n",
       "16  {'bootstrap': False, 'max_features': 4, 'n_est...      -3.134040e+09   \n",
       "17  {'bootstrap': False, 'max_features': 4, 'n_est...      -2.525578e+09   \n",
       "\n",
       "    split1_test_score       ...         mean_test_score  std_test_score  \\\n",
       "0       -4.147108e+09       ...           -4.053749e+09    1.519609e+08   \n",
       "1       -3.254861e+09       ...           -3.094381e+09    1.327046e+08   \n",
       "2       -3.021086e+09       ...           -2.849913e+09    1.626879e+08   \n",
       "3       -3.786886e+09       ...           -3.716852e+09    1.631421e+08   \n",
       "4       -2.784511e+09       ...           -2.781611e+09    1.268562e+08   \n",
       "5       -2.588448e+09       ...           -2.537877e+09    1.214603e+08   \n",
       "6       -3.586319e+09       ...           -3.441447e+09    1.893141e+08   \n",
       "7       -2.782039e+09       ...           -2.704640e+09    1.471542e+08   \n",
       "8       -2.583638e+09       ...           -2.514668e+09    1.285063e+08   \n",
       "9       -3.348552e+09       ...           -3.348851e+09    1.241864e+08   \n",
       "10      -2.718994e+09       ...           -2.674037e+09    1.392720e+08   \n",
       "11      -2.546640e+09       ...           -2.468326e+09    1.091647e+08   \n",
       "12      -4.166012e+09       ...           -3.955792e+09    1.900966e+08   \n",
       "13      -3.107789e+09       ...           -2.987513e+09    1.539231e+08   \n",
       "14      -3.441527e+09       ...           -3.536728e+09    7.795196e+07   \n",
       "15      -2.851737e+09       ...           -2.779927e+09    6.286611e+07   \n",
       "16      -3.559375e+09       ...           -3.305171e+09    1.879203e+08   \n",
       "17      -2.710011e+09       ...           -2.601971e+09    1.088031e+08   \n",
       "\n",
       "    rank_test_score  split0_train_score  split1_train_score  \\\n",
       "0                18       -1.064113e+09       -1.105142e+09   \n",
       "1                11       -5.927175e+08       -5.870952e+08   \n",
       "2                 9       -4.381089e+08       -4.391272e+08   \n",
       "3                16       -9.865163e+08       -1.012565e+09   \n",
       "4                 8       -5.097115e+08       -5.162820e+08   \n",
       "5                 3       -3.838835e+08       -3.880268e+08   \n",
       "6                14       -9.245343e+08       -8.886939e+08   \n",
       "7                 6       -4.980344e+08       -5.045869e+08   \n",
       "8                 2       -3.838538e+08       -3.804711e+08   \n",
       "9                13       -9.228123e+08       -8.553031e+08   \n",
       "10                5       -4.932416e+08       -4.815238e+08   \n",
       "11                1       -3.841658e+08       -3.744500e+08   \n",
       "12               17       -0.000000e+00       -0.000000e+00   \n",
       "13               10       -6.056477e-02       -0.000000e+00   \n",
       "14               15       -0.000000e+00       -0.000000e+00   \n",
       "15                7       -2.089484e+01       -0.000000e+00   \n",
       "16               12       -0.000000e+00       -0.000000e+00   \n",
       "17                4       -0.000000e+00       -1.514119e-02   \n",
       "\n",
       "    split2_train_score  split3_train_score  split4_train_score  \\\n",
       "0        -1.116550e+09       -1.112342e+09       -1.129650e+09   \n",
       "1        -5.776964e+08       -5.716332e+08       -5.802501e+08   \n",
       "2        -4.371702e+08       -4.376955e+08       -4.452654e+08   \n",
       "3        -9.169425e+08       -1.037400e+09       -9.707739e+08   \n",
       "4        -4.962893e+08       -5.436192e+08       -5.160297e+08   \n",
       "5        -3.790867e+08       -4.040957e+08       -3.845520e+08   \n",
       "6        -9.353135e+08       -9.009801e+08       -8.624664e+08   \n",
       "7        -4.994664e+08       -4.990325e+08       -5.055542e+08   \n",
       "8        -3.805218e+08       -3.856095e+08       -3.901917e+08   \n",
       "9        -8.603321e+08       -8.881964e+08       -9.151287e+08   \n",
       "10       -4.730979e+08       -5.155367e+08       -4.985555e+08   \n",
       "11       -3.773239e+08       -3.882250e+08       -3.810005e+08   \n",
       "12       -0.000000e+00       -0.000000e+00       -0.000000e+00   \n",
       "13       -0.000000e+00       -0.000000e+00       -2.967449e+00   \n",
       "14       -0.000000e+00       -0.000000e+00       -6.072840e+01   \n",
       "15       -0.000000e+00       -0.000000e+00       -5.465556e+00   \n",
       "16       -0.000000e+00       -0.000000e+00       -0.000000e+00   \n",
       "17       -0.000000e+00       -0.000000e+00       -0.000000e+00   \n",
       "\n",
       "    mean_train_score  std_train_score  \n",
       "0      -1.105559e+09     2.220402e+07  \n",
       "1      -5.818785e+08     7.345821e+06  \n",
       "2      -4.394734e+08     2.966320e+06  \n",
       "3      -9.848396e+08     4.084607e+07  \n",
       "4      -5.163863e+08     1.542862e+07  \n",
       "5      -3.879289e+08     8.571233e+06  \n",
       "6      -9.023976e+08     2.591445e+07  \n",
       "7      -5.013349e+08     3.100456e+06  \n",
       "8      -3.841296e+08     3.617057e+06  \n",
       "9      -8.883545e+08     2.750227e+07  \n",
       "10     -4.923911e+08     1.459294e+07  \n",
       "11     -3.810330e+08     4.871017e+06  \n",
       "12      0.000000e+00     0.000000e+00  \n",
       "13     -6.056027e-01     1.181156e+00  \n",
       "14     -1.214568e+01     2.429136e+01  \n",
       "15     -5.272080e+00     8.093117e+00  \n",
       "16      0.000000e+00     0.000000e+00  \n",
       "17     -3.028238e-03     6.056477e-03  \n",
       "\n",
       "[18 rows x 23 columns]"
      ]
     },
     "execution_count": 86,
     "metadata": {},
     "output_type": "execute_result"
    }
   ],
   "source": [
    "\n",
    "pd.DataFrame(grid_search.cv_results_)"
   ]
  },
  {
   "cell_type": "markdown",
   "metadata": {},
   "source": [
    "### RandomizedSearchCV"
   ]
  },
  {
   "cell_type": "code",
   "execution_count": 87,
   "metadata": {},
   "outputs": [
    {
     "data": {
      "text/plain": [
       "RandomizedSearchCV(cv=5, error_score='raise-deprecating',\n",
       "                   estimator=RandomForestRegressor(bootstrap=True,\n",
       "                                                   criterion='mse',\n",
       "                                                   max_depth=None,\n",
       "                                                   max_features='auto',\n",
       "                                                   max_leaf_nodes=None,\n",
       "                                                   min_impurity_decrease=0.0,\n",
       "                                                   min_impurity_split=None,\n",
       "                                                   min_samples_leaf=1,\n",
       "                                                   min_samples_split=2,\n",
       "                                                   min_weight_fraction_leaf=0.0,\n",
       "                                                   n_estimators='warn',\n",
       "                                                   n_jobs=None, oob_score=False,\n",
       "                                                   random_sta...\n",
       "                                                   warm_start=False),\n",
       "                   iid='warn', n_iter=10, n_jobs=None,\n",
       "                   param_distributions={'max_features': <scipy.stats._distn_infrastructure.rv_frozen object at 0x000001B83663DD68>,\n",
       "                                        'n_estimators': <scipy.stats._distn_infrastructure.rv_frozen object at 0x000001B83663D470>},\n",
       "                   pre_dispatch='2*n_jobs', random_state=42, refit=True,\n",
       "                   return_train_score=False, scoring='neg_mean_squared_error',\n",
       "                   verbose=0)"
      ]
     },
     "execution_count": 87,
     "metadata": {},
     "output_type": "execute_result"
    }
   ],
   "source": [
    "param_distribs = {\n",
    "        'n_estimators': randint(low=1, high=200),\n",
    "        'max_features': randint(low=1, high=8),\n",
    "    }\n",
    "\n",
    "forest_reg = RandomForestRegressor(random_state=42)\n",
    "rnd_search = RandomizedSearchCV(forest_reg, param_distributions=param_distribs,\n",
    "                                n_iter=10, cv=5, scoring='neg_mean_squared_error', random_state=42)\n",
    "rnd_search.fit(housing_prepared, housing_labels)"
   ]
  },
  {
   "cell_type": "code",
   "execution_count": 88,
   "metadata": {},
   "outputs": [
    {
     "name": "stdout",
     "output_type": "stream",
     "text": [
      "49150.657232934034 {'max_features': 7, 'n_estimators': 180}\n",
      "51389.85295710133 {'max_features': 5, 'n_estimators': 15}\n",
      "50796.12045980556 {'max_features': 3, 'n_estimators': 72}\n",
      "50835.09932039744 {'max_features': 5, 'n_estimators': 21}\n",
      "49280.90117886215 {'max_features': 7, 'n_estimators': 122}\n",
      "50774.86679035961 {'max_features': 3, 'n_estimators': 75}\n",
      "50682.75001237282 {'max_features': 3, 'n_estimators': 88}\n",
      "49608.94061293652 {'max_features': 5, 'n_estimators': 100}\n",
      "50473.57642831875 {'max_features': 3, 'n_estimators': 150}\n",
      "64429.763804893395 {'max_features': 5, 'n_estimators': 2}\n"
     ]
    }
   ],
   "source": [
    "cvres = rnd_search.cv_results_\n",
    "for mean_score, params in zip(cvres[\"mean_test_score\"], cvres[\"params\"]):\n",
    "    print(np.sqrt(-mean_score), params)"
   ]
  },
  {
   "cell_type": "code",
   "execution_count": 89,
   "metadata": {},
   "outputs": [
    {
     "data": {
      "text/plain": [
       "array([7.33442355e-02, 6.29090705e-02, 4.11437985e-02, 1.46726854e-02,\n",
       "       1.41064835e-02, 1.48742809e-02, 1.42575993e-02, 3.66158981e-01,\n",
       "       5.64191792e-02, 1.08792957e-01, 5.33510773e-02, 1.03114883e-02,\n",
       "       1.64780994e-01, 6.02803867e-05, 1.96041560e-03, 2.85647464e-03])"
      ]
     },
     "execution_count": 89,
     "metadata": {},
     "output_type": "execute_result"
    }
   ],
   "source": [
    "feature_importances = grid_search.best_estimator_.feature_importances_\n",
    "feature_importances"
   ]
  },
  {
   "cell_type": "code",
   "execution_count": 90,
   "metadata": {},
   "outputs": [
    {
     "data": {
      "text/plain": [
       "array([7.33442355e-02, 6.29090705e-02, 4.11437985e-02, 1.46726854e-02,\n",
       "       1.41064835e-02, 1.48742809e-02, 1.42575993e-02, 3.66158981e-01,\n",
       "       5.64191792e-02, 1.08792957e-01, 5.33510773e-02, 1.03114883e-02,\n",
       "       1.64780994e-01, 6.02803867e-05, 1.96041560e-03, 2.85647464e-03])"
      ]
     },
     "execution_count": 90,
     "metadata": {},
     "output_type": "execute_result"
    }
   ],
   "source": [
    "feature_importances = grid_search.best_estimator_.feature_importances_\n",
    "feature_importances"
   ]
  },
  {
   "cell_type": "code",
   "execution_count": 92,
   "metadata": {},
   "outputs": [
    {
     "data": {
      "text/plain": [
       "[(0.36615898061813423, 'median_income'),\n",
       " (0.16478099356159054, 'INLAND'),\n",
       " (0.10879295677551575, 'pop_per_hhold'),\n",
       " (0.07334423551601243, 'longitude'),\n",
       " (0.06290907048262032, 'latitude'),\n",
       " (0.056419179181954014, 'rooms_per_hhold'),\n",
       " (0.053351077347675815, 'bedrooms_per_room'),\n",
       " (0.04114379847872964, 'housing_median_age'),\n",
       " (0.014874280890402769, 'population'),\n",
       " (0.014672685420543239, 'total_rooms'),\n",
       " (0.014257599323407808, 'households'),\n",
       " (0.014106483453584104, 'total_bedrooms'),\n",
       " (0.010311488326303788, '<1H OCEAN'),\n",
       " (0.0028564746373201584, 'NEAR OCEAN'),\n",
       " (0.0019604155994780706, 'NEAR BAY'),\n",
       " (6.0280386727366e-05, 'ISLAND')]"
      ]
     },
     "execution_count": 92,
     "metadata": {},
     "output_type": "execute_result"
    }
   ],
   "source": [
    "\n",
    "extra_attribs = [\"rooms_per_hhold\", \"pop_per_hhold\", \"bedrooms_per_room\"]\n",
    "#cat_encoder = cat_pipeline.named_steps[\"cat_encoder\"] # old solution\n",
    "cat_encoder = full_pipeline.named_transformers_[\"cat\"]\n",
    "cat_one_hot_attribs = list(cat_encoder.categories_[0])\n",
    "\n",
    "attributes = num_attribs + extra_attribs + cat_one_hot_attribs\n",
    "sorted(zip(feature_importances, attributes), reverse=True)"
   ]
  },
  {
   "cell_type": "code",
   "execution_count": 93,
   "metadata": {},
   "outputs": [],
   "source": [
    "final_model = grid_search.best_estimator_\n",
    "\n",
    "X_test = strat_test_set.drop(\"median_house_value\", axis=1)\n",
    "y_test = strat_test_set[\"median_house_value\"].copy()\n",
    "\n",
    "X_test_prepared = full_pipeline.transform(X_test)\n",
    "final_predictions = final_model.predict(X_test_prepared)\n",
    "\n",
    "final_mse = mean_squared_error(y_test, final_predictions)\n",
    "final_rmse = np.sqrt(final_mse)"
   ]
  },
  {
   "cell_type": "code",
   "execution_count": 94,
   "metadata": {},
   "outputs": [],
   "source": [
    "final_model = grid_search.best_estimator_\n",
    "\n",
    "X_test = strat_test_set.drop(\"median_house_value\", axis=1)\n",
    "y_test = strat_test_set[\"median_house_value\"].copy()\n",
    "\n",
    "X_test_prepared = full_pipeline.transform(X_test)\n",
    "final_predictions = final_model.predict(X_test_prepared)\n",
    "\n",
    "final_mse = mean_squared_error(y_test, final_predictions)\n",
    "final_rmse = np.sqrt(final_mse)"
   ]
  },
  {
   "cell_type": "code",
   "execution_count": 95,
   "metadata": {},
   "outputs": [
    {
     "data": {
      "text/plain": [
       "47730.22690385927"
      ]
     },
     "execution_count": 95,
     "metadata": {},
     "output_type": "execute_result"
    }
   ],
   "source": [
    "final_rmse"
   ]
  },
  {
   "cell_type": "markdown",
   "metadata": {},
   "source": [
    "## Solution"
   ]
  },
  {
   "cell_type": "code",
   "execution_count": null,
   "metadata": {},
   "outputs": [],
   "source": []
  },
  {
   "cell_type": "markdown",
   "metadata": {},
   "source": [
    "## Appendix"
   ]
  },
  {
   "cell_type": "markdown",
   "metadata": {},
   "source": [
    "### Reference Links"
   ]
  },
  {
   "cell_type": "markdown",
   "metadata": {},
   "source": [
    "Hot Encoding using dummies and sckit-learn MultiLabelBinarizer:\n",
    "\n",
    "https://stackoverflow.com/questions/45312377/how-to-one-hot-encode-from-a-pandas-column-containing-a-list"
   ]
  },
  {
   "cell_type": "code",
   "execution_count": null,
   "metadata": {},
   "outputs": [],
   "source": []
  }
 ],
 "metadata": {
  "kernelspec": {
   "display_name": "Python 3",
   "language": "python",
   "name": "python3"
  },
  "language_info": {
   "codemirror_mode": {
    "name": "ipython",
    "version": 3
   },
   "file_extension": ".py",
   "mimetype": "text/x-python",
   "name": "python",
   "nbconvert_exporter": "python",
   "pygments_lexer": "ipython3",
   "version": "3.6.5"
  },
  "latex_envs": {
   "LaTeX_envs_menu_present": true,
   "autoclose": false,
   "autocomplete": true,
   "bibliofile": "biblio.bib",
   "cite_by": "apalike",
   "current_citInitial": 1,
   "eqLabelWithNumbers": true,
   "eqNumInitial": 1,
   "hotkeys": {
    "equation": "Ctrl-E",
    "itemize": "Ctrl-I"
   },
   "labels_anchors": false,
   "latex_user_defs": false,
   "report_style_numbering": false,
   "user_envs_cfg": false
  },
  "toc": {
   "base_numbering": 1,
   "nav_menu": {},
   "number_sections": true,
   "sideBar": true,
   "skip_h1_title": false,
   "title_cell": "Table of Contents",
   "title_sidebar": "Contents",
   "toc_cell": true,
   "toc_position": {
    "height": "498px",
    "left": "35px",
    "top": "152.573px",
    "width": "379px"
   },
   "toc_section_display": true,
   "toc_window_display": true
  },
  "varInspector": {
   "cols": {
    "lenName": 16,
    "lenType": 16,
    "lenVar": 40
   },
   "kernels_config": {
    "python": {
     "delete_cmd_postfix": "",
     "delete_cmd_prefix": "del ",
     "library": "var_list.py",
     "varRefreshCmd": "print(var_dic_list())"
    },
    "r": {
     "delete_cmd_postfix": ") ",
     "delete_cmd_prefix": "rm(",
     "library": "var_list.r",
     "varRefreshCmd": "cat(var_dic_list()) "
    }
   },
   "types_to_exclude": [
    "module",
    "function",
    "builtin_function_or_method",
    "instance",
    "_Feature"
   ],
   "window_display": false
  }
 },
 "nbformat": 4,
 "nbformat_minor": 2
}
